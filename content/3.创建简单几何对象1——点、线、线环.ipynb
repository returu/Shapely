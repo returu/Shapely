{
 "cells": [
  {
   "cell_type": "code",
   "execution_count": 1,
   "id": "0bee98af",
   "metadata": {},
   "outputs": [],
   "source": [
    "from shapely import Point , LineString , LinearRing , Polygon"
   ]
  },
  {
   "cell_type": "markdown",
   "id": "dfac4e12",
   "metadata": {},
   "source": [
    "# 1、Points（点状几何要素）："
   ]
  },
  {
   "cell_type": "markdown",
   "id": "647eb8e9",
   "metadata": {},
   "source": [
    "### class Point(coordinates)：点的构造函数接受位置坐标值或点的元组参数。"
   ]
  },
  {
   "cell_type": "code",
   "execution_count": 2,
   "id": "8f125250",
   "metadata": {},
   "outputs": [
    {
     "data": {
      "image/svg+xml": [
       "<svg xmlns=\"http://www.w3.org/2000/svg\" xmlns:xlink=\"http://www.w3.org/1999/xlink\" width=\"100.0\" height=\"100.0\" viewBox=\"-1.0 -1.0 2.0 2.0\" preserveAspectRatio=\"xMinYMin meet\"><g transform=\"matrix(1,0,0,-1,0,0.0)\"><circle cx=\"0.0\" cy=\"0.0\" r=\"0.06\" stroke=\"#555555\" stroke-width=\"0.02\" fill=\"#66cc99\" opacity=\"0.6\" /></g></svg>"
      ],
      "text/plain": [
       "<POINT (0 0)>"
      ]
     },
     "execution_count": 2,
     "metadata": {},
     "output_type": "execute_result"
    }
   ],
   "source": [
    "# 传入两个参数：点的x，y坐标\n",
    "point = Point(0.0, 0.0) \n",
    "point"
   ]
  },
  {
   "cell_type": "code",
   "execution_count": 3,
   "id": "9d2bc00e",
   "metadata": {},
   "outputs": [
    {
     "data": {
      "image/svg+xml": [
       "<svg xmlns=\"http://www.w3.org/2000/svg\" xmlns:xlink=\"http://www.w3.org/1999/xlink\" width=\"100.0\" height=\"100.0\" viewBox=\"-1.0 -1.0 2.0 2.0\" preserveAspectRatio=\"xMinYMin meet\"><g transform=\"matrix(1,0,0,-1,0,0.0)\"><circle cx=\"0.0\" cy=\"0.0\" r=\"0.06\" stroke=\"#555555\" stroke-width=\"0.02\" fill=\"#66cc99\" opacity=\"0.6\" /></g></svg>"
      ],
      "text/plain": [
       "<POINT (0 0)>"
      ]
     },
     "execution_count": 3,
     "metadata": {},
     "output_type": "execute_result"
    }
   ],
   "source": [
    "# 传入点的x，y坐标值组成的元祖\n",
    "Point((0.0, 0.0))"
   ]
  },
  {
   "cell_type": "code",
   "execution_count": 4,
   "id": "89a9b7a1",
   "metadata": {},
   "outputs": [
    {
     "data": {
      "image/svg+xml": [
       "<svg xmlns=\"http://www.w3.org/2000/svg\" xmlns:xlink=\"http://www.w3.org/1999/xlink\" width=\"100.0\" height=\"100.0\" viewBox=\"0.0 0.0 2.0 2.0\" preserveAspectRatio=\"xMinYMin meet\"><g transform=\"matrix(1,0,0,-1,0,2.0)\"><circle cx=\"1.0\" cy=\"1.0\" r=\"0.06\" stroke=\"#555555\" stroke-width=\"0.02\" fill=\"#66cc99\" opacity=\"0.6\" /></g></svg>"
      ],
      "text/plain": [
       "<POINT Z (1 1 2)>"
      ]
     },
     "execution_count": 4,
     "metadata": {},
     "output_type": "execute_result"
    }
   ],
   "source": [
    "# 传入三个参数：点的x，y坐标以及代表高程信息的z值\n",
    "Point(1,1,2)"
   ]
  },
  {
   "cell_type": "markdown",
   "id": "50e65501",
   "metadata": {},
   "source": [
    "### area、length属性：点的面积、长度均为零"
   ]
  },
  {
   "cell_type": "code",
   "execution_count": 5,
   "id": "e7d8559c",
   "metadata": {},
   "outputs": [
    {
     "data": {
      "text/plain": [
       "(0.0, 0.0)"
      ]
     },
     "execution_count": 5,
     "metadata": {},
     "output_type": "execute_result"
    }
   ],
   "source": [
    "point.area , point.length"
   ]
  },
  {
   "cell_type": "markdown",
   "id": "f89eae63",
   "metadata": {},
   "source": [
    "### bounds属性：点的x-y边界是一个（minx, miny, maxx, maxy）元组，边界坐标就是点本身的坐标值。"
   ]
  },
  {
   "cell_type": "code",
   "execution_count": 6,
   "id": "6a716781",
   "metadata": {},
   "outputs": [
    {
     "data": {
      "text/plain": [
       "(0.0, 0.0, 0.0, 0.0)"
      ]
     },
     "execution_count": 6,
     "metadata": {},
     "output_type": "execute_result"
    }
   ],
   "source": [
    "point.bounds"
   ]
  },
  {
   "cell_type": "markdown",
   "id": "8f81094f",
   "metadata": {},
   "source": [
    "### 点的坐标值通过coords、x、y和z属性访问。"
   ]
  },
  {
   "cell_type": "code",
   "execution_count": 7,
   "id": "632dfaf0",
   "metadata": {},
   "outputs": [
    {
     "data": {
      "text/plain": [
       "[(0.0, 0.0)]"
      ]
     },
     "execution_count": 7,
     "metadata": {},
     "output_type": "execute_result"
    }
   ],
   "source": [
    "list(point.coords)"
   ]
  },
  {
   "cell_type": "code",
   "execution_count": 8,
   "id": "ba551a37",
   "metadata": {},
   "outputs": [
    {
     "data": {
      "text/plain": [
       "(0.0, 0.0)"
      ]
     },
     "execution_count": 8,
     "metadata": {},
     "output_type": "execute_result"
    }
   ],
   "source": [
    "point.x , point.y"
   ]
  },
  {
   "cell_type": "code",
   "execution_count": 9,
   "id": "06f03539",
   "metadata": {},
   "outputs": [
    {
     "data": {
      "text/plain": [
       "[(1.0, 1.0, 2.0)]"
      ]
     },
     "execution_count": 9,
     "metadata": {},
     "output_type": "execute_result"
    }
   ],
   "source": [
    "list(Point(1,1,2).coords)"
   ]
  },
  {
   "cell_type": "code",
   "execution_count": 10,
   "id": "9a3cbb44",
   "metadata": {},
   "outputs": [
    {
     "data": {
      "text/plain": [
       "(1.0, 1.0, 2.0)"
      ]
     },
     "execution_count": 10,
     "metadata": {},
     "output_type": "execute_result"
    }
   ],
   "source": [
    "Point(1,1,2).x , Point(1,1,2).y , Point(1,1,2).z"
   ]
  },
  {
   "cell_type": "markdown",
   "id": "21b2e1a6",
   "metadata": {},
   "source": [
    "### coords属性也支持切片操作。"
   ]
  },
  {
   "cell_type": "code",
   "execution_count": 11,
   "id": "48043ca3",
   "metadata": {},
   "outputs": [
    {
     "data": {
      "text/plain": [
       "[(0.0, 0.0)]"
      ]
     },
     "execution_count": 11,
     "metadata": {},
     "output_type": "execute_result"
    }
   ],
   "source": [
    "point.coords[:]"
   ]
  },
  {
   "cell_type": "code",
   "execution_count": 12,
   "id": "952f9a77",
   "metadata": {},
   "outputs": [
    {
     "data": {
      "text/plain": [
       "(0.0, 0.0)"
      ]
     },
     "execution_count": 12,
     "metadata": {},
     "output_type": "execute_result"
    }
   ],
   "source": [
    "point.coords[0]"
   ]
  },
  {
   "cell_type": "markdown",
   "id": "dc48373e",
   "metadata": {},
   "source": [
    "### 点的构造函数也接受另一个点的实例，从而产生一个副本。"
   ]
  },
  {
   "cell_type": "code",
   "execution_count": 13,
   "id": "8449ef96",
   "metadata": {},
   "outputs": [
    {
     "data": {
      "image/svg+xml": [
       "<svg xmlns=\"http://www.w3.org/2000/svg\" xmlns:xlink=\"http://www.w3.org/1999/xlink\" width=\"100.0\" height=\"100.0\" viewBox=\"-1.0 -1.0 2.0 2.0\" preserveAspectRatio=\"xMinYMin meet\"><g transform=\"matrix(1,0,0,-1,0,0.0)\"><circle cx=\"0.0\" cy=\"0.0\" r=\"0.06\" stroke=\"#555555\" stroke-width=\"0.02\" fill=\"#66cc99\" opacity=\"0.6\" /></g></svg>"
      ],
      "text/plain": [
       "<POINT (0 0)>"
      ]
     },
     "execution_count": 13,
     "metadata": {},
     "output_type": "execute_result"
    }
   ],
   "source": [
    "Point(point)"
   ]
  },
  {
   "cell_type": "code",
   "execution_count": 14,
   "id": "ba07a436",
   "metadata": {},
   "outputs": [
    {
     "data": {
      "text/plain": [
       "'Point'"
      ]
     },
     "execution_count": 14,
     "metadata": {},
     "output_type": "execute_result"
    }
   ],
   "source": [
    "# 查看几何对象的几何类型\n",
    "Point(point).geom_type"
   ]
  },
  {
   "cell_type": "markdown",
   "id": "2c2eda12",
   "metadata": {},
   "source": [
    "# 2、LineStrings（线状几何要素）："
   ]
  },
  {
   "cell_type": "markdown",
   "id": "85ae4788",
   "metadata": {},
   "source": [
    "### class LineString(coordinates) ：LineString构造函数接收2个或多个（x, y[, z]）点元祖。"
   ]
  },
  {
   "cell_type": "code",
   "execution_count": 15,
   "id": "d9cc89e5",
   "metadata": {},
   "outputs": [
    {
     "data": {
      "image/svg+xml": [
       "<svg xmlns=\"http://www.w3.org/2000/svg\" xmlns:xlink=\"http://www.w3.org/1999/xlink\" width=\"100.0\" height=\"100.0\" viewBox=\"-0.08 -0.08 2.16 1.1600000000000001\" preserveAspectRatio=\"xMinYMin meet\"><g transform=\"matrix(1,0,0,-1,0,1.0)\"><polyline fill=\"none\" stroke=\"#66cc99\" stroke-width=\"0.0432\" points=\"0.0,0.0 1.0,1.0 2.0,1.0\" opacity=\"0.8\" /></g></svg>"
      ],
      "text/plain": [
       "<LINESTRING (0 0, 1 1, 2 1)>"
      ]
     },
     "execution_count": 15,
     "metadata": {},
     "output_type": "execute_result"
    }
   ],
   "source": [
    "line = LineString([(0,0),(1,1),(2,1)])\n",
    "line"
   ]
  },
  {
   "cell_type": "markdown",
   "id": "6d550541",
   "metadata": {},
   "source": [
    "### area、length属性：线的面积为零，长度不为零。"
   ]
  },
  {
   "cell_type": "code",
   "execution_count": 16,
   "id": "5019ed9a",
   "metadata": {},
   "outputs": [
    {
     "data": {
      "text/plain": [
       "(0.0, 2.414213562373095)"
      ]
     },
     "execution_count": 16,
     "metadata": {},
     "output_type": "execute_result"
    }
   ],
   "source": [
    "line.area , line.length"
   ]
  },
  {
   "cell_type": "markdown",
   "id": "1d42333b",
   "metadata": {},
   "source": [
    "### bounds属性：线的x-y边界是一个（minx, miny, maxx, maxy）元组。"
   ]
  },
  {
   "cell_type": "code",
   "execution_count": 17,
   "id": "365f1375",
   "metadata": {},
   "outputs": [
    {
     "data": {
      "text/plain": [
       "(0.0, 0.0, 2.0, 1.0)"
      ]
     },
     "execution_count": 17,
     "metadata": {},
     "output_type": "execute_result"
    }
   ],
   "source": [
    "line.bounds"
   ]
  },
  {
   "cell_type": "markdown",
   "id": "d0579f1e",
   "metadata": {},
   "source": [
    "### 线对象定义的坐标值可以通过coords属性访问。"
   ]
  },
  {
   "cell_type": "code",
   "execution_count": 18,
   "id": "d3e53188",
   "metadata": {},
   "outputs": [
    {
     "data": {
      "text/plain": [
       "3"
      ]
     },
     "execution_count": 18,
     "metadata": {},
     "output_type": "execute_result"
    }
   ],
   "source": [
    "len(line.coords)"
   ]
  },
  {
   "cell_type": "code",
   "execution_count": 19,
   "id": "d35bd886",
   "metadata": {},
   "outputs": [
    {
     "data": {
      "text/plain": [
       "[(0.0, 0.0), (1.0, 1.0), (2.0, 1.0)]"
      ]
     },
     "execution_count": 19,
     "metadata": {},
     "output_type": "execute_result"
    }
   ],
   "source": [
    "list(line.coords)"
   ]
  },
  {
   "cell_type": "markdown",
   "id": "766b8f3c",
   "metadata": {},
   "source": [
    "### coords属性支持切片操作。"
   ]
  },
  {
   "cell_type": "code",
   "execution_count": 20,
   "id": "6d49c877",
   "metadata": {},
   "outputs": [
    {
     "data": {
      "text/plain": [
       "[(0.0, 0.0), (1.0, 1.0), (2.0, 1.0)]"
      ]
     },
     "execution_count": 20,
     "metadata": {},
     "output_type": "execute_result"
    }
   ],
   "source": [
    "line.coords[:]"
   ]
  },
  {
   "cell_type": "code",
   "execution_count": 21,
   "id": "c9f880c8",
   "metadata": {},
   "outputs": [
    {
     "data": {
      "text/plain": [
       "(0.0, 0.0)"
      ]
     },
     "execution_count": 21,
     "metadata": {},
     "output_type": "execute_result"
    }
   ],
   "source": [
    "line.coords[0]"
   ]
  },
  {
   "cell_type": "markdown",
   "id": "d4ccce87",
   "metadata": {},
   "source": [
    "### 线构造函数也接收另一个LineString实例，从而得到一个副本。"
   ]
  },
  {
   "cell_type": "code",
   "execution_count": 22,
   "id": "fa5dfe67",
   "metadata": {},
   "outputs": [
    {
     "data": {
      "image/svg+xml": [
       "<svg xmlns=\"http://www.w3.org/2000/svg\" xmlns:xlink=\"http://www.w3.org/1999/xlink\" width=\"100.0\" height=\"100.0\" viewBox=\"-0.08 -0.08 2.16 1.1600000000000001\" preserveAspectRatio=\"xMinYMin meet\"><g transform=\"matrix(1,0,0,-1,0,1.0)\"><polyline fill=\"none\" stroke=\"#66cc99\" stroke-width=\"0.0432\" points=\"0.0,0.0 1.0,1.0 2.0,1.0\" opacity=\"0.8\" /></g></svg>"
      ],
      "text/plain": [
       "<LINESTRING (0 0, 1 1, 2 1)>"
      ]
     },
     "execution_count": 22,
     "metadata": {},
     "output_type": "execute_result"
    }
   ],
   "source": [
    "LineString(line)"
   ]
  },
  {
   "cell_type": "markdown",
   "id": "604d3963",
   "metadata": {},
   "source": [
    "### LineString也可以使用混合点实例或坐标元祖来构造。各个坐标值会被复制到新的对象中。"
   ]
  },
  {
   "cell_type": "code",
   "execution_count": 23,
   "id": "a25473fa",
   "metadata": {},
   "outputs": [
    {
     "data": {
      "image/svg+xml": [
       "<svg xmlns=\"http://www.w3.org/2000/svg\" xmlns:xlink=\"http://www.w3.org/1999/xlink\" width=\"100.0\" height=\"100.0\" viewBox=\"-0.12 -0.12 2.24 3.24\" preserveAspectRatio=\"xMinYMin meet\"><g transform=\"matrix(1,0,0,-1,0,3.0)\"><polyline fill=\"none\" stroke=\"#66cc99\" stroke-width=\"0.06480000000000001\" points=\"0.0,0.0 1.0,1.0 2.0,3.0\" opacity=\"0.8\" /></g></svg>"
      ],
      "text/plain": [
       "<LINESTRING (0 0, 1 1, 2 3)>"
      ]
     },
     "execution_count": 23,
     "metadata": {},
     "output_type": "execute_result"
    }
   ],
   "source": [
    "LineString([Point(0,0) , (1,1) , Point(2,3)])"
   ]
  },
  {
   "cell_type": "markdown",
   "id": "ddd080d1",
   "metadata": {},
   "source": [
    "# 3、LinearRing（线环几何要素）："
   ]
  },
  {
   "cell_type": "code",
   "execution_count": 24,
   "id": "e7c8fd22",
   "metadata": {},
   "outputs": [
    {
     "data": {
      "image/svg+xml": [
       "<svg xmlns=\"http://www.w3.org/2000/svg\" xmlns:xlink=\"http://www.w3.org/1999/xlink\" width=\"100.0\" height=\"100.0\" viewBox=\"-0.04 -0.04 1.08 1.08\" preserveAspectRatio=\"xMinYMin meet\"><g transform=\"matrix(1,0,0,-1,0,1.0)\"><polyline fill=\"none\" stroke=\"#66cc99\" stroke-width=\"0.0216\" points=\"0.0,0.0 1.0,1.0 1.0,0.0 0.0,0.0\" opacity=\"0.8\" /></g></svg>"
      ],
      "text/plain": [
       "<LINEARRING (0 0, 1 1, 1 0, 0 0)>"
      ]
     },
     "execution_count": 24,
     "metadata": {},
     "output_type": "execute_result"
    }
   ],
   "source": [
    "ring = LinearRing([(0,0) , (1,1) , (1,0)])\n",
    "ring"
   ]
  },
  {
   "cell_type": "markdown",
   "id": "0f1d5575",
   "metadata": {},
   "source": [
    "### area、length属性：一个LinearRing的面积为零，长度不为零。"
   ]
  },
  {
   "cell_type": "code",
   "execution_count": 25,
   "id": "6689e4e2",
   "metadata": {},
   "outputs": [
    {
     "data": {
      "text/plain": [
       "(0.0, 3.414213562373095)"
      ]
     },
     "execution_count": 25,
     "metadata": {},
     "output_type": "execute_result"
    }
   ],
   "source": [
    "ring.area , ring.length"
   ]
  },
  {
   "cell_type": "markdown",
   "id": "e15ec275",
   "metadata": {},
   "source": [
    "### bounds属性：一个LinearRing的边界是一个元组（minx, miny, maxx, maxy）。"
   ]
  },
  {
   "cell_type": "code",
   "execution_count": 26,
   "id": "18925510",
   "metadata": {},
   "outputs": [
    {
     "data": {
      "text/plain": [
       "(0.0, 0.0, 1.0, 1.0)"
      ]
     },
     "execution_count": 26,
     "metadata": {},
     "output_type": "execute_result"
    }
   ],
   "source": [
    "ring.bounds"
   ]
  },
  {
   "cell_type": "markdown",
   "id": "a70ad4a2",
   "metadata": {},
   "source": [
    "### 定义的坐标值可以通过coords属性访问的。"
   ]
  },
  {
   "cell_type": "code",
   "execution_count": 27,
   "id": "32bfbc0d",
   "metadata": {},
   "outputs": [
    {
     "data": {
      "text/plain": [
       "<shapely.coords.CoordinateSequence at 0x1cb9d646fd0>"
      ]
     },
     "execution_count": 27,
     "metadata": {},
     "output_type": "execute_result"
    }
   ],
   "source": [
    "ring.coords"
   ]
  },
  {
   "cell_type": "code",
   "execution_count": 28,
   "id": "fd36f4e9",
   "metadata": {},
   "outputs": [
    {
     "data": {
      "text/plain": [
       "4"
      ]
     },
     "execution_count": 28,
     "metadata": {},
     "output_type": "execute_result"
    }
   ],
   "source": [
    "len(ring.coords)"
   ]
  },
  {
   "cell_type": "code",
   "execution_count": 29,
   "id": "da632464",
   "metadata": {},
   "outputs": [
    {
     "data": {
      "text/plain": [
       "[(0.0, 0.0), (1.0, 1.0), (1.0, 0.0), (0.0, 0.0)]"
      ]
     },
     "execution_count": 29,
     "metadata": {},
     "output_type": "execute_result"
    }
   ],
   "source": [
    "list(ring.coords)"
   ]
  },
  {
   "cell_type": "markdown",
   "id": "2bb5dc46",
   "metadata": {},
   "source": [
    "### LinearRing构造函数也接收另一个LineString或LinearRing实例，从而得到一个副本。"
   ]
  },
  {
   "cell_type": "code",
   "execution_count": 30,
   "id": "624fd57e",
   "metadata": {},
   "outputs": [
    {
     "data": {
      "image/svg+xml": [
       "<svg xmlns=\"http://www.w3.org/2000/svg\" xmlns:xlink=\"http://www.w3.org/1999/xlink\" width=\"100.0\" height=\"100.0\" viewBox=\"-0.04 -0.04 1.08 1.08\" preserveAspectRatio=\"xMinYMin meet\"><g transform=\"matrix(1,0,0,-1,0,1.0)\"><polyline fill=\"none\" stroke=\"#66cc99\" stroke-width=\"0.0216\" points=\"0.0,0.0 1.0,1.0 1.0,0.0 0.0,0.0\" opacity=\"0.8\" /></g></svg>"
      ],
      "text/plain": [
       "<LINEARRING (0 0, 1 1, 1 0, 0 0)>"
      ]
     },
     "execution_count": 30,
     "metadata": {},
     "output_type": "execute_result"
    }
   ],
   "source": [
    "LinearRing(ring)"
   ]
  },
  {
   "cell_type": "markdown",
   "id": "54ce780d",
   "metadata": {},
   "source": [
    "### 与LineString一样，可以使用混合点实例或坐标元祖来构造。"
   ]
  },
  {
   "cell_type": "code",
   "execution_count": 31,
   "id": "a282b20b",
   "metadata": {},
   "outputs": [
    {
     "data": {
      "image/svg+xml": [
       "<svg xmlns=\"http://www.w3.org/2000/svg\" xmlns:xlink=\"http://www.w3.org/1999/xlink\" width=\"100.0\" height=\"100.0\" viewBox=\"-0.04 -0.04 1.08 1.08\" preserveAspectRatio=\"xMinYMin meet\"><g transform=\"matrix(1,0,0,-1,0,1.0)\"><polyline fill=\"none\" stroke=\"#66cc99\" stroke-width=\"0.0216\" points=\"0.0,0.0 1.0,1.0 1.0,0.0 0.0,0.0\" opacity=\"0.8\" /></g></svg>"
      ],
      "text/plain": [
       "<LINEARRING (0 0, 1 1, 1 0, 0 0)>"
      ]
     },
     "execution_count": 31,
     "metadata": {},
     "output_type": "execute_result"
    }
   ],
   "source": [
    "LinearRing([Point(0,0) , (1,1) , Point(1,0)])"
   ]
  },
  {
   "cell_type": "code",
   "execution_count": null,
   "id": "60f621e2",
   "metadata": {},
   "outputs": [],
   "source": []
  },
  {
   "cell_type": "code",
   "execution_count": null,
   "id": "3c05f7bc",
   "metadata": {},
   "outputs": [],
   "source": []
  },
  {
   "cell_type": "code",
   "execution_count": null,
   "id": "265f2226",
   "metadata": {},
   "outputs": [],
   "source": []
  },
  {
   "cell_type": "code",
   "execution_count": null,
   "id": "1c8e0853",
   "metadata": {},
   "outputs": [],
   "source": []
  },
  {
   "cell_type": "code",
   "execution_count": null,
   "id": "669c3bfb",
   "metadata": {},
   "outputs": [],
   "source": []
  },
  {
   "cell_type": "code",
   "execution_count": null,
   "id": "b31978d1",
   "metadata": {},
   "outputs": [],
   "source": []
  }
 ],
 "metadata": {
  "kernelspec": {
   "display_name": "Python 3 (ipykernel)",
   "language": "python",
   "name": "python3"
  },
  "language_info": {
   "codemirror_mode": {
    "name": "ipython",
    "version": 3
   },
   "file_extension": ".py",
   "mimetype": "text/x-python",
   "name": "python",
   "nbconvert_exporter": "python",
   "pygments_lexer": "ipython3",
   "version": "3.9.16"
  }
 },
 "nbformat": 4,
 "nbformat_minor": 5
}
