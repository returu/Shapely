{
 "cells": [
  {
   "cell_type": "code",
   "execution_count": 1,
   "id": "0bee98af",
   "metadata": {},
   "outputs": [],
   "source": [
    "from shapely import Point , LineString , LinearRing , Polygon"
   ]
  },
  {
   "cell_type": "markdown",
   "id": "5fcbae67",
   "metadata": {},
   "source": [
    "# 1、Polygons（多边形几何要素）："
   ]
  },
  {
   "cell_type": "code",
   "execution_count": 2,
   "id": "456c17b6",
   "metadata": {},
   "outputs": [
    {
     "data": {
      "image/svg+xml": [
       "<svg xmlns=\"http://www.w3.org/2000/svg\" xmlns:xlink=\"http://www.w3.org/1999/xlink\" width=\"100.0\" height=\"100.0\" viewBox=\"-0.04 -0.04 1.08 1.08\" preserveAspectRatio=\"xMinYMin meet\"><g transform=\"matrix(1,0,0,-1,0,1.0)\"><path fill-rule=\"evenodd\" fill=\"#66cc99\" stroke=\"#555555\" stroke-width=\"0.0216\" opacity=\"0.6\" d=\"M 0.0,0.0 L 1.0,1.0 L 1.0,0.0 L 0.0,0.0 z\" /></g></svg>"
      ],
      "text/plain": [
       "<POLYGON ((0 0, 1 1, 1 0, 0 0))>"
      ]
     },
     "execution_count": 2,
     "metadata": {},
     "output_type": "execute_result"
    }
   ],
   "source": [
    "polygon = Polygon([(0, 0), (1, 1), (1, 0)])\n",
    "polygon"
   ]
  },
  {
   "cell_type": "markdown",
   "id": "388ae054",
   "metadata": {},
   "source": [
    "### area、length属性：一个多边形具有非零的面积和非零的长度。"
   ]
  },
  {
   "cell_type": "code",
   "execution_count": 3,
   "id": "1dae535f",
   "metadata": {},
   "outputs": [
    {
     "data": {
      "text/plain": [
       "(0.5, 3.414213562373095)"
      ]
     },
     "execution_count": 3,
     "metadata": {},
     "output_type": "execute_result"
    }
   ],
   "source": [
    "polygon.area , polygon.length"
   ]
  },
  {
   "cell_type": "markdown",
   "id": "bf42dec4",
   "metadata": {},
   "source": [
    "### bounds属性它的边界是一个元组（minx, miny, maxx, maxy）。"
   ]
  },
  {
   "cell_type": "code",
   "execution_count": 4,
   "id": "0c7fb3c4",
   "metadata": {},
   "outputs": [
    {
     "data": {
      "text/plain": [
       "(0.0, 0.0, 1.0, 1.0)"
      ]
     },
     "execution_count": 4,
     "metadata": {},
     "output_type": "execute_result"
    }
   ],
   "source": [
    "polygon.bounds"
   ]
  },
  {
   "cell_type": "markdown",
   "id": "6ea74626",
   "metadata": {},
   "source": [
    "### 内环和外环可以通过exterior和interiors属性进行访问。"
   ]
  },
  {
   "cell_type": "code",
   "execution_count": 5,
   "id": "2b1e8a13",
   "metadata": {},
   "outputs": [
    {
     "data": {
      "image/svg+xml": [
       "<svg xmlns=\"http://www.w3.org/2000/svg\" xmlns:xlink=\"http://www.w3.org/1999/xlink\" width=\"100.0\" height=\"100.0\" viewBox=\"-0.04 -0.04 1.08 1.08\" preserveAspectRatio=\"xMinYMin meet\"><g transform=\"matrix(1,0,0,-1,0,1.0)\"><polyline fill=\"none\" stroke=\"#66cc99\" stroke-width=\"0.0216\" points=\"0.0,0.0 1.0,1.0 1.0,0.0 0.0,0.0\" opacity=\"0.8\" /></g></svg>"
      ],
      "text/plain": [
       "<LINEARRING (0 0, 1 1, 1 0, 0 0)>"
      ]
     },
     "execution_count": 5,
     "metadata": {},
     "output_type": "execute_result"
    }
   ],
   "source": [
    "# 外环\n",
    "polygon.exterior"
   ]
  },
  {
   "cell_type": "code",
   "execution_count": 6,
   "id": "b9b42425",
   "metadata": {},
   "outputs": [
    {
     "data": {
      "text/plain": [
       "[(0.0, 0.0), (1.0, 1.0), (1.0, 0.0), (0.0, 0.0)]"
      ]
     },
     "execution_count": 6,
     "metadata": {},
     "output_type": "execute_result"
    }
   ],
   "source": [
    "# 外环坐标\n",
    "list(polygon.exterior.coords)"
   ]
  },
  {
   "cell_type": "code",
   "execution_count": 7,
   "id": "d1a8951c",
   "metadata": {},
   "outputs": [
    {
     "data": {
      "text/plain": [
       "[]"
      ]
     },
     "execution_count": 7,
     "metadata": {},
     "output_type": "execute_result"
    }
   ],
   "source": [
    "# 无内环，因此结果为空\n",
    "list(polygon.interiors)"
   ]
  },
  {
   "cell_type": "markdown",
   "id": "aefdb1a1",
   "metadata": {},
   "source": [
    "### Polygon构造函数也接受LineString和LinearRing实例。"
   ]
  },
  {
   "cell_type": "code",
   "execution_count": 8,
   "id": "c5138463",
   "metadata": {},
   "outputs": [
    {
     "data": {
      "image/svg+xml": [
       "<svg xmlns=\"http://www.w3.org/2000/svg\" xmlns:xlink=\"http://www.w3.org/1999/xlink\" width=\"100.0\" height=\"100.0\" viewBox=\"-0.04 -0.04 1.08 1.08\" preserveAspectRatio=\"xMinYMin meet\"><g transform=\"matrix(1,0,0,-1,0,1.0)\"><path fill-rule=\"evenodd\" fill=\"#66cc99\" stroke=\"#555555\" stroke-width=\"0.0216\" opacity=\"0.6\" d=\"M 0.0,0.0 L 1.0,1.0 L 0.0,1.0 L 0.0,0.0 z\" /></g></svg>"
      ],
      "text/plain": [
       "<POLYGON ((0 0, 1 1, 0 1, 0 0))>"
      ]
     },
     "execution_count": 8,
     "metadata": {},
     "output_type": "execute_result"
    }
   ],
   "source": [
    "polygon2 = Polygon(LineString([(0, 0), (1, 1), (0, 1)]))\n",
    "polygon2"
   ]
  },
  {
   "cell_type": "markdown",
   "id": "f23311e7",
   "metadata": {},
   "source": [
    "# 2.矩形几何要素："
   ]
  },
  {
   "cell_type": "markdown",
   "id": "814851d0",
   "metadata": {},
   "source": [
    "### shapely.box(minx, miny, maxx, maxy, ccw=True)：根据提供的边界框值生成一个矩形的多边形，默认为逆时针顺序。"
   ]
  },
  {
   "cell_type": "code",
   "execution_count": 9,
   "id": "386051d1",
   "metadata": {},
   "outputs": [],
   "source": [
    "from shapely import box"
   ]
  },
  {
   "cell_type": "code",
   "execution_count": 10,
   "id": "5da7337a",
   "metadata": {},
   "outputs": [
    {
     "data": {
      "image/svg+xml": [
       "<svg xmlns=\"http://www.w3.org/2000/svg\" xmlns:xlink=\"http://www.w3.org/1999/xlink\" width=\"100.0\" height=\"100.0\" viewBox=\"-0.04 -0.04 1.08 1.08\" preserveAspectRatio=\"xMinYMin meet\"><g transform=\"matrix(1,0,0,-1,0,1.0)\"><path fill-rule=\"evenodd\" fill=\"#66cc99\" stroke=\"#555555\" stroke-width=\"0.0216\" opacity=\"0.6\" d=\"M 1.0,0.0 L 1.0,1.0 L 0.0,1.0 L 0.0,0.0 L 1.0,0.0 z\" /></g></svg>"
      ],
      "text/plain": [
       "<POLYGON ((1 0, 1 1, 0 1, 0 0, 1 0))>"
      ]
     },
     "execution_count": 10,
     "metadata": {},
     "output_type": "execute_result"
    }
   ],
   "source": [
    "b = box(0,0,1,1)\n",
    "b"
   ]
  },
  {
   "cell_type": "markdown",
   "id": "788e213f",
   "metadata": {},
   "source": [
    "### shapely.geometry.polygon.orient(polygon, sign=1.0)：返回给定多边形正确方向的副本。结果中带符号区域将具有给定的符号。sign为1.0意味着矩形外部环的坐标将是逆时针方向的，内部环（孔）将是顺时针方向的。"
   ]
  },
  {
   "cell_type": "code",
   "execution_count": 11,
   "id": "cabbdcb3",
   "metadata": {},
   "outputs": [],
   "source": [
    "import shapely"
   ]
  },
  {
   "cell_type": "code",
   "execution_count": 12,
   "id": "15fac9ed",
   "metadata": {},
   "outputs": [
    {
     "data": {
      "image/svg+xml": [
       "<svg xmlns=\"http://www.w3.org/2000/svg\" xmlns:xlink=\"http://www.w3.org/1999/xlink\" width=\"100.0\" height=\"100.0\" viewBox=\"-0.04 -0.04 1.08 1.08\" preserveAspectRatio=\"xMinYMin meet\"><g transform=\"matrix(1,0,0,-1,0,1.0)\"><path fill-rule=\"evenodd\" fill=\"#66cc99\" stroke=\"#555555\" stroke-width=\"0.0216\" opacity=\"0.6\" d=\"M 1.0,0.0 L 1.0,1.0 L 0.0,1.0 L 0.0,0.0 L 1.0,0.0 z\" /></g></svg>"
      ],
      "text/plain": [
       "<POLYGON ((1 0, 1 1, 0 1, 0 0, 1 0))>"
      ]
     },
     "execution_count": 12,
     "metadata": {},
     "output_type": "execute_result"
    }
   ],
   "source": [
    "shapely.geometry.polygon.orient(b, sign=1)"
   ]
  },
  {
   "cell_type": "code",
   "execution_count": 13,
   "id": "bf8f4553",
   "metadata": {},
   "outputs": [
    {
     "data": {
      "text/plain": [
       "[(1.0, 0.0), (1.0, 1.0), (0.0, 1.0), (0.0, 0.0), (1.0, 0.0)]"
      ]
     },
     "execution_count": 13,
     "metadata": {},
     "output_type": "execute_result"
    }
   ],
   "source": [
    "list(shapely.geometry.polygon.orient(b, sign=1).exterior.coords)"
   ]
  },
  {
   "cell_type": "code",
   "execution_count": 14,
   "id": "e89403f6",
   "metadata": {},
   "outputs": [
    {
     "data": {
      "text/plain": [
       "[(1.0, 0.0), (0.0, 0.0), (0.0, 1.0), (1.0, 1.0), (1.0, 0.0)]"
      ]
     },
     "execution_count": 14,
     "metadata": {},
     "output_type": "execute_result"
    }
   ],
   "source": [
    "list(shapely.geometry.polygon.orient(b, sign=-1).exterior.coords)"
   ]
  },
  {
   "cell_type": "markdown",
   "id": "bf4a1578",
   "metadata": {},
   "source": [
    "# 3.创建带空洞的面："
   ]
  },
  {
   "cell_type": "code",
   "execution_count": 15,
   "id": "b8954045",
   "metadata": {},
   "outputs": [],
   "source": [
    "hole1 = LinearRing([(1,1) , (2,1) , (2,4) , (1,4)])\n",
    "\n",
    "hole2 = LinearRing([(3,1) , (3,4) , (4,4)])"
   ]
  },
  {
   "cell_type": "code",
   "execution_count": 16,
   "id": "a49d9b23",
   "metadata": {},
   "outputs": [
    {
     "data": {
      "image/svg+xml": [
       "<svg xmlns=\"http://www.w3.org/2000/svg\" xmlns:xlink=\"http://www.w3.org/1999/xlink\" width=\"100.0\" height=\"100.0\" viewBox=\"-0.2 -0.2 5.4 5.4\" preserveAspectRatio=\"xMinYMin meet\"><g transform=\"matrix(1,0,0,-1,0,5.0)\"><path fill-rule=\"evenodd\" fill=\"#66cc99\" stroke=\"#555555\" stroke-width=\"0.10800000000000001\" opacity=\"0.6\" d=\"M 0.0,0.0 L 0.0,5.0 L 5.0,5.0 L 5.0,0.0 L 0.0,0.0 z M 1.0,1.0 L 2.0,1.0 L 2.0,4.0 L 1.0,4.0 L 1.0,1.0 z M 3.0,1.0 L 3.0,4.0 L 4.0,4.0 L 3.0,1.0 z\" /></g></svg>"
      ],
      "text/plain": [
       "<POLYGON ((0 0, 0 5, 5 5, 5 0, 0 0), (1 1, 2 1, 2 4, 1 4, 1 1), (3 1, 3 4, 4...>"
      ]
     },
     "execution_count": 16,
     "metadata": {},
     "output_type": "execute_result"
    }
   ],
   "source": [
    "polygon_hole = Polygon([(0,0) , (0,5) , (5,5) , (5,0)] , [hole1 , hole2])\n",
    "polygon_hole"
   ]
  },
  {
   "cell_type": "code",
   "execution_count": 17,
   "id": "9405809a",
   "metadata": {},
   "outputs": [
    {
     "data": {
      "text/plain": [
       "[(0.0, 0.0), (0.0, 5.0), (5.0, 5.0), (5.0, 0.0), (0.0, 0.0)]"
      ]
     },
     "execution_count": 17,
     "metadata": {},
     "output_type": "execute_result"
    }
   ],
   "source": [
    "# 获取面外环中的点坐标\n",
    "polygon_hole.exterior.coords[:]"
   ]
  },
  {
   "cell_type": "code",
   "execution_count": 18,
   "id": "8344150e",
   "metadata": {},
   "outputs": [
    {
     "data": {
      "text/plain": [
       "[<LINEARRING (1 1, 2 1, 2 4, 1 4, 1 1)>, <LINEARRING (3 1, 3 4, 4 4, 3 1)>]"
      ]
     },
     "execution_count": 18,
     "metadata": {},
     "output_type": "execute_result"
    }
   ],
   "source": [
    "# 获取面内环的点坐标\n",
    "polygon_hole.interiors[:]"
   ]
  },
  {
   "cell_type": "code",
   "execution_count": 19,
   "id": "376ade9e",
   "metadata": {},
   "outputs": [
    {
     "data": {
      "image/svg+xml": [
       "<svg xmlns=\"http://www.w3.org/2000/svg\" xmlns:xlink=\"http://www.w3.org/1999/xlink\" width=\"100.0\" height=\"100.0\" viewBox=\"0.88 0.88 1.2400000000000002 3.24\" preserveAspectRatio=\"xMinYMin meet\"><g transform=\"matrix(1,0,0,-1,0,5.0)\"><polyline fill=\"none\" stroke=\"#66cc99\" stroke-width=\"0.06480000000000001\" points=\"1.0,1.0 2.0,1.0 2.0,4.0 1.0,4.0 1.0,1.0\" opacity=\"0.8\" /></g></svg>"
      ],
      "text/plain": [
       "<LINEARRING (1 1, 2 1, 2 4, 1 4, 1 1)>"
      ]
     },
     "execution_count": 19,
     "metadata": {},
     "output_type": "execute_result"
    }
   ],
   "source": [
    "polygon_hole.interiors[0]"
   ]
  },
  {
   "cell_type": "code",
   "execution_count": 20,
   "id": "ff7590f7",
   "metadata": {},
   "outputs": [
    {
     "data": {
      "image/svg+xml": [
       "<svg xmlns=\"http://www.w3.org/2000/svg\" xmlns:xlink=\"http://www.w3.org/1999/xlink\" width=\"100.0\" height=\"100.0\" viewBox=\"2.88 0.88 1.2400000000000002 3.24\" preserveAspectRatio=\"xMinYMin meet\"><g transform=\"matrix(1,0,0,-1,0,5.0)\"><polyline fill=\"none\" stroke=\"#66cc99\" stroke-width=\"0.06480000000000001\" points=\"3.0,1.0 3.0,4.0 4.0,4.0 3.0,1.0\" opacity=\"0.8\" /></g></svg>"
      ],
      "text/plain": [
       "<LINEARRING (3 1, 3 4, 4 4, 3 1)>"
      ]
     },
     "execution_count": 20,
     "metadata": {},
     "output_type": "execute_result"
    }
   ],
   "source": [
    "polygon_hole.interiors[1]"
   ]
  },
  {
   "cell_type": "code",
   "execution_count": 21,
   "id": "6e03fe29",
   "metadata": {},
   "outputs": [
    {
     "data": {
      "text/plain": [
       "'LinearRing'"
      ]
     },
     "execution_count": 21,
     "metadata": {},
     "output_type": "execute_result"
    }
   ],
   "source": [
    "# 两个内环都是LinearRing对象\n",
    "polygon_hole.interiors[0].geom_type"
   ]
  },
  {
   "cell_type": "markdown",
   "id": "6cd0c669",
   "metadata": {},
   "source": [
    "### 获取内部空洞的坐标信息"
   ]
  },
  {
   "cell_type": "code",
   "execution_count": 22,
   "id": "881ce0ea",
   "metadata": {},
   "outputs": [
    {
     "name": "stdout",
     "output_type": "stream",
     "text": [
      "[(1.0, 1.0), (2.0, 1.0), (2.0, 4.0), (1.0, 4.0), (1.0, 1.0)]\n",
      "[(3.0, 1.0), (3.0, 4.0), (4.0, 4.0), (3.0, 1.0)]\n"
     ]
    }
   ],
   "source": [
    "for i in range(len(polygon_hole.interiors)):\n",
    "    print(polygon_hole.interiors[i].coords[:])"
   ]
  },
  {
   "cell_type": "markdown",
   "id": "5e6c50c6",
   "metadata": {},
   "source": [
    "# 4.空要素："
   ]
  },
  {
   "cell_type": "code",
   "execution_count": 23,
   "id": "6a7a06bd",
   "metadata": {},
   "outputs": [],
   "source": [
    "line = LineString()"
   ]
  },
  {
   "cell_type": "code",
   "execution_count": 24,
   "id": "4d39f922",
   "metadata": {},
   "outputs": [
    {
     "data": {
      "text/plain": [
       "True"
      ]
     },
     "execution_count": 24,
     "metadata": {},
     "output_type": "execute_result"
    }
   ],
   "source": [
    "line.is_empty"
   ]
  },
  {
   "cell_type": "code",
   "execution_count": 25,
   "id": "4489da1c",
   "metadata": {},
   "outputs": [
    {
     "data": {
      "text/plain": [
       "0.0"
      ]
     },
     "execution_count": 25,
     "metadata": {},
     "output_type": "execute_result"
    }
   ],
   "source": [
    "line.length"
   ]
  },
  {
   "cell_type": "code",
   "execution_count": 26,
   "id": "9ef6e2ce",
   "metadata": {},
   "outputs": [
    {
     "data": {
      "text/plain": [
       "(nan, nan, nan, nan)"
      ]
     },
     "execution_count": 26,
     "metadata": {},
     "output_type": "execute_result"
    }
   ],
   "source": [
    "line.bounds"
   ]
  },
  {
   "cell_type": "code",
   "execution_count": 27,
   "id": "90002851",
   "metadata": {},
   "outputs": [
    {
     "data": {
      "text/plain": [
       "[]"
      ]
     },
     "execution_count": 27,
     "metadata": {},
     "output_type": "execute_result"
    }
   ],
   "source": [
    "list(line.coords)"
   ]
  },
  {
   "cell_type": "code",
   "execution_count": 28,
   "id": "60f621e2",
   "metadata": {},
   "outputs": [
    {
     "data": {
      "text/plain": [
       "'LineString'"
      ]
     },
     "execution_count": 28,
     "metadata": {},
     "output_type": "execute_result"
    }
   ],
   "source": [
    "line.geom_type"
   ]
  },
  {
   "cell_type": "code",
   "execution_count": null,
   "id": "3c05f7bc",
   "metadata": {},
   "outputs": [],
   "source": []
  },
  {
   "cell_type": "code",
   "execution_count": null,
   "id": "265f2226",
   "metadata": {},
   "outputs": [],
   "source": []
  },
  {
   "cell_type": "code",
   "execution_count": null,
   "id": "1c8e0853",
   "metadata": {},
   "outputs": [],
   "source": []
  },
  {
   "cell_type": "code",
   "execution_count": null,
   "id": "669c3bfb",
   "metadata": {},
   "outputs": [],
   "source": []
  },
  {
   "cell_type": "code",
   "execution_count": null,
   "id": "b31978d1",
   "metadata": {},
   "outputs": [],
   "source": []
  }
 ],
 "metadata": {
  "kernelspec": {
   "display_name": "Python 3 (ipykernel)",
   "language": "python",
   "name": "python3"
  },
  "language_info": {
   "codemirror_mode": {
    "name": "ipython",
    "version": 3
   },
   "file_extension": ".py",
   "mimetype": "text/x-python",
   "name": "python",
   "nbconvert_exporter": "python",
   "pygments_lexer": "ipython3",
   "version": "3.9.16"
  }
 },
 "nbformat": 4,
 "nbformat_minor": 5
}
