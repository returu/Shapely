{
 "cells": [
  {
   "cell_type": "code",
   "execution_count": 1,
   "id": "66361947",
   "metadata": {},
   "outputs": [],
   "source": [
    "from shapely import Point , LineString , LinearRing , Polygon , MultiPoint , MultiLineString , MultiPolygon"
   ]
  },
  {
   "cell_type": "markdown",
   "id": "31700301",
   "metadata": {},
   "source": [
    "# validation.explain_validity(ob):"
   ]
  },
  {
   "cell_type": "markdown",
   "id": "75957d7d",
   "metadata": {},
   "source": [
    "### 返回阐明该对象有效性或无效性的一个字符串。"
   ]
  },
  {
   "cell_type": "code",
   "execution_count": 2,
   "id": "06305cae",
   "metadata": {},
   "outputs": [
    {
     "data": {
      "image/svg+xml": [
       "<svg xmlns=\"http://www.w3.org/2000/svg\" xmlns:xlink=\"http://www.w3.org/1999/xlink\" width=\"100.0\" height=\"100.0\" viewBox=\"-0.08 -0.08 2.16 2.16\" preserveAspectRatio=\"xMinYMin meet\"><g transform=\"matrix(1,0,0,-1,0,2.0)\"><path fill-rule=\"evenodd\" fill=\"#ff3333\" stroke=\"#555555\" stroke-width=\"0.0432\" opacity=\"0.6\" d=\"M 0.0,0.0 L 0.0,2.0 L 1.0,1.0 L 2.0,2.0 L 2.0,0.0 L 1.0,1.0 L 0.0,0.0 z\" /></g></svg>"
      ],
      "text/plain": [
       "<POLYGON ((0 0, 0 2, 1 1, 2 2, 2 0, 1 1, 0 0))>"
      ]
     },
     "execution_count": 2,
     "metadata": {},
     "output_type": "execute_result"
    }
   ],
   "source": [
    "coords = [(0, 0), (0, 2), (1, 1), (2, 2), (2, 0), (1, 1), (0, 0)]\n",
    "\n",
    "p = Polygon(coords)\n",
    "p"
   ]
  },
  {
   "cell_type": "code",
   "execution_count": 3,
   "id": "39af92a3",
   "metadata": {},
   "outputs": [
    {
     "data": {
      "text/plain": [
       "'Ring Self-intersection[1 1]'"
      ]
     },
     "execution_count": 3,
     "metadata": {},
     "output_type": "execute_result"
    }
   ],
   "source": [
    "from shapely.validation import explain_validity\n",
    "\n",
    "explain_validity(p)"
   ]
  },
  {
   "cell_type": "markdown",
   "id": "d065c1d3",
   "metadata": {},
   "source": [
    "# validation.make_valid(ob)"
   ]
  },
  {
   "cell_type": "markdown",
   "id": "73082d84",
   "metadata": {},
   "source": [
    "### 如果是无效的，返回一个有效的几何对象。如果是有效的，将返回输入的几何对象自身。"
   ]
  },
  {
   "cell_type": "code",
   "execution_count": 4,
   "id": "abd57193",
   "metadata": {},
   "outputs": [
    {
     "data": {
      "image/svg+xml": [
       "<svg xmlns=\"http://www.w3.org/2000/svg\" xmlns:xlink=\"http://www.w3.org/1999/xlink\" width=\"100.0\" height=\"100.0\" viewBox=\"-0.08 -0.08 2.16 2.16\" preserveAspectRatio=\"xMinYMin meet\"><g transform=\"matrix(1,0,0,-1,0,2.0)\"><path fill-rule=\"evenodd\" fill=\"#ff3333\" stroke=\"#555555\" stroke-width=\"0.0432\" opacity=\"0.6\" d=\"M 0.0,0.0 L 0.0,2.0 L 1.0,1.0 L 2.0,2.0 L 2.0,0.0 L 1.0,1.0 L 0.0,0.0 z\" /></g></svg>"
      ],
      "text/plain": [
       "<POLYGON ((0 0, 0 2, 1 1, 2 2, 2 0, 1 1, 0 0))>"
      ]
     },
     "execution_count": 4,
     "metadata": {},
     "output_type": "execute_result"
    }
   ],
   "source": [
    "from shapely.validation import make_valid\n",
    "\n",
    "coords = [(0, 0), (0, 2), (1, 1), (2, 2), (2, 0), (1, 1), (0, 0)]\n",
    "p = Polygon(coords)\n",
    "p"
   ]
  },
  {
   "cell_type": "code",
   "execution_count": 5,
   "id": "ee8b8691",
   "metadata": {},
   "outputs": [
    {
     "data": {
      "image/svg+xml": [
       "<svg xmlns=\"http://www.w3.org/2000/svg\" xmlns:xlink=\"http://www.w3.org/1999/xlink\" width=\"100.0\" height=\"100.0\" viewBox=\"-0.08 -0.08 2.16 2.16\" preserveAspectRatio=\"xMinYMin meet\"><g transform=\"matrix(1,0,0,-1,0,2.0)\"><g><path fill-rule=\"evenodd\" fill=\"#66cc99\" stroke=\"#555555\" stroke-width=\"0.0432\" opacity=\"0.6\" d=\"M 1.0,1.0 L 0.0,0.0 L 0.0,2.0 L 1.0,1.0 z\" /><path fill-rule=\"evenodd\" fill=\"#66cc99\" stroke=\"#555555\" stroke-width=\"0.0432\" opacity=\"0.6\" d=\"M 2.0,0.0 L 1.0,1.0 L 2.0,2.0 L 2.0,0.0 z\" /></g></g></svg>"
      ],
      "text/plain": [
       "<MULTIPOLYGON (((1 1, 0 0, 0 2, 1 1)), ((2 0, 1 1, 2 2, 2 0)))>"
      ]
     },
     "execution_count": 5,
     "metadata": {},
     "output_type": "execute_result"
    }
   ],
   "source": [
    "make_valid(p)"
   ]
  },
  {
   "cell_type": "code",
   "execution_count": 6,
   "id": "ff7ca7db",
   "metadata": {},
   "outputs": [
    {
     "data": {
      "text/plain": [
       "[<POLYGON ((1 1, 0 0, 0 2, 1 1))>, <POLYGON ((2 0, 1 1, 2 2, 2 0))>]"
      ]
     },
     "execution_count": 6,
     "metadata": {},
     "output_type": "execute_result"
    }
   ],
   "source": [
    "list(make_valid(p).geoms)"
   ]
  },
  {
   "cell_type": "code",
   "execution_count": 7,
   "id": "54740435",
   "metadata": {},
   "outputs": [
    {
     "data": {
      "text/plain": [
       "<AxesSubplot:>"
      ]
     },
     "execution_count": 7,
     "metadata": {},
     "output_type": "execute_result"
    },
    {
     "data": {
      "image/png": "[encoded data removed]",
      "text/plain": [
       "<Figure size 500x500 with 1 Axes>"
      ]
     },
     "metadata": {},
     "output_type": "display_data"
    }
   ],
   "source": [
    "import geopandas as gpd\n",
    "import matplotlib.pyplot as plt\n",
    "\n",
    "f,ax = plt.subplots(figsize=(5,5))\n",
    "\n",
    "gpd.GeoDataFrame([p] , columns=[\"geometry\"]).plot(ax=ax , facecolor=\"k\", alpha=0.3)\n",
    "gpd.GeoDataFrame([make_valid(p).geoms[0]] , columns=[\"geometry\"]).plot(ax=ax , facecolor=\"none\", edgecolor=\"red\" , lw=3)\n",
    "gpd.GeoDataFrame([make_valid(p).geoms[1]] , columns=[\"geometry\"]).plot(ax=ax , facecolor=\"none\", edgecolor=\"green\" , lw=3)"
   ]
  },
  {
   "cell_type": "code",
   "execution_count": 8,
   "id": "bf5101f8",
   "metadata": {},
   "outputs": [
    {
     "data": {
      "image/svg+xml": [
       "<svg xmlns=\"http://www.w3.org/2000/svg\" xmlns:xlink=\"http://www.w3.org/1999/xlink\" width=\"100.0\" height=\"100.0\" viewBox=\"-0.08 -0.08 2.16 2.16\" preserveAspectRatio=\"xMinYMin meet\"><g transform=\"matrix(1,0,0,-1,0,2.0)\"><path fill-rule=\"evenodd\" fill=\"#ff3333\" stroke=\"#555555\" stroke-width=\"0.0432\" opacity=\"0.6\" d=\"M 0.0,2.0 L 0.0,1.0 L 2.0,0.0 L 0.0,0.0 L 0.0,2.0 z\" /></g></svg>"
      ],
      "text/plain": [
       "<POLYGON ((0 2, 0 1, 2 0, 0 0, 0 2))>"
      ]
     },
     "execution_count": 8,
     "metadata": {},
     "output_type": "execute_result"
    }
   ],
   "source": [
    "coords = [(0, 2), (0, 1), (2, 0), (0, 0), (0, 2)]\n",
    "p = Polygon(coords)\n",
    "p"
   ]
  },
  {
   "cell_type": "code",
   "execution_count": 9,
   "id": "3fc1e367",
   "metadata": {},
   "outputs": [
    {
     "data": {
      "image/svg+xml": [
       "<svg xmlns=\"http://www.w3.org/2000/svg\" xmlns:xlink=\"http://www.w3.org/1999/xlink\" width=\"100.0\" height=\"100.0\" viewBox=\"-0.08 -0.08 2.16 2.16\" preserveAspectRatio=\"xMinYMin meet\"><g transform=\"matrix(1,0,0,-1,0,2.0)\"><g><path fill-rule=\"evenodd\" fill=\"#66cc99\" stroke=\"#555555\" stroke-width=\"0.0432\" opacity=\"0.6\" d=\"M 2.0,0.0 L 0.0,0.0 L 0.0,1.0 L 2.0,0.0 z\" /><polyline fill=\"none\" stroke=\"#66cc99\" stroke-width=\"0.0432\" points=\"0.0,2.0 0.0,1.0\" opacity=\"0.8\" /></g></g></svg>"
      ],
      "text/plain": [
       "<GEOMETRYCOLLECTION (POLYGON ((2 0, 0 0, 0 1, 2 0)), LINESTRING (0 2, 0 1))>"
      ]
     },
     "execution_count": 9,
     "metadata": {},
     "output_type": "execute_result"
    }
   ],
   "source": [
    "# 几何对象被分割成不同类型的两个部分\n",
    "make_valid(p)"
   ]
  },
  {
   "cell_type": "code",
   "execution_count": 10,
   "id": "83685f9a",
   "metadata": {},
   "outputs": [
    {
     "data": {
      "text/plain": [
       "[<POLYGON ((2 0, 0 0, 0 1, 2 0))>, <LINESTRING (0 2, 0 1)>]"
      ]
     },
     "execution_count": 10,
     "metadata": {},
     "output_type": "execute_result"
    }
   ],
   "source": [
    "list(make_valid(p).geoms)"
   ]
  },
  {
   "cell_type": "code",
   "execution_count": 11,
   "id": "f68a23db",
   "metadata": {},
   "outputs": [
    {
     "data": {
      "text/plain": [
       "<AxesSubplot:>"
      ]
     },
     "execution_count": 11,
     "metadata": {},
     "output_type": "execute_result"
    },
    {
     "data": {
      "image/png": "[encoded data removed]",
      "text/plain": [
       "<Figure size 500x500 with 1 Axes>"
      ]
     },
     "metadata": {},
     "output_type": "display_data"
    }
   ],
   "source": [
    "import geopandas as gpd\n",
    "import matplotlib.pyplot as plt\n",
    "\n",
    "f,ax = plt.subplots(figsize=(5,5))\n",
    "\n",
    "gpd.GeoDataFrame([p] , columns=[\"geometry\"]).plot(ax=ax , facecolor=\"k\" , edgecolor=\"k\", alpha=0.3 , lw=6)\n",
    "gpd.GeoDataFrame([make_valid(p).geoms[0]] , columns=[\"geometry\"]).plot(ax=ax , facecolor=\"none\", edgecolor=\"red\" , lw=2)\n",
    "gpd.GeoDataFrame([make_valid(p).geoms[1]] , columns=[\"geometry\"]).plot(ax=ax , facecolor=\"none\", edgecolor=\"green\" , lw=2)"
   ]
  },
  {
   "cell_type": "code",
   "execution_count": null,
   "id": "cadb67bb",
   "metadata": {},
   "outputs": [],
   "source": []
  },
  {
   "cell_type": "code",
   "execution_count": null,
   "id": "62ad15c2",
   "metadata": {},
   "outputs": [],
   "source": []
  },
  {
   "cell_type": "code",
   "execution_count": null,
   "id": "e7034fd7",
   "metadata": {},
   "outputs": [],
   "source": []
  },
  {
   "cell_type": "code",
   "execution_count": null,
   "id": "7750de82",
   "metadata": {},
   "outputs": [],
   "source": []
  },
  {
   "cell_type": "code",
   "execution_count": null,
   "id": "19749271",
   "metadata": {},
   "outputs": [],
   "source": []
  },
  {
   "cell_type": "code",
   "execution_count": null,
   "id": "b77c8af0",
   "metadata": {},
   "outputs": [],
   "source": []
  },
  {
   "cell_type": "code",
   "execution_count": null,
   "id": "d090d016",
   "metadata": {},
   "outputs": [],
   "source": []
  }
 ],
 "metadata": {
  "kernelspec": {
   "display_name": "Python 3 (ipykernel)",
   "language": "python",
   "name": "python3"
  },
  "language_info": {
   "codemirror_mode": {
    "name": "ipython",
    "version": 3
   },
   "file_extension": ".py",
   "mimetype": "text/x-python",
   "name": "python",
   "nbconvert_exporter": "python",
   "pygments_lexer": "ipython3",
   "version": "3.9.16"
  }
 },
 "nbformat": 4,
 "nbformat_minor": 5
}
