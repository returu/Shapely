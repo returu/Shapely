{
 "cells": [
  {
   "cell_type": "code",
   "execution_count": 1,
   "id": "7778c161",
   "metadata": {},
   "outputs": [],
   "source": [
    "from shapely import Point , LineString , LinearRing , Polygon\n",
    "from shapely import MultiPoint , MultiLineString , MultiPolygon"
   ]
  },
  {
   "cell_type": "markdown",
   "id": "62fb8f79",
   "metadata": {},
   "source": [
    "# object.interpolate(distance[, normalized=False])"
   ]
  },
  {
   "cell_type": "markdown",
   "id": "13cec312",
   "metadata": {},
   "source": [
    "### 返回一个沿线性几何对象的指定距离的点。如果normalized参数为True，距离将被解释为几何对象长度的一部分。"
   ]
  },
  {
   "cell_type": "code",
   "execution_count": 2,
   "id": "aa87cd77",
   "metadata": {},
   "outputs": [
    {
     "data": {
      "image/svg+xml": [
       "<svg xmlns=\"http://www.w3.org/2000/svg\" xmlns:xlink=\"http://www.w3.org/1999/xlink\" width=\"100.0\" height=\"100.0\" viewBox=\"-0.04 -0.04 1.08 1.08\" preserveAspectRatio=\"xMinYMin meet\"><g transform=\"matrix(1,0,0,-1,0,1.0)\"><polyline fill=\"none\" stroke=\"#66cc99\" stroke-width=\"0.0216\" points=\"0.0,0.0 0.0,1.0 1.0,1.0\" opacity=\"0.8\" /></g></svg>"
      ],
      "text/plain": [
       "<LINESTRING (0 0, 0 1, 1 1)>"
      ]
     },
     "execution_count": 2,
     "metadata": {},
     "output_type": "execute_result"
    }
   ],
   "source": [
    "line = LineString([(0, 0), (0, 1), (1, 1)])\n",
    "line"
   ]
  },
  {
   "cell_type": "code",
   "execution_count": 3,
   "id": "1a474fe5",
   "metadata": {},
   "outputs": [
    {
     "data": {
      "image/svg+xml": [
       "<svg xmlns=\"http://www.w3.org/2000/svg\" xmlns:xlink=\"http://www.w3.org/1999/xlink\" width=\"100.0\" height=\"100.0\" viewBox=\"-1.0 -0.25 2.0 2.0\" preserveAspectRatio=\"xMinYMin meet\"><g transform=\"matrix(1,0,0,-1,0,1.5)\"><circle cx=\"0.0\" cy=\"0.75\" r=\"0.06\" stroke=\"#555555\" stroke-width=\"0.02\" fill=\"#66cc99\" opacity=\"0.6\" /></g></svg>"
      ],
      "text/plain": [
       "<POINT (0 0.75)>"
      ]
     },
     "execution_count": 3,
     "metadata": {},
     "output_type": "execute_result"
    }
   ],
   "source": [
    "point1 = line.interpolate(0.75)\n",
    "point1"
   ]
  },
  {
   "cell_type": "code",
   "execution_count": 4,
   "id": "e68e1eee",
   "metadata": {},
   "outputs": [
    {
     "data": {
      "text/plain": [
       "[(0.0, 0.75)]"
      ]
     },
     "execution_count": 4,
     "metadata": {},
     "output_type": "execute_result"
    }
   ],
   "source": [
    "list(point1.coords)"
   ]
  },
  {
   "cell_type": "code",
   "execution_count": 5,
   "id": "14fb1ad4",
   "metadata": {},
   "outputs": [
    {
     "data": {
      "image/svg+xml": [
       "<svg xmlns=\"http://www.w3.org/2000/svg\" xmlns:xlink=\"http://www.w3.org/1999/xlink\" width=\"100.0\" height=\"100.0\" viewBox=\"-0.5 0.0 2.0 2.0\" preserveAspectRatio=\"xMinYMin meet\"><g transform=\"matrix(1,0,0,-1,0,2.0)\"><circle cx=\"0.5\" cy=\"1.0\" r=\"0.06\" stroke=\"#555555\" stroke-width=\"0.02\" fill=\"#66cc99\" opacity=\"0.6\" /></g></svg>"
      ],
      "text/plain": [
       "<POINT (0.5 1)>"
      ]
     },
     "execution_count": 5,
     "metadata": {},
     "output_type": "execute_result"
    }
   ],
   "source": [
    "point2 = line.interpolate(0.75 , normalized=True)\n",
    "point2"
   ]
  },
  {
   "cell_type": "code",
   "execution_count": 6,
   "id": "ade62dd7",
   "metadata": {},
   "outputs": [
    {
     "data": {
      "text/plain": [
       "[(0.5, 1.0)]"
      ]
     },
     "execution_count": 6,
     "metadata": {},
     "output_type": "execute_result"
    }
   ],
   "source": [
    "list(point2.coords) # 1.5 / 2 = 0.75"
   ]
  },
  {
   "cell_type": "code",
   "execution_count": 7,
   "id": "1a25e438",
   "metadata": {},
   "outputs": [
    {
     "data": {
      "text/plain": [
       "<matplotlib.collections.PathCollection at 0x26d3b7fdca0>"
      ]
     },
     "execution_count": 7,
     "metadata": {},
     "output_type": "execute_result"
    },
    {
     "data": {
      "image/png": "[encoded data removed]",
      "text/plain": [
       "<Figure size 640x480 with 1 Axes>"
      ]
     },
     "metadata": {},
     "output_type": "display_data"
    }
   ],
   "source": [
    "import matplotlib.pyplot as plt\n",
    "\n",
    "plt.plot([0,0,1] , [0,1,1])\n",
    "plt.scatter(point1.x , point1.y)\n",
    "plt.scatter(point2.x , point2.y , color=\"red\")"
   ]
  },
  {
   "cell_type": "markdown",
   "id": "f9570f67",
   "metadata": {},
   "source": [
    "# object.project(other[, normalized=False])"
   ]
  },
  {
   "cell_type": "markdown",
   "id": "e91a2996",
   "metadata": {},
   "source": [
    "### 返回沿该几何对象到最接近另一个对象的点的距离。如果normalized参数为True，返回对象长度的标准化距离。project()方法是interpolate()的逆运算。"
   ]
  },
  {
   "cell_type": "code",
   "execution_count": 8,
   "id": "48f1658c",
   "metadata": {},
   "outputs": [
    {
     "data": {
      "text/plain": [
       "0.75"
      ]
     },
     "execution_count": 8,
     "metadata": {},
     "output_type": "execute_result"
    }
   ],
   "source": [
    "line.project(point1)"
   ]
  },
  {
   "cell_type": "code",
   "execution_count": 9,
   "id": "fba9c5e6",
   "metadata": {},
   "outputs": [
    {
     "data": {
      "text/plain": [
       "0.375"
      ]
     },
     "execution_count": 9,
     "metadata": {},
     "output_type": "execute_result"
    }
   ],
   "source": [
    "line.project(point1, normalized=True)"
   ]
  },
  {
   "cell_type": "code",
   "execution_count": 10,
   "id": "b1c21ac0",
   "metadata": {},
   "outputs": [
    {
     "data": {
      "text/plain": [
       "0.75"
      ]
     },
     "execution_count": 10,
     "metadata": {},
     "output_type": "execute_result"
    }
   ],
   "source": [
    "line.project(point2, normalized=True)"
   ]
  },
  {
   "cell_type": "markdown",
   "id": "9a3c9535",
   "metadata": {},
   "source": [
    "# 线性参考方法可以被用来按指定的距离分割线。"
   ]
  },
  {
   "cell_type": "code",
   "execution_count": 11,
   "id": "d41e0a35",
   "metadata": {},
   "outputs": [],
   "source": [
    "def cut(line, distance):\n",
    "    # 将一条线从起点处一分为二\n",
    "    if distance <= 0.0 or distance >= line.length:\n",
    "        return [LineString(line)]\n",
    "    coords = list(line.coords)\n",
    "    for i, p in enumerate(coords):\n",
    "        pd = line.project(Point(p)) # 返回该点（组成线的点）与线段起点间的距离\n",
    "        if pd == distance:\n",
    "            return [\n",
    "                LineString(coords[:i+1]),\n",
    "                LineString(coords[i:])]\n",
    "        if pd > distance:\n",
    "            cp = line.interpolate(distance) # 沿线段指定距离的点\n",
    "            return [\n",
    "                LineString(coords[:i] + [(cp.x, cp.y)]),\n",
    "                LineString([(cp.x, cp.y)] + coords[i:])]"
   ]
  },
  {
   "cell_type": "code",
   "execution_count": 12,
   "id": "37b65e91",
   "metadata": {},
   "outputs": [
    {
     "data": {
      "image/svg+xml": [
       "<svg xmlns=\"http://www.w3.org/2000/svg\" xmlns:xlink=\"http://www.w3.org/1999/xlink\" width=\"100.0\" height=\"100.0\" viewBox=\"-0.2 -0.2 5.4 0.4\" preserveAspectRatio=\"xMinYMin meet\"><g transform=\"matrix(1,0,0,-1,0,0.0)\"><polyline fill=\"none\" stroke=\"#66cc99\" stroke-width=\"0.10800000000000001\" points=\"0.0,0.0 1.0,0.0 2.0,0.0 3.0,0.0 4.0,0.0 5.0,0.0\" opacity=\"0.8\" /></g></svg>"
      ],
      "text/plain": [
       "<LINESTRING (0 0, 1 0, 2 0, 3 0, 4 0, 5 0)>"
      ]
     },
     "execution_count": 12,
     "metadata": {},
     "output_type": "execute_result"
    }
   ],
   "source": [
    "line = LineString([(0, 0), (1, 0), (2, 0), (3, 0), (4, 0), (5, 0)])\n",
    "line"
   ]
  },
  {
   "cell_type": "code",
   "execution_count": 13,
   "id": "9916a857",
   "metadata": {},
   "outputs": [
    {
     "data": {
      "text/plain": [
       "[[(0.0, 0.0), (0.5, 0.0)],\n",
       " [(0.5, 0.0), (1.0, 0.0), (2.0, 0.0), (3.0, 0.0), (4.0, 0.0), (5.0, 0.0)]]"
      ]
     },
     "execution_count": 13,
     "metadata": {},
     "output_type": "execute_result"
    }
   ],
   "source": [
    "[list(x.coords) for x in cut(line, 0.5)]"
   ]
  },
  {
   "cell_type": "code",
   "execution_count": 14,
   "id": "3f6cc9f2",
   "metadata": {},
   "outputs": [
    {
     "data": {
      "text/plain": [
       "[[(0.0, 0.0), (1.0, 0.0)],\n",
       " [(1.0, 0.0), (2.0, 0.0), (3.0, 0.0), (4.0, 0.0), (5.0, 0.0)]]"
      ]
     },
     "execution_count": 14,
     "metadata": {},
     "output_type": "execute_result"
    }
   ],
   "source": [
    "[list(x.coords) for x in cut(line, 1.0)]"
   ]
  },
  {
   "cell_type": "code",
   "execution_count": 15,
   "id": "5c2c803e",
   "metadata": {},
   "outputs": [
    {
     "data": {
      "text/plain": [
       "[[(0.0, 0.0), (1.0, 0.0), (2.0, 0.0), (2.5, 0.0)],\n",
       " [(2.5, 0.0), (3.0, 0.0), (4.0, 0.0), (5.0, 0.0)]]"
      ]
     },
     "execution_count": 15,
     "metadata": {},
     "output_type": "execute_result"
    }
   ],
   "source": [
    "[list(x.coords) for x in cut(line, 2.5)]"
   ]
  },
  {
   "cell_type": "code",
   "execution_count": null,
   "id": "e3e9c341",
   "metadata": {},
   "outputs": [],
   "source": []
  },
  {
   "cell_type": "code",
   "execution_count": null,
   "id": "c84ac606",
   "metadata": {},
   "outputs": [],
   "source": []
  },
  {
   "cell_type": "code",
   "execution_count": null,
   "id": "4f6f21d2",
   "metadata": {},
   "outputs": [],
   "source": []
  },
  {
   "cell_type": "code",
   "execution_count": null,
   "id": "b98f7adf",
   "metadata": {},
   "outputs": [],
   "source": []
  },
  {
   "cell_type": "code",
   "execution_count": null,
   "id": "984cfd8a",
   "metadata": {},
   "outputs": [],
   "source": []
  },
  {
   "cell_type": "code",
   "execution_count": null,
   "id": "e9977972",
   "metadata": {},
   "outputs": [],
   "source": []
  }
 ],
 "metadata": {
  "kernelspec": {
   "display_name": "Python 3 (ipykernel)",
   "language": "python",
   "name": "python3"
  },
  "language_info": {
   "codemirror_mode": {
    "name": "ipython",
    "version": 3
   },
   "file_extension": ".py",
   "mimetype": "text/x-python",
   "name": "python",
   "nbconvert_exporter": "python",
   "pygments_lexer": "ipython3",
   "version": "3.9.16"
  }
 },
 "nbformat": 4,
 "nbformat_minor": 5
}
