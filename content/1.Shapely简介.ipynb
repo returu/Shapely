{
 "cells": [
  {
   "cell_type": "markdown",
   "id": "d9a55ee6",
   "metadata": {},
   "source": [
    "# 2.Shapely的基本使用："
   ]
  },
  {
   "cell_type": "code",
   "execution_count": 1,
   "id": "e0817b38",
   "metadata": {},
   "outputs": [],
   "source": [
    "import shapely"
   ]
  },
  {
   "cell_type": "markdown",
   "id": "bb0dacfe",
   "metadata": {},
   "source": [
    "### 查看Shapely、GEOS库和GEOS C API版本"
   ]
  },
  {
   "cell_type": "code",
   "execution_count": 2,
   "id": "cc049fef",
   "metadata": {},
   "outputs": [
    {
     "data": {
      "text/plain": [
       "'2.0.1'"
      ]
     },
     "execution_count": 2,
     "metadata": {},
     "output_type": "execute_result"
    }
   ],
   "source": [
    "shapely.__version__ "
   ]
  },
  {
   "cell_type": "code",
   "execution_count": 3,
   "id": "975a9028",
   "metadata": {},
   "outputs": [
    {
     "data": {
      "text/plain": [
       "(3, 11, 1)"
      ]
     },
     "execution_count": 3,
     "metadata": {},
     "output_type": "execute_result"
    }
   ],
   "source": [
    "shapely.geos_version"
   ]
  },
  {
   "cell_type": "code",
   "execution_count": 4,
   "id": "25296f3b",
   "metadata": {},
   "outputs": [
    {
     "data": {
      "text/plain": [
       "'3.11.1-CAPI-1.17.1'"
      ]
     },
     "execution_count": 4,
     "metadata": {},
     "output_type": "execute_result"
    }
   ],
   "source": [
    "shapely.geos_capi_version_string"
   ]
  },
  {
   "cell_type": "code",
   "execution_count": null,
   "id": "5f4d9e79",
   "metadata": {},
   "outputs": [],
   "source": [
    "6.简单示例："
   ]
  },
  {
   "cell_type": "code",
   "execution_count": 5,
   "id": "fabf9678",
   "metadata": {},
   "outputs": [],
   "source": [
    "from shapely import Polygon"
   ]
  },
  {
   "cell_type": "code",
   "execution_count": 6,
   "id": "86825c9a",
   "metadata": {},
   "outputs": [
    {
     "name": "stdout",
     "output_type": "stream",
     "text": [
      "The area of the rectangle is: 1.0\n"
     ]
    }
   ],
   "source": [
    "# 通过 x,y 坐标点生成一个多边形\n",
    "rectangle = Polygon([(0, 0), (0, 1), (1, 1), (1, 0)])\n",
    "\n",
    "# 计算多边形的面积\n",
    "area = rectangle.area\n",
    "\n",
    "print(\"The area of the rectangle is:\", area)"
   ]
  },
  {
   "cell_type": "code",
   "execution_count": null,
   "id": "d5314c0d",
   "metadata": {},
   "outputs": [],
   "source": []
  },
  {
   "cell_type": "code",
   "execution_count": null,
   "id": "5fd7f249",
   "metadata": {},
   "outputs": [],
   "source": []
  },
  {
   "cell_type": "code",
   "execution_count": null,
   "id": "26749442",
   "metadata": {},
   "outputs": [],
   "source": []
  },
  {
   "cell_type": "code",
   "execution_count": null,
   "id": "b03acaae",
   "metadata": {},
   "outputs": [],
   "source": []
  },
  {
   "cell_type": "code",
   "execution_count": null,
   "id": "bda1177f",
   "metadata": {},
   "outputs": [],
   "source": []
  },
  {
   "cell_type": "code",
   "execution_count": null,
   "id": "80bd1d36",
   "metadata": {},
   "outputs": [],
   "source": []
  },
  {
   "cell_type": "code",
   "execution_count": null,
   "id": "a651d238",
   "metadata": {},
   "outputs": [],
   "source": []
  },
  {
   "cell_type": "code",
   "execution_count": null,
   "id": "0aee7c1a",
   "metadata": {},
   "outputs": [],
   "source": []
  },
  {
   "cell_type": "code",
   "execution_count": null,
   "id": "07345e03",
   "metadata": {},
   "outputs": [],
   "source": []
  },
  {
   "cell_type": "code",
   "execution_count": null,
   "id": "b79bdb79",
   "metadata": {},
   "outputs": [],
   "source": []
  }
 ],
 "metadata": {
  "kernelspec": {
   "display_name": "Python 3 (ipykernel)",
   "language": "python",
   "name": "python3"
  },
  "language_info": {
   "codemirror_mode": {
    "name": "ipython",
    "version": 3
   },
   "file_extension": ".py",
   "mimetype": "text/x-python",
   "name": "python",
   "nbconvert_exporter": "python",
   "pygments_lexer": "ipython3",
   "version": "3.9.16"
  }
 },
 "nbformat": 4,
 "nbformat_minor": 5
}
