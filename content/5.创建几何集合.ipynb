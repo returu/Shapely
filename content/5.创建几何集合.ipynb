{
 "cells": [
  {
   "cell_type": "code",
   "execution_count": 1,
   "id": "b8b3f10d",
   "metadata": {},
   "outputs": [],
   "source": [
    "from shapely import Point , LineString , LinearRing , Polygon\n",
    "from shapely import MultiPoint , MultiLineString , MultiPolygon"
   ]
  },
  {
   "cell_type": "markdown",
   "id": "e15f3cba",
   "metadata": {},
   "source": [
    "# 1.几何集合(GeometryCollection):"
   ]
  },
  {
   "cell_type": "markdown",
   "id": "90545974",
   "metadata": {},
   "source": [
    "### 一些Shapely操作可能会出现多项几何对象的集合（collections）。例如，两个LineString可能沿着一条线和在一个点相交。为了表示这些结果，Shapely提供了类似于frozenset的、不可改变的几何对象的集合。这些集合可以是同质的（复合点等）或异质的（点与线的集合）。"
   ]
  },
  {
   "cell_type": "code",
   "execution_count": 2,
   "id": "3de59045",
   "metadata": {},
   "outputs": [
    {
     "data": {
      "image/svg+xml": [
       "<svg xmlns=\"http://www.w3.org/2000/svg\" xmlns:xlink=\"http://www.w3.org/1999/xlink\" width=\"100.0\" height=\"100.0\" viewBox=\"-0.08 -0.08 2.16 2.16\" preserveAspectRatio=\"xMinYMin meet\"><g transform=\"matrix(1,0,0,-1,0,2.0)\"><polyline fill=\"none\" stroke=\"#66cc99\" stroke-width=\"0.0432\" points=\"0.0,0.0 1.0,1.0 1.0,2.0 2.0,2.0\" opacity=\"0.8\" /></g></svg>"
      ],
      "text/plain": [
       "<LINESTRING (0 0, 1 1, 1 2, 2 2)>"
      ]
     },
     "execution_count": 2,
     "metadata": {},
     "output_type": "execute_result"
    }
   ],
   "source": [
    "a = LineString([(0, 0), (1, 1), (1,2), (2,2)])\n",
    "a"
   ]
  },
  {
   "cell_type": "code",
   "execution_count": 3,
   "id": "dab49b8c",
   "metadata": {},
   "outputs": [
    {
     "data": {
      "image/svg+xml": [
       "<svg xmlns=\"http://www.w3.org/2000/svg\" xmlns:xlink=\"http://www.w3.org/1999/xlink\" width=\"100.0\" height=\"100.0\" viewBox=\"-0.08 -0.08 2.16 2.16\" preserveAspectRatio=\"xMinYMin meet\"><g transform=\"matrix(1,0,0,-1,0,2.0)\"><polyline fill=\"none\" stroke=\"#66cc99\" stroke-width=\"0.0432\" points=\"0.0,0.0 1.0,1.0 2.0,1.0 2.0,2.0\" opacity=\"0.8\" /></g></svg>"
      ],
      "text/plain": [
       "<LINESTRING (0 0, 1 1, 2 1, 2 2)>"
      ]
     },
     "execution_count": 3,
     "metadata": {},
     "output_type": "execute_result"
    }
   ],
   "source": [
    "b = LineString([(0, 0), (1, 1), (2,1), (2,2)])\n",
    "b"
   ]
  },
  {
   "cell_type": "code",
   "execution_count": 4,
   "id": "ece6339a",
   "metadata": {},
   "outputs": [
    {
     "data": {
      "image/svg+xml": [
       "<svg xmlns=\"http://www.w3.org/2000/svg\" xmlns:xlink=\"http://www.w3.org/1999/xlink\" width=\"100.0\" height=\"100.0\" viewBox=\"-0.08 -0.08 2.16 2.16\" preserveAspectRatio=\"xMinYMin meet\"><g transform=\"matrix(1,0,0,-1,0,2.0)\"><g><polyline fill=\"none\" stroke=\"#66cc99\" stroke-width=\"0.0432\" points=\"0.0,0.0 1.0,1.0\" opacity=\"0.8\" /><circle cx=\"2.0\" cy=\"2.0\" r=\"0.0648\" stroke=\"#555555\" stroke-width=\"0.0216\" fill=\"#66cc99\" opacity=\"0.6\" /></g></g></svg>"
      ],
      "text/plain": [
       "<GEOMETRYCOLLECTION (LINESTRING (0 0, 1 1), POINT (2 2))>"
      ]
     },
     "execution_count": 4,
     "metadata": {},
     "output_type": "execute_result"
    }
   ],
   "source": [
    "x = a.intersection(b)\n",
    "x"
   ]
  },
  {
   "cell_type": "markdown",
   "id": "ebec079c",
   "metadata": {},
   "source": [
    "### 几何集合(GeometryCollection)的成员可以通过geoms属性来访问。复合几何元素没有坐标序列，坐标序列被存储在组成其的几何要素上。"
   ]
  },
  {
   "cell_type": "code",
   "execution_count": 5,
   "id": "b49bc2ec",
   "metadata": {},
   "outputs": [
    {
     "data": {
      "text/plain": [
       "[<LINESTRING (0 0, 1 1)>, <POINT (2 2)>]"
      ]
     },
     "execution_count": 5,
     "metadata": {},
     "output_type": "execute_result"
    }
   ],
   "source": [
    "list(x.geoms)"
   ]
  },
  {
   "cell_type": "code",
   "execution_count": 6,
   "id": "e776cc5f",
   "metadata": {},
   "outputs": [
    {
     "data": {
      "text/plain": [
       "[(0.0, 0.0), (1.0, 1.0)]"
      ]
     },
     "execution_count": 6,
     "metadata": {},
     "output_type": "execute_result"
    }
   ],
   "source": [
    "# 获取第一个几何要素的坐标序列\n",
    "x.geoms[0].coords[:]"
   ]
  },
  {
   "cell_type": "markdown",
   "id": "2fa42574",
   "metadata": {},
   "source": [
    "# 2.复合点（Collections of Points）："
   ]
  },
  {
   "cell_type": "markdown",
   "id": "662239c4",
   "metadata": {},
   "source": [
    "### class MultiPoint(points) ：复合点构造函数接收一系列（x, y[, z ]）点元祖。"
   ]
  },
  {
   "cell_type": "code",
   "execution_count": 7,
   "id": "3cb5b204",
   "metadata": {},
   "outputs": [
    {
     "data": {
      "image/svg+xml": [
       "<svg xmlns=\"http://www.w3.org/2000/svg\" xmlns:xlink=\"http://www.w3.org/1999/xlink\" width=\"100.0\" height=\"100.0\" viewBox=\"-0.04 -0.04 1.08 1.08\" preserveAspectRatio=\"xMinYMin meet\"><g transform=\"matrix(1,0,0,-1,0,1.0)\"><g><circle cx=\"0.0\" cy=\"0.0\" r=\"0.0324\" stroke=\"#555555\" stroke-width=\"0.0108\" fill=\"#66cc99\" opacity=\"0.6\" /><circle cx=\"1.0\" cy=\"1.0\" r=\"0.0324\" stroke=\"#555555\" stroke-width=\"0.0108\" fill=\"#66cc99\" opacity=\"0.6\" /></g></g></svg>"
      ],
      "text/plain": [
       "<MULTIPOINT (0 0, 1 1)>"
      ]
     },
     "execution_count": 7,
     "metadata": {},
     "output_type": "execute_result"
    }
   ],
   "source": [
    "points = MultiPoint([(0,0) , (1,1)])\n",
    "points"
   ]
  },
  {
   "cell_type": "markdown",
   "id": "1ae8c989",
   "metadata": {},
   "source": [
    "### MultiPoint的面积和长度都是零。"
   ]
  },
  {
   "cell_type": "code",
   "execution_count": 8,
   "id": "1bb08b6a",
   "metadata": {},
   "outputs": [
    {
     "data": {
      "text/plain": [
       "(0.0, 0.0)"
      ]
     },
     "execution_count": 8,
     "metadata": {},
     "output_type": "execute_result"
    }
   ],
   "source": [
    "points.area , points.length"
   ]
  },
  {
   "cell_type": "markdown",
   "id": "5816ab1d",
   "metadata": {},
   "source": [
    "### 其边界是一个元组（minx, miny, maxx, maxy）。"
   ]
  },
  {
   "cell_type": "code",
   "execution_count": 9,
   "id": "30a80020",
   "metadata": {},
   "outputs": [
    {
     "data": {
      "text/plain": [
       "(0.0, 0.0, 1.0, 1.0)"
      ]
     },
     "execution_count": 9,
     "metadata": {},
     "output_type": "execute_result"
    }
   ],
   "source": [
    "points.bounds"
   ]
  },
  {
   "cell_type": "markdown",
   "id": "6f44270b",
   "metadata": {},
   "source": [
    "### 其成员可以通过geoms属性来访问。"
   ]
  },
  {
   "cell_type": "code",
   "execution_count": 10,
   "id": "ec93320b",
   "metadata": {},
   "outputs": [
    {
     "data": {
      "text/plain": [
       "[<POINT (0 0)>, <POINT (1 1)>]"
      ]
     },
     "execution_count": 10,
     "metadata": {},
     "output_type": "execute_result"
    }
   ],
   "source": [
    "list(points.geoms)"
   ]
  },
  {
   "cell_type": "markdown",
   "id": "f0799b06",
   "metadata": {},
   "source": [
    "### 其构造函数也接受另一个MultiPoint实例或一个无序的Point实例序列，从而得到一个副本。"
   ]
  },
  {
   "cell_type": "code",
   "execution_count": 11,
   "id": "7075d745",
   "metadata": {},
   "outputs": [
    {
     "data": {
      "image/svg+xml": [
       "<svg xmlns=\"http://www.w3.org/2000/svg\" xmlns:xlink=\"http://www.w3.org/1999/xlink\" width=\"100.0\" height=\"100.0\" viewBox=\"-0.04 -0.04 1.08 1.08\" preserveAspectRatio=\"xMinYMin meet\"><g transform=\"matrix(1,0,0,-1,0,1.0)\"><g><circle cx=\"0.0\" cy=\"0.0\" r=\"0.0324\" stroke=\"#555555\" stroke-width=\"0.0108\" fill=\"#66cc99\" opacity=\"0.6\" /><circle cx=\"1.0\" cy=\"1.0\" r=\"0.0324\" stroke=\"#555555\" stroke-width=\"0.0108\" fill=\"#66cc99\" opacity=\"0.6\" /></g></g></svg>"
      ],
      "text/plain": [
       "<MULTIPOINT (0 0, 1 1)>"
      ]
     },
     "execution_count": 11,
     "metadata": {},
     "output_type": "execute_result"
    }
   ],
   "source": [
    "MultiPoint(points)"
   ]
  },
  {
   "cell_type": "markdown",
   "id": "432affa7",
   "metadata": {},
   "source": [
    "# 3.复合线（Collections of Lines）："
   ]
  },
  {
   "cell_type": "markdown",
   "id": "7f0a942a",
   "metadata": {},
   "source": [
    "### class MultiLineString(lines) ：MultiLineString构造函数接收线性元祖序列或对象。"
   ]
  },
  {
   "cell_type": "code",
   "execution_count": 12,
   "id": "9def60ed",
   "metadata": {},
   "outputs": [
    {
     "data": {
      "image/svg+xml": [
       "<svg xmlns=\"http://www.w3.org/2000/svg\" xmlns:xlink=\"http://www.w3.org/1999/xlink\" width=\"100.0\" height=\"100.0\" viewBox=\"-1.08 -0.08 2.16 1.1600000000000001\" preserveAspectRatio=\"xMinYMin meet\"><g transform=\"matrix(1,0,0,-1,0,1.0)\"><g><polyline fill=\"none\" stroke=\"#66cc99\" stroke-width=\"0.0432\" points=\"0.0,0.0 1.0,1.0\" opacity=\"0.8\" /><polyline fill=\"none\" stroke=\"#66cc99\" stroke-width=\"0.0432\" points=\"-1.0,0.0 1.0,0.0\" opacity=\"0.8\" /></g></g></svg>"
      ],
      "text/plain": [
       "<MULTILINESTRING ((0 0, 1 1), (-1 0, 1 0))>"
      ]
     },
     "execution_count": 12,
     "metadata": {},
     "output_type": "execute_result"
    }
   ],
   "source": [
    "coords = [((0, 0), (1, 1)), ((-1, 0), (1, 0))]\n",
    "lines = MultiLineString(coords)\n",
    "lines"
   ]
  },
  {
   "cell_type": "markdown",
   "id": "b729ba02",
   "metadata": {},
   "source": [
    "### MultiLineString的面积为零，长度不为零。"
   ]
  },
  {
   "cell_type": "code",
   "execution_count": 13,
   "id": "f648d36d",
   "metadata": {},
   "outputs": [
    {
     "data": {
      "text/plain": [
       "(0.0, 3.414213562373095)"
      ]
     },
     "execution_count": 13,
     "metadata": {},
     "output_type": "execute_result"
    }
   ],
   "source": [
    "lines.area , lines.length"
   ]
  },
  {
   "cell_type": "markdown",
   "id": "d8dbc6d0",
   "metadata": {},
   "source": [
    "### 其边界是一个元组（minx, miny, maxx, maxy）。"
   ]
  },
  {
   "cell_type": "code",
   "execution_count": 14,
   "id": "98ab81ff",
   "metadata": {},
   "outputs": [
    {
     "data": {
      "text/plain": [
       "(-1.0, 0.0, 1.0, 1.0)"
      ]
     },
     "execution_count": 14,
     "metadata": {},
     "output_type": "execute_result"
    }
   ],
   "source": [
    "lines.bounds"
   ]
  },
  {
   "cell_type": "markdown",
   "id": "565dd020",
   "metadata": {},
   "source": [
    "### 其成员可以通过geoms属性来访问。"
   ]
  },
  {
   "cell_type": "code",
   "execution_count": 15,
   "id": "9f59cb63",
   "metadata": {},
   "outputs": [
    {
     "data": {
      "text/plain": [
       "[<LINESTRING (0 0, 1 1)>, <LINESTRING (-1 0, 1 0)>]"
      ]
     },
     "execution_count": 15,
     "metadata": {},
     "output_type": "execute_result"
    }
   ],
   "source": [
    "list(lines.geoms)"
   ]
  },
  {
   "cell_type": "markdown",
   "id": "9705ab5a",
   "metadata": {},
   "source": [
    "### 构造函数也接受另一个MultiLineString的实例或LineString实例的无序序列，从而得到一个副本。"
   ]
  },
  {
   "cell_type": "code",
   "execution_count": 16,
   "id": "4cf0adb0",
   "metadata": {},
   "outputs": [
    {
     "data": {
      "image/svg+xml": [
       "<svg xmlns=\"http://www.w3.org/2000/svg\" xmlns:xlink=\"http://www.w3.org/1999/xlink\" width=\"100.0\" height=\"100.0\" viewBox=\"-1.08 -0.08 2.16 1.1600000000000001\" preserveAspectRatio=\"xMinYMin meet\"><g transform=\"matrix(1,0,0,-1,0,1.0)\"><g><polyline fill=\"none\" stroke=\"#66cc99\" stroke-width=\"0.0432\" points=\"0.0,0.0 1.0,1.0\" opacity=\"0.8\" /><polyline fill=\"none\" stroke=\"#66cc99\" stroke-width=\"0.0432\" points=\"-1.0,0.0 1.0,0.0\" opacity=\"0.8\" /></g></g></svg>"
      ],
      "text/plain": [
       "<MULTILINESTRING ((0 0, 1 1), (-1 0, 1 0))>"
      ]
     },
     "execution_count": 16,
     "metadata": {},
     "output_type": "execute_result"
    }
   ],
   "source": [
    "MultiLineString(lines)"
   ]
  },
  {
   "cell_type": "markdown",
   "id": "b76f1a92",
   "metadata": {},
   "source": [
    "# 4.复合多边形（Collections of Polygons）："
   ]
  },
  {
   "cell_type": "markdown",
   "id": "aaf1fb2f",
   "metadata": {},
   "source": [
    "### class MultiPolygon(polygons) ：复合多边形构造函数接收外部线环和内部线环（洞）两组序列元祖。"
   ]
  },
  {
   "cell_type": "markdown",
   "id": "fed7e56d",
   "metadata": {},
   "source": [
    "### 构造函数同样也接收接受一个无序的Polygon实例序列，从而得到一个副本。"
   ]
  },
  {
   "cell_type": "code",
   "execution_count": 17,
   "id": "c402d9a1",
   "metadata": {},
   "outputs": [
    {
     "data": {
      "image/svg+xml": [
       "<svg xmlns=\"http://www.w3.org/2000/svg\" xmlns:xlink=\"http://www.w3.org/1999/xlink\" width=\"100.0\" height=\"100.0\" viewBox=\"-0.16 -0.16 3.3200000000000003 4.32\" preserveAspectRatio=\"xMinYMin meet\"><g transform=\"matrix(1,0,0,-1,0,4.0)\"><g><path fill-rule=\"evenodd\" fill=\"#ff3333\" stroke=\"#555555\" stroke-width=\"0.0864\" opacity=\"0.6\" d=\"M 0.0,0.0 L 1.0,1.0 L 1.0,2.0 L 2.0,2.0 L 0.0,0.0 z\" /><path fill-rule=\"evenodd\" fill=\"#ff3333\" stroke=\"#555555\" stroke-width=\"0.0864\" opacity=\"0.6\" d=\"M 2.0,0.0 L 2.0,1.0 L 3.0,2.0 L 3.0,1.0 L 2.0,0.0 z\" /><path fill-rule=\"evenodd\" fill=\"#ff3333\" stroke=\"#555555\" stroke-width=\"0.0864\" opacity=\"0.6\" d=\"M 1.0,3.0 L 1.0,4.0 L 2.0,4.0 L 2.0,3.0 L 1.0,3.0 z\" /></g></g></svg>"
      ],
      "text/plain": [
       "<MULTIPOLYGON (((0 0, 1 1, 1 2, 2 2, 0 0)), ((2 0, 2 1, 3 2, 3 1, 2 0)), ((1...>"
      ]
     },
     "execution_count": 17,
     "metadata": {},
     "output_type": "execute_result"
    }
   ],
   "source": [
    "polygon = Polygon([(0,0) , (1,1) , (1,2) , (2,2) , (0,0)])\n",
    "s = Polygon([(2,0) , (2,1) , (3,2) , (3,1) , (2,0)])\n",
    "t = Polygon([(1,3) , (1,4) , (2,4) , (2,3) , (1,3)])\n",
    "\n",
    "\n",
    "polygons = MultiPolygon([polygon, s, t])\n",
    "polygons"
   ]
  },
  {
   "cell_type": "code",
   "execution_count": 18,
   "id": "f379a2d9",
   "metadata": {},
   "outputs": [
    {
     "data": {
      "text/plain": [
       "<AxesSubplot:>"
      ]
     },
     "execution_count": 18,
     "metadata": {},
     "output_type": "execute_result"
    },
    {
     "data": {
      "image/png": "[encoded data removed]",
      "text/plain": [
       "<Figure size 500x500 with 1 Axes>"
      ]
     },
     "metadata": {},
     "output_type": "display_data"
    }
   ],
   "source": [
    "import geopandas as gpd\n",
    "import matplotlib.pyplot as plt\n",
    "\n",
    "f ,ax = plt.subplots(figsize=(5,5))\n",
    "gpd.GeoDataFrame([polygon] , columns=[\"geometry\"]).plot(ax=ax , facecolor=\"red\" , edgecolor=\"k\" , alpha=0.5)\n",
    "gpd.GeoDataFrame([s] , columns=[\"geometry\"]).plot(ax=ax , facecolor=\"blue\" , edgecolor=\"k\" , alpha=0.5)\n",
    "gpd.GeoDataFrame([t] , columns=[\"geometry\"]).plot(ax=ax , facecolor=\"green\" , edgecolor=\"k\" , alpha=0.5)"
   ]
  },
  {
   "cell_type": "markdown",
   "id": "5ab1201f",
   "metadata": {},
   "source": [
    "### 其边界是一个元组（minx, miny, maxx, maxy）。"
   ]
  },
  {
   "cell_type": "code",
   "execution_count": 19,
   "id": "52e26a10",
   "metadata": {},
   "outputs": [
    {
     "data": {
      "text/plain": [
       "(0.0, 0.0, 3.0, 4.0)"
      ]
     },
     "execution_count": 19,
     "metadata": {},
     "output_type": "execute_result"
    }
   ],
   "source": [
    "polygons.bounds"
   ]
  },
  {
   "cell_type": "markdown",
   "id": "0f8959d9",
   "metadata": {},
   "source": [
    "### 其成员是Polygon实例，可以通过geoms属性访问。"
   ]
  },
  {
   "cell_type": "code",
   "execution_count": 20,
   "id": "b8bd3a54",
   "metadata": {},
   "outputs": [
    {
     "data": {
      "text/plain": [
       "[<POLYGON ((0 0, 1 1, 1 2, 2 2, 0 0))>,\n",
       " <POLYGON ((2 0, 2 1, 3 2, 3 1, 2 0))>,\n",
       " <POLYGON ((1 3, 1 4, 2 4, 2 3, 1 3))>]"
      ]
     },
     "execution_count": 20,
     "metadata": {},
     "output_type": "execute_result"
    }
   ],
   "source": [
    "list(polygons.geoms)"
   ]
  },
  {
   "cell_type": "code",
   "execution_count": null,
   "id": "d29d0a34",
   "metadata": {},
   "outputs": [],
   "source": []
  },
  {
   "cell_type": "code",
   "execution_count": null,
   "id": "cab9f6f8",
   "metadata": {},
   "outputs": [],
   "source": []
  },
  {
   "cell_type": "code",
   "execution_count": null,
   "id": "202f8985",
   "metadata": {},
   "outputs": [],
   "source": []
  },
  {
   "cell_type": "code",
   "execution_count": null,
   "id": "0a8241ad",
   "metadata": {},
   "outputs": [],
   "source": []
  },
  {
   "cell_type": "code",
   "execution_count": null,
   "id": "0525219f",
   "metadata": {},
   "outputs": [],
   "source": []
  },
  {
   "cell_type": "code",
   "execution_count": null,
   "id": "24add2eb",
   "metadata": {},
   "outputs": [],
   "source": []
  },
  {
   "cell_type": "code",
   "execution_count": null,
   "id": "31e749fe",
   "metadata": {},
   "outputs": [],
   "source": []
  },
  {
   "cell_type": "code",
   "execution_count": null,
   "id": "51e1d80f",
   "metadata": {},
   "outputs": [],
   "source": []
  },
  {
   "cell_type": "code",
   "execution_count": null,
   "id": "a66afb74",
   "metadata": {},
   "outputs": [],
   "source": []
  },
  {
   "cell_type": "code",
   "execution_count": null,
   "id": "3c45e021",
   "metadata": {},
   "outputs": [],
   "source": []
  },
  {
   "cell_type": "code",
   "execution_count": null,
   "id": "23c47002",
   "metadata": {},
   "outputs": [],
   "source": []
  },
  {
   "cell_type": "code",
   "execution_count": null,
   "id": "db666ae6",
   "metadata": {},
   "outputs": [],
   "source": []
  },
  {
   "cell_type": "code",
   "execution_count": null,
   "id": "4b2d5ead",
   "metadata": {},
   "outputs": [],
   "source": []
  }
 ],
 "metadata": {
  "kernelspec": {
   "display_name": "Python 3 (ipykernel)",
   "language": "python",
   "name": "python3"
  },
  "language_info": {
   "codemirror_mode": {
    "name": "ipython",
    "version": 3
   },
   "file_extension": ".py",
   "mimetype": "text/x-python",
   "name": "python",
   "nbconvert_exporter": "python",
   "pygments_lexer": "ipython3",
   "version": "3.9.16"
  }
 },
 "nbformat": 4,
 "nbformat_minor": 5
}
