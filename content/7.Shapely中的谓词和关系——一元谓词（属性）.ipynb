{
 "cells": [
  {
   "cell_type": "code",
   "execution_count": 1,
   "id": "7e1f3032",
   "metadata": {},
   "outputs": [],
   "source": [
    "from shapely import Point , LineString , LinearRing , MultiPolygon"
   ]
  },
  {
   "cell_type": "markdown",
   "id": "428afada",
   "metadata": {},
   "source": [
    "# object.has_z"
   ]
  },
  {
   "cell_type": "markdown",
   "id": "682848b6",
   "metadata": {},
   "source": [
    "### 如果几何要素不仅有x和y，而且还有z坐标，则返回True。"
   ]
  },
  {
   "cell_type": "code",
   "execution_count": 2,
   "id": "0c413d3b",
   "metadata": {},
   "outputs": [
    {
     "data": {
      "text/plain": [
       "False"
      ]
     },
     "execution_count": 2,
     "metadata": {},
     "output_type": "execute_result"
    }
   ],
   "source": [
    "Point(0, 0).has_z"
   ]
  },
  {
   "cell_type": "code",
   "execution_count": 3,
   "id": "68c127ba",
   "metadata": {},
   "outputs": [
    {
     "data": {
      "text/plain": [
       "True"
      ]
     },
     "execution_count": 3,
     "metadata": {},
     "output_type": "execute_result"
    }
   ],
   "source": [
    "Point(0, 0, 0).has_z"
   ]
  },
  {
   "cell_type": "markdown",
   "id": "3371753b",
   "metadata": {},
   "source": [
    "# object.is_ccw"
   ]
  },
  {
   "cell_type": "markdown",
   "id": "c65eef1c",
   "metadata": {},
   "source": [
    "### 如果坐标按逆时针顺序排列，则返回True（以正面标记的面积来框定区域）。该方法只适用于LinearRing对象。"
   ]
  },
  {
   "cell_type": "code",
   "execution_count": 4,
   "id": "2a820a37",
   "metadata": {},
   "outputs": [
    {
     "data": {
      "text/plain": [
       "True"
      ]
     },
     "execution_count": 4,
     "metadata": {},
     "output_type": "execute_result"
    }
   ],
   "source": [
    "LinearRing([(1,0), (1,1), (0,0)]).is_ccw"
   ]
  },
  {
   "cell_type": "markdown",
   "id": "6128232c",
   "metadata": {},
   "source": [
    "### 非预期方向的环可以通过以下代码进行翻转操作："
   ]
  },
  {
   "cell_type": "code",
   "execution_count": 5,
   "id": "f83a3a3c",
   "metadata": {},
   "outputs": [],
   "source": [
    "ring = LinearRing([(0,0), (1,1), (1,0)])"
   ]
  },
  {
   "cell_type": "code",
   "execution_count": 6,
   "id": "396447d4",
   "metadata": {},
   "outputs": [
    {
     "data": {
      "text/plain": [
       "False"
      ]
     },
     "execution_count": 6,
     "metadata": {},
     "output_type": "execute_result"
    }
   ],
   "source": [
    "ring.is_ccw"
   ]
  },
  {
   "cell_type": "code",
   "execution_count": 7,
   "id": "44b87d95",
   "metadata": {},
   "outputs": [],
   "source": [
    "ring2 = LinearRing(list(ring.coords)[::-1]) # 将坐标序列反向排列"
   ]
  },
  {
   "cell_type": "code",
   "execution_count": 8,
   "id": "27baff23",
   "metadata": {},
   "outputs": [
    {
     "data": {
      "text/plain": [
       "True"
      ]
     },
     "execution_count": 8,
     "metadata": {},
     "output_type": "execute_result"
    }
   ],
   "source": [
    "ring2.is_ccw"
   ]
  },
  {
   "cell_type": "markdown",
   "id": "79106b8f",
   "metadata": {},
   "source": [
    "# object.is_empty"
   ]
  },
  {
   "cell_type": "markdown",
   "id": "1c236664",
   "metadata": {},
   "source": [
    "### 如果要素的内部和边界为空集，则返回True。"
   ]
  },
  {
   "cell_type": "code",
   "execution_count": 9,
   "id": "47ca9c22",
   "metadata": {},
   "outputs": [
    {
     "data": {
      "text/plain": [
       "True"
      ]
     },
     "execution_count": 9,
     "metadata": {},
     "output_type": "execute_result"
    }
   ],
   "source": [
    "Point().is_empty"
   ]
  },
  {
   "cell_type": "code",
   "execution_count": 10,
   "id": "91a72e5a",
   "metadata": {},
   "outputs": [
    {
     "data": {
      "text/plain": [
       "False"
      ]
     },
     "execution_count": 10,
     "metadata": {},
     "output_type": "execute_result"
    }
   ],
   "source": [
    "Point(0, 0).is_empty"
   ]
  },
  {
   "cell_type": "markdown",
   "id": "dbc88f84",
   "metadata": {},
   "source": [
    "### 使用python内置模块operator中的attrgetter()函数，一元谓词is_empty 能够用作python内置函数filter()的谓词，来对列表中的对象进行批量判断和过滤。"
   ]
  },
  {
   "cell_type": "code",
   "execution_count": 11,
   "id": "cf65f9da",
   "metadata": {},
   "outputs": [],
   "source": [
    "from operator import attrgetter\n",
    "\n",
    "empties = filter(attrgetter('is_empty'), [Point(), Point(0, 0)])"
   ]
  },
  {
   "cell_type": "code",
   "execution_count": 12,
   "id": "d1750636",
   "metadata": {},
   "outputs": [
    {
     "data": {
      "text/plain": [
       "[<POINT EMPTY>]"
      ]
     },
     "execution_count": 12,
     "metadata": {},
     "output_type": "execute_result"
    }
   ],
   "source": [
    "list(empties)"
   ]
  },
  {
   "cell_type": "markdown",
   "id": "90a9fa88",
   "metadata": {},
   "source": [
    "# object.is_ring"
   ]
  },
  {
   "cell_type": "markdown",
   "id": "15f58594",
   "metadata": {},
   "source": [
    "### 如果要素是一个闭合的、简单的LineString，返回True。一个封闭的要素的边界与空集重合。"
   ]
  },
  {
   "cell_type": "code",
   "execution_count": 13,
   "id": "b8152a2c",
   "metadata": {},
   "outputs": [
    {
     "data": {
      "image/svg+xml": [
       "<svg xmlns=\"http://www.w3.org/2000/svg\" xmlns:xlink=\"http://www.w3.org/1999/xlink\" width=\"100.0\" height=\"100.0\" viewBox=\"-0.08 -1.08 1.1600000000000001 2.16\" preserveAspectRatio=\"xMinYMin meet\"><g transform=\"matrix(1,0,0,-1,0,0.0)\"><polyline fill=\"none\" stroke=\"#66cc99\" stroke-width=\"0.0432\" points=\"0.0,0.0 1.0,1.0 1.0,-1.0\" opacity=\"0.8\" /></g></svg>"
      ],
      "text/plain": [
       "<LINESTRING (0 0, 1 1, 1 -1)>"
      ]
     },
     "execution_count": 13,
     "metadata": {},
     "output_type": "execute_result"
    }
   ],
   "source": [
    "LineString([(0, 0), (1, 1), (1, -1)])"
   ]
  },
  {
   "cell_type": "code",
   "execution_count": 14,
   "id": "7b3b57c6",
   "metadata": {},
   "outputs": [
    {
     "data": {
      "text/plain": [
       "False"
      ]
     },
     "execution_count": 14,
     "metadata": {},
     "output_type": "execute_result"
    }
   ],
   "source": [
    "LineString([(0, 0), (1, 1), (1, -1)]).is_ring"
   ]
  },
  {
   "cell_type": "code",
   "execution_count": 15,
   "id": "15dbd9a0",
   "metadata": {},
   "outputs": [
    {
     "data": {
      "image/svg+xml": [
       "<svg xmlns=\"http://www.w3.org/2000/svg\" xmlns:xlink=\"http://www.w3.org/1999/xlink\" width=\"100.0\" height=\"100.0\" viewBox=\"-0.08 -1.08 1.1600000000000001 2.16\" preserveAspectRatio=\"xMinYMin meet\"><g transform=\"matrix(1,0,0,-1,0,0.0)\"><polyline fill=\"none\" stroke=\"#66cc99\" stroke-width=\"0.0432\" points=\"0.0,0.0 1.0,1.0 1.0,-1.0 0.0,0.0\" opacity=\"0.8\" /></g></svg>"
      ],
      "text/plain": [
       "<LINEARRING (0 0, 1 1, 1 -1, 0 0)>"
      ]
     },
     "execution_count": 15,
     "metadata": {},
     "output_type": "execute_result"
    }
   ],
   "source": [
    "LinearRing([(0, 0), (1, 1), (1, -1)])"
   ]
  },
  {
   "cell_type": "code",
   "execution_count": 16,
   "id": "751f2c57",
   "metadata": {},
   "outputs": [
    {
     "data": {
      "text/plain": [
       "True"
      ]
     },
     "execution_count": 16,
     "metadata": {},
     "output_type": "execute_result"
    }
   ],
   "source": [
    "LinearRing([(0, 0), (1, 1), (1, -1)]).is_ring"
   ]
  },
  {
   "cell_type": "markdown",
   "id": "af305656",
   "metadata": {},
   "source": [
    "# object.is_simple"
   ]
  },
  {
   "cell_type": "markdown",
   "id": "7e490366",
   "metadata": {},
   "source": [
    "### 如果该要素不自相交，则返回True。"
   ]
  },
  {
   "cell_type": "code",
   "execution_count": 17,
   "id": "a09064d1",
   "metadata": {},
   "outputs": [
    {
     "data": {
      "image/svg+xml": [
       "<svg xmlns=\"http://www.w3.org/2000/svg\" xmlns:xlink=\"http://www.w3.org/1999/xlink\" width=\"100.0\" height=\"100.0\" viewBox=\"-0.08 -1.08 1.1600000000000001 2.16\" preserveAspectRatio=\"xMinYMin meet\"><g transform=\"matrix(1,0,0,-1,0,0.0)\"><polyline fill=\"none\" stroke=\"#66cc99\" stroke-width=\"0.0432\" points=\"0.0,0.0 1.0,1.0 1.0,-1.0 0.0,1.0\" opacity=\"0.8\" /></g></svg>"
      ],
      "text/plain": [
       "<LINESTRING (0 0, 1 1, 1 -1, 0 1)>"
      ]
     },
     "execution_count": 17,
     "metadata": {},
     "output_type": "execute_result"
    }
   ],
   "source": [
    "LineString([(0, 0), (1, 1), (1, -1), (0, 1)])"
   ]
  },
  {
   "cell_type": "code",
   "execution_count": 18,
   "id": "7fb02e8f",
   "metadata": {},
   "outputs": [
    {
     "data": {
      "text/plain": [
       "False"
      ]
     },
     "execution_count": 18,
     "metadata": {},
     "output_type": "execute_result"
    }
   ],
   "source": [
    "LineString([(0, 0), (1, 1), (1, -1), (0, 1)]).is_simple"
   ]
  },
  {
   "cell_type": "markdown",
   "id": "ce7e1bc4",
   "metadata": {},
   "source": [
    "# object.is_valid"
   ]
  },
  {
   "cell_type": "markdown",
   "id": "61ddac90",
   "metadata": {},
   "source": [
    "### 如果要素是”有效 “的，则返回True。"
   ]
  },
  {
   "cell_type": "code",
   "execution_count": 19,
   "id": "aac47158",
   "metadata": {},
   "outputs": [
    {
     "data": {
      "image/svg+xml": [
       "<svg xmlns=\"http://www.w3.org/2000/svg\" xmlns:xlink=\"http://www.w3.org/1999/xlink\" width=\"100.0\" height=\"100.0\" viewBox=\"-2.2 -2.2 5.4 5.4\" preserveAspectRatio=\"xMinYMin meet\"><g transform=\"matrix(1,0,0,-1,0,1.0)\"><g><path fill-rule=\"evenodd\" fill=\"#ff3333\" stroke=\"#555555\" stroke-width=\"0.10800000000000001\" opacity=\"0.6\" d=\"M 2.0,0.0 L 1.9903694533443939,-0.1960342806591212 L 1.9615705608064609,-0.3901806440322565 L 1.9138806714644176,-0.5805693545089247 L 1.8477590650225735,-0.7653668647301796 L 1.76384252869671,-0.9427934736519953 L 1.6629392246050905,-1.1111404660392044 L 1.546020906725474,-1.268786568327291 L 1.4142135623730951,-1.4142135623730951 L 1.268786568327291,-1.5460209067254738 L 1.1111404660392046,-1.6629392246050905 L 0.9427934736519956,-1.7638425286967099 L 0.7653668647301797,-1.8477590650225735 L 0.5805693545089247,-1.9138806714644179 L 0.39018064403225666,-1.9615705608064609 L 0.19603428065912154,-1.9903694533443936 L 1.2246467991473532e-16,-2.0 L -0.1960342806591213,-1.9903694533443939 L -0.3901806440322564,-1.9615705608064609 L -0.5805693545089243,-1.9138806714644179 L -0.7653668647301795,-1.8477590650225735 L -0.9427934736519954,-1.76384252869671 L -1.111140466039204,-1.6629392246050907 L -1.2687865683272908,-1.5460209067254742 L -1.414213562373095,-1.4142135623730951 L -1.546020906725474,-1.268786568327291 L -1.6629392246050907,-1.1111404660392044 L -1.7638425286967099,-0.9427934736519956 L -1.8477590650225735,-0.7653668647301798 L -1.9138806714644176,-0.5805693545089248 L -1.9615705608064609,-0.3901806440322572 L -1.9903694533443936,-0.19603428065912165 L -2.0,-2.4492935982947064e-16 L -1.9903694533443939,0.19603428065912118 L -1.9615705608064609,0.3901806440322567 L -1.9138806714644179,0.5805693545089242 L -1.8477590650225737,0.7653668647301793 L -1.76384252869671,0.9427934736519953 L -1.662939224605091,1.111140466039204 L -1.5460209067254742,1.2687865683272905 L -1.4142135623730954,1.414213562373095 L -1.2687865683272919,1.5460209067254733 L -1.1111404660392044,1.6629392246050905 L -0.9427934736519957,1.7638425286967099 L -0.7653668647301807,1.847759065022573 L -0.5805693545089249,1.9138806714644176 L -0.39018064403225733,1.9615705608064606 L -0.1960342806591209,1.9903694533443939 L -3.6739403974420594e-16,2.0 L 0.19603428065912018,1.9903694533443939 L 0.3901806440322566,1.9615705608064609 L 0.5805693545089241,1.9138806714644179 L 0.76536686473018,1.8477590650225733 L 0.9427934736519952,1.76384252869671 L 1.1111404660392037,1.662939224605091 L 1.2687865683272912,1.5460209067254738 L 1.4142135623730947,1.4142135623730954 L 1.546020906725473,1.2687865683272919 L 1.6629392246050905,1.1111404660392044 L 1.7638425286967097,0.9427934736519958 L 1.847759065022573,0.7653668647301808 L 1.9138806714644176,0.580569354508925 L 1.9615705608064606,0.39018064403225744 L 1.9903694533443939,0.196034280659121 L 2.0,0.0 z\" /><path fill-rule=\"evenodd\" fill=\"#ff3333\" stroke=\"#555555\" stroke-width=\"0.10800000000000001\" opacity=\"0.6\" d=\"M 3.0,1.0 L 2.990369453344394,0.8039657193408788 L 2.961570560806461,0.6098193559677435 L 2.9138806714644176,0.41943064549107534 L 2.8477590650225735,0.23463313526982044 L 2.76384252869671,0.057206526348004716 L 2.6629392246050907,-0.11114046603920436 L 2.5460209067254738,-0.268786568327291 L 2.414213562373095,-0.41421356237309515 L 2.268786568327291,-0.5460209067254738 L 2.1111404660392044,-0.6629392246050905 L 1.9427934736519956,-0.7638425286967099 L 1.7653668647301797,-0.8477590650225735 L 1.5805693545089246,-0.9138806714644179 L 1.3901806440322566,-0.9615705608064609 L 1.1960342806591215,-0.9903694533443936 L 1.0000000000000002,-1.0 L 0.8039657193408787,-0.9903694533443939 L 0.6098193559677436,-0.9615705608064609 L 0.41943064549107567,-0.9138806714644179 L 0.23463313526982055,-0.8477590650225735 L 0.057206526348004605,-0.7638425286967101 L -0.11114046603920391,-0.6629392246050907 L -0.26878656832729075,-0.5460209067254742 L -0.4142135623730949,-0.41421356237309515 L -0.546020906725474,-0.268786568327291 L -0.6629392246050907,-0.11114046603920436 L -0.7638425286967099,0.05720652634800438 L -0.8477590650225735,0.23463313526982021 L -0.9138806714644176,0.4194306454910752 L -0.9615705608064609,0.6098193559677427 L -0.9903694533443936,0.8039657193408783 L -1.0,0.9999999999999998 L -0.9903694533443939,1.196034280659121 L -0.9615705608064609,1.3901806440322568 L -0.9138806714644179,1.580569354508924 L -0.8477590650225737,1.7653668647301792 L -0.7638425286967101,1.9427934736519954 L -0.6629392246050909,2.111140466039204 L -0.5460209067254742,2.2687865683272905 L -0.41421356237309537,2.414213562373095 L -0.26878656832729186,2.5460209067254733 L -0.11114046603920436,2.6629392246050907 L 0.05720652634800427,2.76384252869671 L 0.23463313526981933,2.847759065022573 L 0.4194306454910751,2.9138806714644176 L 0.6098193559677427,2.961570560806461 L 0.8039657193408791,2.990369453344394 L 0.9999999999999997,3.0 L 1.1960342806591202,2.990369453344394 L 1.3901806440322566,2.961570560806461 L 1.580569354508924,2.913880671464418 L 1.7653668647301801,2.847759065022573 L 1.9427934736519952,2.76384252869671 L 2.1111404660392035,2.6629392246050907 L 2.2687865683272914,2.5460209067254738 L 2.414213562373095,2.4142135623730954 L 2.546020906725473,2.268786568327292 L 2.6629392246050907,2.1111404660392044 L 2.76384252869671,1.9427934736519958 L 2.847759065022573,1.7653668647301808 L 2.9138806714644176,1.580569354508925 L 2.961570560806461,1.3901806440322575 L 2.990369453344394,1.196034280659121 L 3.0,1.0 z\" /></g></g></svg>"
      ],
      "text/plain": [
       "<MULTIPOLYGON (((2 0, 1.99 -0.196, 1.962 -0.39, 1.914 -0.581, 1.848 -0.765, ...>"
      ]
     },
     "execution_count": 19,
     "metadata": {},
     "output_type": "execute_result"
    }
   ],
   "source": [
    "Polygons = MultiPolygon([Point(0, 0).buffer(2.0), Point(1, 1).buffer(2.0)]) # buffer()——缓冲操作\n",
    "Polygons"
   ]
  },
  {
   "cell_type": "code",
   "execution_count": 20,
   "id": "2eb641bf",
   "metadata": {},
   "outputs": [
    {
     "data": {
      "text/plain": [
       "False"
      ]
     },
     "execution_count": 20,
     "metadata": {},
     "output_type": "execute_result"
    }
   ],
   "source": [
    "Polygons.is_valid"
   ]
  },
  {
   "cell_type": "markdown",
   "id": "338f18ec",
   "metadata": {},
   "source": [
    "### is_valid谓词可以用来编写一个验证装饰器，可以确保只有有效的对象从构造函数返回。"
   ]
  },
  {
   "cell_type": "code",
   "execution_count": 21,
   "id": "0c515f85",
   "metadata": {},
   "outputs": [],
   "source": [
    "# 标准库 functools 中的 wrap 函数用于包装函数, 不改变原有函数的功能, 仅改变原有函数的一些属性, 例如 __name__, __doc__, __annotations__ 等属性\n",
    "from functools import wraps\n",
    "from shapely.errors import TopologicalError\n",
    "    \n",
    "def validate(func):\n",
    "    @wraps(func)\n",
    "    def wrapper(*args , **kwargs):\n",
    "        ob = func(*args , **kwargs)\n",
    "        if not ob.is_valid:\n",
    "            raise TopologicalError(\"给出的参数不能确定一个有效的几何对象!\")\n",
    "        return ob\n",
    "    return wrapper"
   ]
  },
  {
   "cell_type": "code",
   "execution_count": 22,
   "id": "72b62737",
   "metadata": {},
   "outputs": [],
   "source": [
    "@validate\n",
    "def ring(coordinates):\n",
    "    return LinearRing(coordinates)"
   ]
  },
  {
   "cell_type": "code",
   "execution_count": 23,
   "id": "98732feb",
   "metadata": {},
   "outputs": [],
   "source": [
    "coords = [(0, 0), (1, 1), (1, -1), (0, 1)]"
   ]
  },
  {
   "cell_type": "code",
   "execution_count": 24,
   "id": "d0b977f6",
   "metadata": {},
   "outputs": [
    {
     "data": {
      "image/svg+xml": [
       "<svg xmlns=\"http://www.w3.org/2000/svg\" xmlns:xlink=\"http://www.w3.org/1999/xlink\" width=\"100.0\" height=\"100.0\" viewBox=\"-0.08 -1.08 1.1600000000000001 2.16\" preserveAspectRatio=\"xMinYMin meet\"><g transform=\"matrix(1,0,0,-1,0,0.0)\"><polyline fill=\"none\" stroke=\"#ff3333\" stroke-width=\"0.0432\" points=\"0.0,0.0 1.0,1.0 1.0,-1.0 0.0,1.0 0.0,0.0\" opacity=\"0.8\" /></g></svg>"
      ],
      "text/plain": [
       "<LINEARRING (0 0, 1 1, 1 -1, 0 1, 0 0)>"
      ]
     },
     "execution_count": 24,
     "metadata": {},
     "output_type": "execute_result"
    }
   ],
   "source": [
    "LinearRing(coords)"
   ]
  },
  {
   "cell_type": "code",
   "execution_count": 25,
   "id": "339df347",
   "metadata": {},
   "outputs": [
    {
     "ename": "TopologicalError",
     "evalue": "给出的参数不能确定一个有效的几何对象!",
     "output_type": "error",
     "traceback": [
      "\u001b[1;31m---------------------------------------------------------------------------\u001b[0m",
      "\u001b[1;31mTopologicalError\u001b[0m                          Traceback (most recent call last)",
      "Cell \u001b[1;32mIn[25], line 1\u001b[0m\n\u001b[1;32m----> 1\u001b[0m \u001b[43mring\u001b[49m\u001b[43m(\u001b[49m\u001b[43mcoords\u001b[49m\u001b[43m)\u001b[49m\n",
      "Cell \u001b[1;32mIn[21], line 10\u001b[0m, in \u001b[0;36mvalidate.<locals>.wrapper\u001b[1;34m(*args, **kwargs)\u001b[0m\n\u001b[0;32m      8\u001b[0m ob \u001b[38;5;241m=\u001b[39m func(\u001b[38;5;241m*\u001b[39margs , \u001b[38;5;241m*\u001b[39m\u001b[38;5;241m*\u001b[39mkwargs)\n\u001b[0;32m      9\u001b[0m \u001b[38;5;28;01mif\u001b[39;00m \u001b[38;5;129;01mnot\u001b[39;00m ob\u001b[38;5;241m.\u001b[39mis_valid:\n\u001b[1;32m---> 10\u001b[0m     \u001b[38;5;28;01mraise\u001b[39;00m TopologicalError(\u001b[38;5;124m\"\u001b[39m\u001b[38;5;124m给出的参数不能确定一个有效的几何对象!\u001b[39m\u001b[38;5;124m\"\u001b[39m)\n\u001b[0;32m     11\u001b[0m \u001b[38;5;28;01mreturn\u001b[39;00m ob\n",
      "\u001b[1;31mTopologicalError\u001b[0m: 给出的参数不能确定一个有效的几何对象!"
     ]
    }
   ],
   "source": [
    "ring(coords)"
   ]
  },
  {
   "cell_type": "code",
   "execution_count": 26,
   "id": "7b22edea",
   "metadata": {},
   "outputs": [],
   "source": [
    "coords2 = [(0, 0), (1, 1), (2, 0), (1, -1)]"
   ]
  },
  {
   "cell_type": "code",
   "execution_count": 27,
   "id": "1ffad91d",
   "metadata": {},
   "outputs": [
    {
     "data": {
      "image/svg+xml": [
       "<svg xmlns=\"http://www.w3.org/2000/svg\" xmlns:xlink=\"http://www.w3.org/1999/xlink\" width=\"100.0\" height=\"100.0\" viewBox=\"-0.08 -1.08 2.16 2.16\" preserveAspectRatio=\"xMinYMin meet\"><g transform=\"matrix(1,0,0,-1,0,0.0)\"><polyline fill=\"none\" stroke=\"#66cc99\" stroke-width=\"0.0432\" points=\"0.0,0.0 1.0,1.0 2.0,0.0 1.0,-1.0 0.0,0.0\" opacity=\"0.8\" /></g></svg>"
      ],
      "text/plain": [
       "<LINEARRING (0 0, 1 1, 2 0, 1 -1, 0 0)>"
      ]
     },
     "execution_count": 27,
     "metadata": {},
     "output_type": "execute_result"
    }
   ],
   "source": [
    "ring(coords2)"
   ]
  },
  {
   "cell_type": "code",
   "execution_count": null,
   "id": "75d587fb",
   "metadata": {},
   "outputs": [],
   "source": []
  },
  {
   "cell_type": "code",
   "execution_count": null,
   "id": "6a8ae202",
   "metadata": {},
   "outputs": [],
   "source": []
  },
  {
   "cell_type": "code",
   "execution_count": null,
   "id": "f19e0a00",
   "metadata": {},
   "outputs": [],
   "source": []
  },
  {
   "cell_type": "code",
   "execution_count": null,
   "id": "8d1c5304",
   "metadata": {},
   "outputs": [],
   "source": []
  }
 ],
 "metadata": {
  "kernelspec": {
   "display_name": "Python 3 (ipykernel)",
   "language": "python",
   "name": "python3"
  },
  "language_info": {
   "codemirror_mode": {
    "name": "ipython",
    "version": 3
   },
   "file_extension": ".py",
   "mimetype": "text/x-python",
   "name": "python",
   "nbconvert_exporter": "python",
   "pygments_lexer": "ipython3",
   "version": "3.9.16"
  }
 },
 "nbformat": 4,
 "nbformat_minor": 5
}
