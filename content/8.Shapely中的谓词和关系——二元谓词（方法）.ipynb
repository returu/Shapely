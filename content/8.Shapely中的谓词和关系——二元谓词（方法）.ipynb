{
 "cells": [
  {
   "cell_type": "code",
   "execution_count": 1,
   "id": "1904172a",
   "metadata": {},
   "outputs": [],
   "source": [
    "from shapely import Point , LineString , LinearRing , Polygon"
   ]
  },
  {
   "cell_type": "markdown",
   "id": "506bcc46",
   "metadata": {},
   "source": [
    "# object.__eq__(other)"
   ]
  },
  {
   "cell_type": "markdown",
   "id": "68623d83",
   "metadata": {},
   "source": [
    "### 如果两个对象的几何类型相同，并且两个对象的坐标精确匹配，则返回True。"
   ]
  },
  {
   "cell_type": "code",
   "execution_count": 2,
   "id": "c3c1e858",
   "metadata": {},
   "outputs": [],
   "source": [
    "a = LineString([(0, 0), (1, 1)])\n",
    "b = LineString([(0.0, 0.0), (1.0, 1.0)])"
   ]
  },
  {
   "cell_type": "code",
   "execution_count": 3,
   "id": "f339f1e8",
   "metadata": {},
   "outputs": [
    {
     "data": {
      "text/plain": [
       "True"
      ]
     },
     "execution_count": 3,
     "metadata": {},
     "output_type": "execute_result"
    }
   ],
   "source": [
    "a.__eq__(b)"
   ]
  },
  {
   "cell_type": "markdown",
   "id": "f9f9edd5",
   "metadata": {},
   "source": [
    "# object.equals(other)"
   ]
  },
  {
   "cell_type": "markdown",
   "id": "f30f5516",
   "metadata": {},
   "source": [
    "### 如果对象的集合边界、内部和外部与另一个对象的边界、内部和外部重合，则返回True。"
   ]
  },
  {
   "cell_type": "code",
   "execution_count": 4,
   "id": "c3d9a47c",
   "metadata": {},
   "outputs": [],
   "source": [
    "a = LineString([(0, 0), (1, 1)])\n",
    "b = LineString([(0, 0), (0.5, 0.5), (1, 1)])\n",
    "c = LineString([(0, 0), (0, 0), (1, 1)])"
   ]
  },
  {
   "cell_type": "code",
   "execution_count": 5,
   "id": "30e1828d",
   "metadata": {},
   "outputs": [
    {
     "data": {
      "text/plain": [
       "True"
      ]
     },
     "execution_count": 5,
     "metadata": {},
     "output_type": "execute_result"
    }
   ],
   "source": [
    "a.equals(b)"
   ]
  },
  {
   "cell_type": "code",
   "execution_count": 6,
   "id": "bccbf8fc",
   "metadata": {},
   "outputs": [
    {
     "data": {
      "text/plain": [
       "False"
      ]
     },
     "execution_count": 6,
     "metadata": {},
     "output_type": "execute_result"
    }
   ],
   "source": [
    "a == b"
   ]
  },
  {
   "cell_type": "code",
   "execution_count": 7,
   "id": "9d877a28",
   "metadata": {},
   "outputs": [
    {
     "data": {
      "text/plain": [
       "True"
      ]
     },
     "execution_count": 7,
     "metadata": {},
     "output_type": "execute_result"
    }
   ],
   "source": [
    "b.equals(c)"
   ]
  },
  {
   "cell_type": "code",
   "execution_count": 8,
   "id": "4414a9b5",
   "metadata": {},
   "outputs": [
    {
     "data": {
      "text/plain": [
       "False"
      ]
     },
     "execution_count": 8,
     "metadata": {},
     "output_type": "execute_result"
    }
   ],
   "source": [
    "b == c"
   ]
  },
  {
   "cell_type": "markdown",
   "id": "c0dde70c",
   "metadata": {},
   "source": [
    "# object.equals_exact(other, tolerance)"
   ]
  },
  {
   "cell_type": "markdown",
   "id": "f53d3988",
   "metadata": {},
   "source": [
    "### 如果对象在所有点上都近似等于另一个对象，并达到指定的小数位精度，则返回True。"
   ]
  },
  {
   "cell_type": "code",
   "execution_count": 9,
   "id": "4bacdb0d",
   "metadata": {},
   "outputs": [],
   "source": [
    "a = LineString([(0, 0), (1, 1)])\n",
    "b = LineString([(0.1, 0.1), (1.1, 1.1)])"
   ]
  },
  {
   "cell_type": "code",
   "execution_count": 10,
   "id": "ebee2eae",
   "metadata": {},
   "outputs": [
    {
     "data": {
      "text/plain": [
       "True"
      ]
     },
     "execution_count": 10,
     "metadata": {},
     "output_type": "execute_result"
    }
   ],
   "source": [
    "a.equals_exact(b , tolerance=0.2)"
   ]
  },
  {
   "cell_type": "code",
   "execution_count": 11,
   "id": "8a3482a2",
   "metadata": {},
   "outputs": [
    {
     "data": {
      "text/plain": [
       "False"
      ]
     },
     "execution_count": 11,
     "metadata": {},
     "output_type": "execute_result"
    }
   ],
   "source": [
    "a.equals_exact(b , tolerance=0.1)"
   ]
  },
  {
   "cell_type": "markdown",
   "id": "bf658fe9",
   "metadata": {},
   "source": [
    "# object.contains(other)"
   ]
  },
  {
   "cell_type": "markdown",
   "id": "af646b59",
   "metadata": {},
   "source": [
    "### 如果对象的内部包含另外一个对象的边界和内部，并且两个对象的边界不接触，则返回True。"
   ]
  },
  {
   "cell_type": "code",
   "execution_count": 12,
   "id": "07c3c411",
   "metadata": {},
   "outputs": [
    {
     "data": {
      "text/plain": [
       "True"
      ]
     },
     "execution_count": 12,
     "metadata": {},
     "output_type": "execute_result"
    }
   ],
   "source": [
    "LineString([(0, 0), (1, 1)]).contains(Point(0.5, 0.5))"
   ]
  },
  {
   "cell_type": "code",
   "execution_count": 13,
   "id": "69526aab",
   "metadata": {},
   "outputs": [
    {
     "data": {
      "text/plain": [
       "True"
      ]
     },
     "execution_count": 13,
     "metadata": {},
     "output_type": "execute_result"
    }
   ],
   "source": [
    "Point(0.5, 0.5).within(LineString([(0, 0), (1, 1)]))"
   ]
  },
  {
   "cell_type": "markdown",
   "id": "d0de3711",
   "metadata": {},
   "source": [
    "### 一条线的端点是其边界的一部分，因此不包含在内。"
   ]
  },
  {
   "cell_type": "code",
   "execution_count": 14,
   "id": "8da6385c",
   "metadata": {},
   "outputs": [
    {
     "data": {
      "text/plain": [
       "False"
      ]
     },
     "execution_count": 14,
     "metadata": {},
     "output_type": "execute_result"
    }
   ],
   "source": [
    "LineString([(0, 0), (1, 1)]).contains(Point(1.0, 1.0))"
   ]
  },
  {
   "cell_type": "markdown",
   "id": "bd6eca1b",
   "metadata": {},
   "source": [
    "### 二元谓词可以直接作为filter()或itertools.ifilter()的谓词使用。"
   ]
  },
  {
   "cell_type": "code",
   "execution_count": 15,
   "id": "96e37ceb",
   "metadata": {},
   "outputs": [
    {
     "data": {
      "image/svg+xml": [
       "<svg xmlns=\"http://www.w3.org/2000/svg\" xmlns:xlink=\"http://www.w3.org/1999/xlink\" width=\"100.0\" height=\"100.0\" viewBox=\"-0.04 -0.04 1.08 1.08\" preserveAspectRatio=\"xMinYMin meet\"><g transform=\"matrix(1,0,0,-1,0,1.0)\"><polyline fill=\"none\" stroke=\"#66cc99\" stroke-width=\"0.0216\" points=\"0.0,0.0 1.0,1.0\" opacity=\"0.8\" /></g></svg>"
      ],
      "text/plain": [
       "<LINESTRING (0 0, 1 1)>"
      ]
     },
     "execution_count": 15,
     "metadata": {},
     "output_type": "execute_result"
    }
   ],
   "source": [
    "line = LineString([(0, 0), (1, 1)])\n",
    "line"
   ]
  },
  {
   "cell_type": "code",
   "execution_count": 16,
   "id": "80bb2cbc",
   "metadata": {},
   "outputs": [
    {
     "name": "stderr",
     "output_type": "stream",
     "text": [
      "D:\\Anaconda\\lib\\site-packages\\shapely\\predicates.py:540: RuntimeWarning: invalid value encountered in contains\n",
      "  return lib.contains(a, b, **kwargs)\n"
     ]
    }
   ],
   "source": [
    "contained = list(filter(line.contains, [Point(), Point(1.0, 1.0) , Point(0.5, 0.5)]))"
   ]
  },
  {
   "cell_type": "code",
   "execution_count": 17,
   "id": "ee3d54f0",
   "metadata": {},
   "outputs": [
    {
     "data": {
      "text/plain": [
       "[<POINT (0.5 0.5)>]"
      ]
     },
     "execution_count": 17,
     "metadata": {},
     "output_type": "execute_result"
    }
   ],
   "source": [
    "contained"
   ]
  },
  {
   "cell_type": "markdown",
   "id": "312ac451",
   "metadata": {},
   "source": [
    "# object.covers(other)"
   ]
  },
  {
   "cell_type": "markdown",
   "id": "db59f627",
   "metadata": {},
   "source": [
    "### 如果对象的内部包含另外一个对象的边界和内部，则返回True。这与object.contains(other)相似，只是其没有对内部点的要求。"
   ]
  },
  {
   "cell_type": "code",
   "execution_count": 18,
   "id": "8fdcfb72",
   "metadata": {},
   "outputs": [
    {
     "data": {
      "text/plain": [
       "True"
      ]
     },
     "execution_count": 18,
     "metadata": {},
     "output_type": "execute_result"
    }
   ],
   "source": [
    "LineString([(0, 0), (1, 1)]).covers(Point(1.0, 1.0))"
   ]
  },
  {
   "cell_type": "markdown",
   "id": "56f38d65",
   "metadata": {},
   "source": [
    "# object.covered_by(other)"
   ]
  },
  {
   "cell_type": "markdown",
   "id": "80407856",
   "metadata": {},
   "source": [
    "### 如果对象的每一个点都是其他对象的内部或边界上的一个点，则返回真。其等价于other.covers(object)。"
   ]
  },
  {
   "cell_type": "markdown",
   "id": "20e2ec8b",
   "metadata": {},
   "source": [
    "# object.crosses(other)"
   ]
  },
  {
   "cell_type": "markdown",
   "id": "ae94b37c",
   "metadata": {},
   "source": [
    "### 如果该对象的内部与另一对象的内部相交但不包含该对象，并且相交处的维数其本身或另一个维度，则返回True。"
   ]
  },
  {
   "cell_type": "code",
   "execution_count": 19,
   "id": "e20a9a1f",
   "metadata": {},
   "outputs": [
    {
     "data": {
      "text/plain": [
       "True"
      ]
     },
     "execution_count": 19,
     "metadata": {},
     "output_type": "execute_result"
    }
   ],
   "source": [
    "LineString([(0, 0), (1, 1)]).crosses(LineString([(0, 1), (1, 0)]))"
   ]
  },
  {
   "cell_type": "markdown",
   "id": "84315910",
   "metadata": {},
   "source": [
    "### 一条线不跨越它所包含的点。"
   ]
  },
  {
   "cell_type": "code",
   "execution_count": 20,
   "id": "cc5bc81a",
   "metadata": {},
   "outputs": [
    {
     "data": {
      "text/plain": [
       "False"
      ]
     },
     "execution_count": 20,
     "metadata": {},
     "output_type": "execute_result"
    }
   ],
   "source": [
    "LineString([(0, 0), (1, 1)]).crosses(Point(0.5, 0.5))"
   ]
  },
  {
   "cell_type": "markdown",
   "id": "c7edcdfe",
   "metadata": {},
   "source": [
    "# object.disjoint(other)"
   ]
  },
  {
   "cell_type": "markdown",
   "id": "f1df90e3",
   "metadata": {},
   "source": [
    "### 如果该对象的边界和内部与其他对象不相交（按集合论，没有任何同样的元素），则返回True。"
   ]
  },
  {
   "cell_type": "code",
   "execution_count": 21,
   "id": "5c137646",
   "metadata": {},
   "outputs": [
    {
     "data": {
      "text/plain": [
       "True"
      ]
     },
     "execution_count": 21,
     "metadata": {},
     "output_type": "execute_result"
    }
   ],
   "source": [
    "Point(0, 0).disjoint(Point(1, 1))"
   ]
  },
  {
   "cell_type": "code",
   "execution_count": 22,
   "id": "472f382b",
   "metadata": {},
   "outputs": [
    {
     "data": {
      "text/plain": [
       "False"
      ]
     },
     "execution_count": 22,
     "metadata": {},
     "output_type": "execute_result"
    }
   ],
   "source": [
    "line1 = LineString([(0, 0), (1, 1)])\n",
    "line2 = LineString([(0, 2), (2, 0)])\n",
    "\n",
    "line1.disjoint(line2)"
   ]
  },
  {
   "cell_type": "code",
   "execution_count": 23,
   "id": "f8be5cd4",
   "metadata": {},
   "outputs": [
    {
     "data": {
      "text/plain": [
       "<AxesSubplot:>"
      ]
     },
     "execution_count": 23,
     "metadata": {},
     "output_type": "execute_result"
    },
    {
     "data": {
      "image/png": "[encoded data removed]",
      "text/plain": [
       "<Figure size 500x500 with 1 Axes>"
      ]
     },
     "metadata": {},
     "output_type": "display_data"
    }
   ],
   "source": [
    "import geopandas as gpd\n",
    "import matplotlib.pyplot as plt\n",
    "\n",
    "f , ax = plt.subplots(figsize=(5,5))\n",
    "\n",
    "gpd.GeoDataFrame([line1] , columns=[\"geometry\"]).plot(ax=ax , edgecolor=\"red\" , linewidth=2 )\n",
    "gpd.GeoDataFrame([line2] , columns=[\"geometry\"]).plot(ax=ax , edgecolor=\"blue\" , linewidth=2)"
   ]
  },
  {
   "cell_type": "markdown",
   "id": "3615de9a",
   "metadata": {},
   "source": [
    "# object.intersects(other)"
   ]
  },
  {
   "cell_type": "markdown",
   "id": "5f186369",
   "metadata": {},
   "source": [
    "### 如果该对象的边界或内部以任何方式与另一对象的边界或内部相交，则返回True。"
   ]
  },
  {
   "cell_type": "code",
   "execution_count": 24,
   "id": "759dcb9e",
   "metadata": {},
   "outputs": [
    {
     "data": {
      "text/plain": [
       "True"
      ]
     },
     "execution_count": 24,
     "metadata": {},
     "output_type": "execute_result"
    }
   ],
   "source": [
    "line1 = LineString([(0, 0), (1, 1)])\n",
    "line2 = LineString([(0, 2), (2, 0)])\n",
    "\n",
    "line1.intersects(line2)"
   ]
  },
  {
   "cell_type": "markdown",
   "id": "aedbe4ca",
   "metadata": {},
   "source": [
    "# object.overlaps(other)"
   ]
  },
  {
   "cell_type": "markdown",
   "id": "e3dfaf98",
   "metadata": {},
   "source": [
    "### 如果几何要素有一个以上但不是所有的共同点，具有相同的维数，并且几何要素内部的交点与几何要素本身具有相同的维数，则返回True。"
   ]
  },
  {
   "cell_type": "markdown",
   "id": "4f8fa24d",
   "metadata": {},
   "source": [
    "### 也就是两个对象的intersects()为Ture，但是相互之间的within()为False，则返回Ture。"
   ]
  },
  {
   "cell_type": "code",
   "execution_count": 25,
   "id": "1ca5b494",
   "metadata": {},
   "outputs": [],
   "source": [
    "line1 = LineString([(0, 0), (1, 1)])\n",
    "line2 = LineString([(0, 1), (1, 0)])\n",
    "line3 = LineString([(0, 1), (0.5, 0.5), (1, 1), (2, 0)])"
   ]
  },
  {
   "cell_type": "code",
   "execution_count": 26,
   "id": "efc5dac7",
   "metadata": {},
   "outputs": [
    {
     "data": {
      "text/plain": [
       "False"
      ]
     },
     "execution_count": 26,
     "metadata": {},
     "output_type": "execute_result"
    }
   ],
   "source": [
    "line1.overlaps(line2)"
   ]
  },
  {
   "cell_type": "code",
   "execution_count": 27,
   "id": "7635e97d",
   "metadata": {},
   "outputs": [
    {
     "data": {
      "text/plain": [
       "True"
      ]
     },
     "execution_count": 27,
     "metadata": {},
     "output_type": "execute_result"
    }
   ],
   "source": [
    "line1.overlaps(line3)"
   ]
  },
  {
   "cell_type": "code",
   "execution_count": 28,
   "id": "59772c21",
   "metadata": {},
   "outputs": [
    {
     "data": {
      "text/plain": [
       "<AxesSubplot:>"
      ]
     },
     "execution_count": 28,
     "metadata": {},
     "output_type": "execute_result"
    },
    {
     "data": {
      "image/png": "[encoded data removed]",
      "text/plain": [
       "<Figure size 500x500 with 1 Axes>"
      ]
     },
     "metadata": {},
     "output_type": "display_data"
    }
   ],
   "source": [
    "import geopandas as gpd\n",
    "import matplotlib.pyplot as plt\n",
    "\n",
    "f , ax = plt.subplots(figsize=(5,5))\n",
    "\n",
    "gpd.GeoDataFrame([line1] , columns=[\"geometry\"]).plot(ax=ax , edgecolor=\"red\" , linewidth=2)\n",
    "gpd.GeoDataFrame([line2] , columns=[\"geometry\"]).plot(ax=ax , edgecolor=\"blue\" , linewidth=2)\n",
    "gpd.GeoDataFrame([line3] , columns=[\"geometry\"]).plot(ax=ax , edgecolor=\"green\" , linewidth=2)"
   ]
  },
  {
   "cell_type": "markdown",
   "id": "daa1ccb7",
   "metadata": {},
   "source": [
    "# object.touches(other)"
   ]
  },
  {
   "cell_type": "markdown",
   "id": "75730bc4",
   "metadata": {},
   "source": [
    "### 如果对象的边界仅与另一个对象的边界相交，并且不与另一个对象的其他部分相交，则返回True。"
   ]
  },
  {
   "cell_type": "code",
   "execution_count": 29,
   "id": "87e6f8c9",
   "metadata": {},
   "outputs": [
    {
     "data": {
      "image/svg+xml": [
       "<svg xmlns=\"http://www.w3.org/2000/svg\" xmlns:xlink=\"http://www.w3.org/1999/xlink\" width=\"100.0\" height=\"100.0\" viewBox=\"-0.04 -0.04 1.08 1.08\" preserveAspectRatio=\"xMinYMin meet\"><g transform=\"matrix(1,0,0,-1,0,1.0)\"><polyline fill=\"none\" stroke=\"#66cc99\" stroke-width=\"0.0216\" points=\"0.0,0.0 1.0,1.0\" opacity=\"0.8\" /></g></svg>"
      ],
      "text/plain": [
       "<LINESTRING (0 0, 1 1)>"
      ]
     },
     "execution_count": 29,
     "metadata": {},
     "output_type": "execute_result"
    }
   ],
   "source": [
    "a = LineString([(0, 0), (1, 1)])\n",
    "a"
   ]
  },
  {
   "cell_type": "code",
   "execution_count": 30,
   "id": "fd66d3b0",
   "metadata": {},
   "outputs": [
    {
     "data": {
      "image/svg+xml": [
       "<svg xmlns=\"http://www.w3.org/2000/svg\" xmlns:xlink=\"http://www.w3.org/1999/xlink\" width=\"100.0\" height=\"100.0\" viewBox=\"0.96 0.96 1.08 1.08\" preserveAspectRatio=\"xMinYMin meet\"><g transform=\"matrix(1,0,0,-1,0,3.0)\"><polyline fill=\"none\" stroke=\"#66cc99\" stroke-width=\"0.0216\" points=\"1.0,1.0 2.0,2.0\" opacity=\"0.8\" /></g></svg>"
      ],
      "text/plain": [
       "<LINESTRING (1 1, 2 2)>"
      ]
     },
     "execution_count": 30,
     "metadata": {},
     "output_type": "execute_result"
    }
   ],
   "source": [
    "b = LineString([(1, 1), (2, 2)])\n",
    "b"
   ]
  },
  {
   "cell_type": "code",
   "execution_count": 31,
   "id": "30a6352c",
   "metadata": {},
   "outputs": [
    {
     "data": {
      "text/plain": [
       "(True, True, False)"
      ]
     },
     "execution_count": 31,
     "metadata": {},
     "output_type": "execute_result"
    }
   ],
   "source": [
    "a.touches(b) , a.intersects(b) , a.overlaps(b)"
   ]
  },
  {
   "cell_type": "markdown",
   "id": "97852c14",
   "metadata": {},
   "source": [
    "# object.within(other)"
   ]
  },
  {
   "cell_type": "markdown",
   "id": "41f2bc00",
   "metadata": {},
   "source": [
    "### 如果对象的边界和内部仅与另一个对象的内部相交（而不是其边界或外部），则返回True。"
   ]
  },
  {
   "cell_type": "markdown",
   "id": "df2efdb5",
   "metadata": {},
   "source": [
    "### 在sorted()键中使用，within()使对象的空间排序变得容易。假设我们有4个要素：一个被一个多边形所包含的点，而这个多边形本身又被另一个多边形所包含，以及一个没有被包含的自由点。"
   ]
  },
  {
   "cell_type": "code",
   "execution_count": 32,
   "id": "89ba5a4f",
   "metadata": {},
   "outputs": [],
   "source": [
    "a = Point(2, 2)\n",
    "b = Polygon([[1, 1], [1, 3], [3, 3], [3, 1]])\n",
    "c = Polygon([[0, 0], [0, 4], [4, 4], [4, 0]])\n",
    "d = Point(-1, -1)"
   ]
  },
  {
   "cell_type": "code",
   "execution_count": 33,
   "id": "bb941c17",
   "metadata": {},
   "outputs": [
    {
     "data": {
      "text/plain": [
       "<matplotlib.legend.Legend at 0x297995cbdf0>"
      ]
     },
     "execution_count": 33,
     "metadata": {},
     "output_type": "execute_result"
    },
    {
     "data": {
      "image/png": "[encoded data removed]",
      "text/plain": [
       "<Figure size 500x500 with 1 Axes>"
      ]
     },
     "metadata": {},
     "output_type": "display_data"
    }
   ],
   "source": [
    "import geopandas as gpd\n",
    "import matplotlib.pyplot as plt\n",
    "\n",
    "f , ax = plt.subplots(figsize=(5,5))\n",
    "\n",
    "ax.scatter(2,2 , color=\"k\" , marker=\"+\", label=\"a\")\n",
    "ax.plot((1,1,3,3,1) , (1,3,3,1,1) , color=\"red\" , label=\"b\")\n",
    "ax.plot((0,0,4,4,0) , (0,4,4,0,0) , color=\"blue\" , label=\"c\")\n",
    "ax.scatter(-1,-1 , color=\"green\" , marker=\"*\", label=\"d\")\n",
    "\n",
    "plt.legend()"
   ]
  },
  {
   "cell_type": "markdown",
   "id": "6536c635",
   "metadata": {},
   "source": [
    "### 这些对象被收集到一个列表中"
   ]
  },
  {
   "cell_type": "code",
   "execution_count": 34,
   "id": "3950480b",
   "metadata": {},
   "outputs": [],
   "source": [
    "features = [c, a, d, b, c]"
   ]
  },
  {
   "cell_type": "markdown",
   "id": "4b2162fb",
   "metadata": {},
   "source": [
    "### 我们倾向于将其排序为 [d, c, c, b, a] 的反向包含顺序。正如在 Python Sorting HowTo 中所解释的，我们可以定义一个键函数，对每个列表元素进行操作，并返回一个值进行比较。我们的键函数将是一个包装类，它使用 Shapely 的二进制 within() 谓词实现 。"
   ]
  },
  {
   "cell_type": "code",
   "execution_count": 35,
   "id": "31fb2289",
   "metadata": {},
   "outputs": [],
   "source": [
    "class Within:\n",
    "    def __init__(self , o):\n",
    "        self.o = o\n",
    "    def __lt__(self , other): # python内置的比较运算符 __lt__(self, other) ——> 定义小于号的行为：x < y 调用 x.__lt__(y)\n",
    "        return self.o.within(other.o)"
   ]
  },
  {
   "cell_type": "markdown",
   "id": "feb72479",
   "metadata": {},
   "source": [
    "### 正如Python Sorting HowTo 中所解释的，小于的比较是保证在排序中使用的。这就是我们要依靠的空间排序。在特征d和c上试了一下，我们发现它是有效的。"
   ]
  },
  {
   "cell_type": "code",
   "execution_count": 36,
   "id": "3987fdcf",
   "metadata": {},
   "outputs": [
    {
     "data": {
      "text/plain": [
       "False"
      ]
     },
     "execution_count": 36,
     "metadata": {},
     "output_type": "execute_result"
    }
   ],
   "source": [
    "Within(d) < Within(c) # 调用 d.__lt__(c) ——> d.within(c)"
   ]
  },
  {
   "cell_type": "markdown",
   "id": "858784b5",
   "metadata": {},
   "source": [
    "### 它也在功能列表上工作，产生我们想要的顺序。"
   ]
  },
  {
   "cell_type": "code",
   "execution_count": 37,
   "id": "c78c55d1",
   "metadata": {},
   "outputs": [
    {
     "data": {
      "text/plain": [
       "True"
      ]
     },
     "execution_count": 37,
     "metadata": {},
     "output_type": "execute_result"
    }
   ],
   "source": [
    "[d, c, c, b, a] == sorted(features, key=Within, reverse=True) # 降序排列"
   ]
  },
  {
   "cell_type": "code",
   "execution_count": null,
   "id": "d0ce52ec",
   "metadata": {},
   "outputs": [],
   "source": []
  },
  {
   "cell_type": "code",
   "execution_count": null,
   "id": "b99a1935",
   "metadata": {},
   "outputs": [],
   "source": []
  },
  {
   "cell_type": "code",
   "execution_count": null,
   "id": "7d9aaf1a",
   "metadata": {},
   "outputs": [],
   "source": []
  }
 ],
 "metadata": {
  "kernelspec": {
   "display_name": "Python 3 (ipykernel)",
   "language": "python",
   "name": "python3"
  },
  "language_info": {
   "codemirror_mode": {
    "name": "ipython",
    "version": 3
   },
   "file_extension": ".py",
   "mimetype": "text/x-python",
   "name": "python",
   "nbconvert_exporter": "python",
   "pygments_lexer": "ipython3",
   "version": "3.9.16"
  }
 },
 "nbformat": 4,
 "nbformat_minor": 5
}
