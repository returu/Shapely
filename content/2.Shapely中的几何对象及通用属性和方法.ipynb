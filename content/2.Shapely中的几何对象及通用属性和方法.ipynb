{
 "cells": [
  {
   "cell_type": "markdown",
   "id": "8ec09de2",
   "metadata": {},
   "source": [
    "# 1.几何对象的实例化："
   ]
  },
  {
   "cell_type": "code",
   "execution_count": 1,
   "id": "83cdf0ee",
   "metadata": {},
   "outputs": [],
   "source": [
    "from shapely import Point\n",
    "from shapely import LineString\n",
    "from shapely import Polygon"
   ]
  },
  {
   "cell_type": "code",
   "execution_count": 2,
   "id": "7ce2868f",
   "metadata": {
    "scrolled": true
   },
   "outputs": [
    {
     "data": {
      "image/svg+xml": [
       "<svg xmlns=\"http://www.w3.org/2000/svg\" xmlns:xlink=\"http://www.w3.org/1999/xlink\" width=\"100.0\" height=\"100.0\" viewBox=\"-1.0 -1.0 2.0 2.0\" preserveAspectRatio=\"xMinYMin meet\"><g transform=\"matrix(1,0,0,-1,0,0.0)\"><circle cx=\"0.0\" cy=\"0.0\" r=\"0.06\" stroke=\"#555555\" stroke-width=\"0.02\" fill=\"#66cc99\" opacity=\"0.6\" /></g></svg>"
      ],
      "text/plain": [
       "<POINT (0 0)>"
      ]
     },
     "execution_count": 2,
     "metadata": {},
     "output_type": "execute_result"
    }
   ],
   "source": [
    "# 点的实例化\n",
    "point = Point(0, 0)\n",
    "point"
   ]
  },
  {
   "cell_type": "code",
   "execution_count": 3,
   "id": "b9ca0c72",
   "metadata": {},
   "outputs": [
    {
     "data": {
      "image/svg+xml": [
       "<svg xmlns=\"http://www.w3.org/2000/svg\" xmlns:xlink=\"http://www.w3.org/1999/xlink\" width=\"100.0\" height=\"100.0\" viewBox=\"-0.04 -0.04 1.08 1.08\" preserveAspectRatio=\"xMinYMin meet\"><g transform=\"matrix(1,0,0,-1,0,1.0)\"><polyline fill=\"none\" stroke=\"#66cc99\" stroke-width=\"0.0216\" points=\"0.0,0.0 1.0,1.0\" opacity=\"0.8\" /></g></svg>"
      ],
      "text/plain": [
       "<LINESTRING (0 0, 1 1)>"
      ]
     },
     "execution_count": 3,
     "metadata": {},
     "output_type": "execute_result"
    }
   ],
   "source": [
    "# 线的实例化\n",
    "line  = LineString([(0, 0), (1, 1)])\n",
    "line "
   ]
  },
  {
   "cell_type": "code",
   "execution_count": 4,
   "id": "2580f092",
   "metadata": {},
   "outputs": [
    {
     "data": {
      "image/svg+xml": [
       "<svg xmlns=\"http://www.w3.org/2000/svg\" xmlns:xlink=\"http://www.w3.org/1999/xlink\" width=\"100.0\" height=\"100.0\" viewBox=\"-0.04 -0.04 1.08 1.08\" preserveAspectRatio=\"xMinYMin meet\"><g transform=\"matrix(1,0,0,-1,0,1.0)\"><path fill-rule=\"evenodd\" fill=\"#66cc99\" stroke=\"#555555\" stroke-width=\"0.0216\" opacity=\"0.6\" d=\"M 0.0,0.0 L 1.0,1.0 L 1.0,0.0 L 0.0,0.0 z\" /></g></svg>"
      ],
      "text/plain": [
       "<POLYGON ((0 0, 1 1, 1 0, 0 0))>"
      ]
     },
     "execution_count": 4,
     "metadata": {},
     "output_type": "execute_result"
    }
   ],
   "source": [
    "# 面的实例化\n",
    "polygon = Polygon([(0, 0), (1, 1), (1, 0)])\n",
    "polygon"
   ]
  },
  {
   "cell_type": "markdown",
   "id": "f7bc895a",
   "metadata": {},
   "source": [
    "### Shapely是一个平面几何库，在几何分析中忽略了z。在构造实例时可以使用第三维 Z 坐标值，但对几何分析没有影响。"
   ]
  },
  {
   "cell_type": "code",
   "execution_count": 5,
   "id": "cf689c9c",
   "metadata": {},
   "outputs": [
    {
     "data": {
      "image/svg+xml": [
       "<svg xmlns=\"http://www.w3.org/2000/svg\" xmlns:xlink=\"http://www.w3.org/1999/xlink\" width=\"100.0\" height=\"100.0\" viewBox=\"-1.0 -1.0 2.0 2.0\" preserveAspectRatio=\"xMinYMin meet\"><g transform=\"matrix(1,0,0,-1,0,0.0)\"><circle cx=\"0.0\" cy=\"0.0\" r=\"0.06\" stroke=\"#555555\" stroke-width=\"0.02\" fill=\"#66cc99\" opacity=\"0.6\" /></g></svg>"
      ],
      "text/plain": [
       "<POINT Z (0 0 1)>"
      ]
     },
     "execution_count": 5,
     "metadata": {},
     "output_type": "execute_result"
    }
   ],
   "source": [
    "# 三维点的实例化\n",
    "point = Point(0, 0 , 1)\n",
    "point"
   ]
  },
  {
   "cell_type": "markdown",
   "id": "c9fcc99e",
   "metadata": {},
   "source": [
    "### 在所有的构造函数中，数字值会被转换为float浮点类型。换句话说，Point(0, 0)和Point(0.0, 0.0)会产生等同的几何实例。Shapely在构造实例时不检查其拓扑结构的有效性，因为在大多数情况下是不必要的。可以使用 :attr:is_valid 谓词对几何实例的有效性进行验证。"
   ]
  },
  {
   "cell_type": "code",
   "execution_count": 6,
   "id": "5c5abf7d",
   "metadata": {},
   "outputs": [
    {
     "data": {
      "text/plain": [
       "True"
      ]
     },
     "execution_count": 6,
     "metadata": {},
     "output_type": "execute_result"
    }
   ],
   "source": [
    "Point(0, 0) == Point(0.0, 0.0)"
   ]
  },
  {
   "cell_type": "markdown",
   "id": "b479e2e2",
   "metadata": {},
   "source": [
    "# 2.Shapely中的几何对象通用的属性和方法："
   ]
  },
  {
   "cell_type": "code",
   "execution_count": 7,
   "id": "37c2fc67",
   "metadata": {},
   "outputs": [],
   "source": [
    "point = Point(0, 0)\n",
    "line  = LineString([(0, 0), (1, 1)])\n",
    "polygon = Polygon([(0, 0), (1, 1), (1, 0)])"
   ]
  },
  {
   "cell_type": "markdown",
   "id": "a7eefd7b",
   "metadata": {},
   "source": [
    "### object.area ——  返回几何对象的面积（浮点类型）。"
   ]
  },
  {
   "cell_type": "code",
   "execution_count": 8,
   "id": "54dc1d93",
   "metadata": {},
   "outputs": [
    {
     "data": {
      "text/plain": [
       "(0.0, 0.0, 0.5)"
      ]
     },
     "execution_count": 8,
     "metadata": {},
     "output_type": "execute_result"
    }
   ],
   "source": [
    "point.area , line.area , polygon.area"
   ]
  },
  {
   "cell_type": "markdown",
   "id": "6e93e37d",
   "metadata": {},
   "source": [
    "### object.length —— 返回几何对象的长度（浮点类型）。"
   ]
  },
  {
   "cell_type": "code",
   "execution_count": 9,
   "id": "4f9ac720",
   "metadata": {},
   "outputs": [
    {
     "data": {
      "text/plain": [
       "(0.0, 1.4142135623730951, 3.414213562373095)"
      ]
     },
     "execution_count": 9,
     "metadata": {},
     "output_type": "execute_result"
    }
   ],
   "source": [
    "point.length , line.length , polygon.length"
   ]
  },
  {
   "cell_type": "markdown",
   "id": "059b2ac4",
   "metadata": {},
   "source": [
    "### object.bounds —— 返回一个表示几何对象边界的元祖(minx, miny, maxx, maxy)，即最小外包矩形。"
   ]
  },
  {
   "cell_type": "code",
   "execution_count": 10,
   "id": "05d39d3f",
   "metadata": {},
   "outputs": [
    {
     "data": {
      "text/plain": [
       "((0.0, 0.0, 0.0, 0.0), (0.0, 0.0, 1.0, 1.0), (0.0, 0.0, 1.0, 1.0))"
      ]
     },
     "execution_count": 10,
     "metadata": {},
     "output_type": "execute_result"
    }
   ],
   "source": [
    "point.bounds , line.bounds , polygon.bounds"
   ]
  },
  {
   "cell_type": "markdown",
   "id": "69020e9a",
   "metadata": {},
   "source": [
    "### object.minimum_clearance —— 返回一个节点被移动以产生一个无效的几何形状的最小距离。这可以被认为是衡量一个几何体稳健性的标准，较大的最小间隙值表明一个更稳健的几何体。如果一个几何体不存在最小间隙，例如一个点，这将返回math.infinity。"
   ]
  },
  {
   "cell_type": "code",
   "execution_count": 11,
   "id": "883e2bdf",
   "metadata": {},
   "outputs": [
    {
     "data": {
      "image/svg+xml": [
       "<svg xmlns=\"http://www.w3.org/2000/svg\" xmlns:xlink=\"http://www.w3.org/1999/xlink\" width=\"100.0\" height=\"100.0\" viewBox=\"-0.08 -0.08 2.16 1.1600000000000001\" preserveAspectRatio=\"xMinYMin meet\"><g transform=\"matrix(1,0,0,-1,0,1.0)\"><path fill-rule=\"evenodd\" fill=\"#66cc99\" stroke=\"#555555\" stroke-width=\"0.0432\" opacity=\"0.6\" d=\"M 0.0,0.0 L 2.0,0.0 L 2.0,1.0 L 0.0,1.0 L 0.0,0.0 z\" /></g></svg>"
      ],
      "text/plain": [
       "<POLYGON ((0 0, 2 0, 2 1, 0 1, 0 0))>"
      ]
     },
     "execution_count": 11,
     "metadata": {},
     "output_type": "execute_result"
    }
   ],
   "source": [
    "polygon = Polygon([(0, 0), (2, 0), (2, 1), (0, 1), (0, 0)])\n",
    "polygon"
   ]
  },
  {
   "cell_type": "code",
   "execution_count": 12,
   "id": "b0831dcc",
   "metadata": {},
   "outputs": [
    {
     "data": {
      "text/plain": [
       "1.0"
      ]
     },
     "execution_count": 12,
     "metadata": {},
     "output_type": "execute_result"
    }
   ],
   "source": [
    "polygon.minimum_clearance # 结果为长方形的短边长度"
   ]
  },
  {
   "cell_type": "code",
   "execution_count": 13,
   "id": "dada8b78",
   "metadata": {},
   "outputs": [
    {
     "data": {
      "image/svg+xml": [
       "<svg xmlns=\"http://www.w3.org/2000/svg\" xmlns:xlink=\"http://www.w3.org/1999/xlink\" width=\"100.0\" height=\"100.0\" viewBox=\"-0.04 -0.04 1.08 1.08\" preserveAspectRatio=\"xMinYMin meet\"><g transform=\"matrix(1,0,0,-1,0,1.0)\"><path fill-rule=\"evenodd\" fill=\"#66cc99\" stroke=\"#555555\" stroke-width=\"0.0216\" opacity=\"0.6\" d=\"M 0.0,0.0 L 1.0,1.0 L 1.0,0.0 L 0.0,0.0 z\" /></g></svg>"
      ],
      "text/plain": [
       "<POLYGON ((0 0, 1 1, 1 0, 0 0))>"
      ]
     },
     "execution_count": 13,
     "metadata": {},
     "output_type": "execute_result"
    }
   ],
   "source": [
    "polygon2 = Polygon([(0, 0), (1, 1), (1, 0)])\n",
    "polygon2"
   ]
  },
  {
   "cell_type": "code",
   "execution_count": 14,
   "id": "3d211b53",
   "metadata": {},
   "outputs": [
    {
     "data": {
      "text/plain": [
       "0.7071067811865476"
      ]
     },
     "execution_count": 14,
     "metadata": {},
     "output_type": "execute_result"
    }
   ],
   "source": [
    "polygon2.minimum_clearance # 结果为三角形中长边垂线段的长度值"
   ]
  },
  {
   "cell_type": "code",
   "execution_count": 15,
   "id": "b44ebf19",
   "metadata": {},
   "outputs": [
    {
     "data": {
      "text/plain": [
       "inf"
      ]
     },
     "execution_count": 15,
     "metadata": {},
     "output_type": "execute_result"
    }
   ],
   "source": [
    "# 点将返回math.infinity\n",
    "point = Point(0, 0)\n",
    "point.minimum_clearance"
   ]
  },
  {
   "cell_type": "code",
   "execution_count": 16,
   "id": "2f4737f7",
   "metadata": {},
   "outputs": [
    {
     "data": {
      "text/plain": [
       "1.4142135623730951"
      ]
     },
     "execution_count": 16,
     "metadata": {},
     "output_type": "execute_result"
    }
   ],
   "source": [
    " # 结果我线段长度\n",
    "line  = LineString([(0, 0), (1, 1)])\n",
    "line.minimum_clearance"
   ]
  },
  {
   "cell_type": "markdown",
   "id": "0ef84364",
   "metadata": {},
   "source": [
    "### object.geom_type —— 返回一个字符串，根据OpenGIS的格式标准指定对象的几何类型。"
   ]
  },
  {
   "cell_type": "code",
   "execution_count": 17,
   "id": "77dc7b41",
   "metadata": {},
   "outputs": [
    {
     "data": {
      "text/plain": [
       "'Point'"
      ]
     },
     "execution_count": 17,
     "metadata": {},
     "output_type": "execute_result"
    }
   ],
   "source": [
    "point.geom_type"
   ]
  },
  {
   "cell_type": "code",
   "execution_count": 18,
   "id": "dcaf7a52",
   "metadata": {},
   "outputs": [
    {
     "data": {
      "text/plain": [
       "'LineString'"
      ]
     },
     "execution_count": 18,
     "metadata": {},
     "output_type": "execute_result"
    }
   ],
   "source": [
    "line.geom_type"
   ]
  },
  {
   "cell_type": "code",
   "execution_count": 19,
   "id": "16eabe24",
   "metadata": {},
   "outputs": [
    {
     "data": {
      "text/plain": [
       "'Polygon'"
      ]
     },
     "execution_count": 19,
     "metadata": {},
     "output_type": "execute_result"
    }
   ],
   "source": [
    "polygon.geom_type"
   ]
  },
  {
   "cell_type": "markdown",
   "id": "82bb70b4",
   "metadata": {},
   "source": [
    "### object.distance(other) —— 返回该几何对象到其他几何对象的最小距离（浮点类型）。"
   ]
  },
  {
   "cell_type": "code",
   "execution_count": 20,
   "id": "70507f1f",
   "metadata": {},
   "outputs": [
    {
     "data": {
      "text/plain": [
       "1.4142135623730951"
      ]
     },
     "execution_count": 20,
     "metadata": {},
     "output_type": "execute_result"
    }
   ],
   "source": [
    "Point(0,0).distance(Point(1,1))"
   ]
  },
  {
   "cell_type": "markdown",
   "id": "926f7532",
   "metadata": {},
   "source": [
    "### object.hausdorff_distance(other) —— 返回该几何对象到另一个几何对象的Hausdorff距离（浮点数）。两个几何对象之间的Hausdorff距离（豪斯多夫距离，集合之间的距离度量）是任何一个几何对象上的一个点与另一个几何对象上的最近点之间的最远距离。"
   ]
  },
  {
   "cell_type": "code",
   "execution_count": 21,
   "id": "ad28d979",
   "metadata": {},
   "outputs": [],
   "source": [
    "point = Point(1, 1)\n",
    "line = LineString([(2, 0), (2, 4), (3, 4)])"
   ]
  },
  {
   "cell_type": "code",
   "execution_count": 22,
   "id": "b713e382",
   "metadata": {},
   "outputs": [
    {
     "data": {
      "text/plain": [
       "<matplotlib.collections.PathCollection at 0x19e8226c580>"
      ]
     },
     "execution_count": 22,
     "metadata": {},
     "output_type": "execute_result"
    },
    {
     "data": {
      "image/png": "[encoded data removed]",
      "text/plain": [
       "<Figure size 640x480 with 1 Axes>"
      ]
     },
     "metadata": {},
     "output_type": "display_data"
    }
   ],
   "source": [
    "import matplotlib.pyplot as plt\n",
    "\n",
    "plt.plot([2,2,3] , [0,4,4])\n",
    "plt.scatter(1,1)"
   ]
  },
  {
   "cell_type": "code",
   "execution_count": 23,
   "id": "a48e1438",
   "metadata": {},
   "outputs": [
    {
     "data": {
      "text/plain": [
       "3.605551275463989"
      ]
     },
     "execution_count": 23,
     "metadata": {},
     "output_type": "execute_result"
    }
   ],
   "source": [
    "point.hausdorff_distance(line)"
   ]
  },
  {
   "cell_type": "code",
   "execution_count": 24,
   "id": "95fa7b92",
   "metadata": {},
   "outputs": [
    {
     "data": {
      "text/plain": [
       "3.605551275463989"
      ]
     },
     "execution_count": 24,
     "metadata": {},
     "output_type": "execute_result"
    }
   ],
   "source": [
    "point.distance(Point(3, 4))"
   ]
  },
  {
   "cell_type": "markdown",
   "id": "f124f091",
   "metadata": {},
   "source": [
    "### object.representative_point() —— 返回一个在几何对象内的点。该点为标记点，在计算时依照计算量最小而定，至确保在几何对象内部，并不代表几何对象的质心。"
   ]
  },
  {
   "cell_type": "code",
   "execution_count": 25,
   "id": "6988c89e",
   "metadata": {},
   "outputs": [
    {
     "data": {
      "image/svg+xml": [
       "<svg xmlns=\"http://www.w3.org/2000/svg\" xmlns:xlink=\"http://www.w3.org/1999/xlink\" width=\"100.0\" height=\"100.0\" viewBox=\"-2.16 -2.16 4.32 4.32\" preserveAspectRatio=\"xMinYMin meet\"><g transform=\"matrix(1,0,0,-1,0,0.0)\"><path fill-rule=\"evenodd\" fill=\"#66cc99\" stroke=\"#555555\" stroke-width=\"0.0864\" opacity=\"0.6\" d=\"M 1.9903694533443939,-0.1960342806591212 L 1.9615705608064609,-0.3901806440322565 L 1.9138806714644176,-0.5805693545089247 L 1.8477590650225735,-0.7653668647301796 L 1.76384252869671,-0.9427934736519953 L 1.6629392246050905,-1.1111404660392044 L 1.546020906725474,-1.268786568327291 L 1.4142135623730951,-1.4142135623730951 L 1.268786568327291,-1.5460209067254738 L 1.1111404660392046,-1.6629392246050905 L 0.9427934736519956,-1.7638425286967099 L 0.7653668647301797,-1.8477590650225735 L 0.5805693545089247,-1.9138806714644179 L 0.39018064403225666,-1.9615705608064609 L 0.19603428065912154,-1.9903694533443936 L 1.2246467991473532e-16,-2.0 L -0.1960342806591213,-1.9903694533443939 L -0.3901806440322564,-1.9615705608064609 L -0.5805693545089243,-1.9138806714644179 L -0.7653668647301795,-1.8477590650225735 L -0.9427934736519954,-1.76384252869671 L -1.111140466039204,-1.6629392246050907 L -1.2687865683272908,-1.5460209067254742 L -1.414213562373095,-1.4142135623730951 L -1.546020906725474,-1.268786568327291 L -1.6629392246050907,-1.1111404660392044 L -1.7638425286967099,-0.9427934736519956 L -1.8477590650225735,-0.7653668647301798 L -1.9138806714644176,-0.5805693545089248 L -1.9615705608064609,-0.3901806440322572 L -1.9903694533443936,-0.19603428065912165 L -2.0,-2.4492935982947064e-16 L -1.9903694533443939,0.19603428065912118 L -1.9615705608064609,0.3901806440322567 L -1.9138806714644179,0.5805693545089242 L -1.8477590650225737,0.7653668647301793 L -1.76384252869671,0.9427934736519953 L -1.662939224605091,1.111140466039204 L -1.5460209067254742,1.2687865683272905 L -1.4142135623730954,1.414213562373095 L -1.2687865683272919,1.5460209067254733 L -1.1111404660392044,1.6629392246050905 L -0.9427934736519957,1.7638425286967099 L -0.7653668647301807,1.847759065022573 L -0.5805693545089249,1.9138806714644176 L -0.39018064403225733,1.9615705608064606 L -0.1960342806591209,1.9903694533443939 L -3.6739403974420594e-16,2.0 L 0.19603428065912018,1.9903694533443939 L 0.3901806440322566,1.9615705608064609 L 0.5805693545089241,1.9138806714644179 L 0.76536686473018,1.8477590650225733 L 0.9427934736519952,1.76384252869671 L 1.1111404660392037,1.662939224605091 L 1.2687865683272912,1.5460209067254738 L 1.4142135623730947,1.4142135623730954 L 1.546020906725473,1.2687865683272919 L 1.6629392246050905,1.1111404660392044 L 1.7638425286967097,0.9427934736519958 L 1.847759065022573,0.7653668647301808 L 1.9138806714644176,0.580569354508925 L 1.9615705608064606,0.39018064403225744 L 1.9903694533443939,0.196034280659121 L 2.0,0.0 L 1.9903694533443939,-0.1960342806591212 z M 0.9951847266721969,0.0980171403295605 L 0.9807852804032303,0.19509032201612872 L 0.9569403357322088,0.2902846772544625 L 0.9238795325112865,0.3826834323650904 L 0.8819212643483548,0.4713967368259979 L 0.8314696123025452,0.5555702330196022 L 0.7730104533627365,0.6343932841636459 L 0.7071067811865474,0.7071067811865477 L 0.6343932841636456,0.7730104533627369 L 0.5555702330196018,0.8314696123025455 L 0.4713967368259976,0.881921264348355 L 0.38268343236509,0.9238795325112866 L 0.29028467725446205,0.9569403357322089 L 0.1950903220161283,0.9807852804032304 L 0.09801714032956009,0.9951847266721969 L -1.8369701987210297e-16,1.0 L -0.09801714032956045,0.9951847266721969 L -0.19509032201612866,0.9807852804032303 L -0.29028467725446244,0.9569403357322088 L -0.38268343236509034,0.9238795325112865 L -0.47139673682599786,0.8819212643483549 L -0.5555702330196022,0.8314696123025452 L -0.6343932841636459,0.7730104533627367 L -0.7071067811865477,0.7071067811865475 L -0.7730104533627371,0.6343932841636453 L -0.8314696123025455,0.555570233019602 L -0.881921264348355,0.47139673682599764 L -0.9238795325112868,0.38268343236508967 L -0.9569403357322089,0.2902846772544621 L -0.9807852804032304,0.19509032201612836 L -0.9951847266721969,0.09801714032956059 L -1.0,-1.2246467991473532e-16 L -0.9951847266721968,-0.09801714032956083 L -0.9807852804032304,-0.1950903220161286 L -0.9569403357322088,-0.2902846772544624 L -0.9238795325112867,-0.3826834323650899 L -0.8819212643483549,-0.4713967368259978 L -0.8314696123025453,-0.5555702330196022 L -0.773010453362737,-0.6343932841636455 L -0.7071067811865475,-0.7071067811865476 L -0.6343932841636454,-0.7730104533627371 L -0.555570233019602,-0.8314696123025453 L -0.4713967368259977,-0.881921264348355 L -0.3826834323650897,-0.9238795325112867 L -0.29028467725446216,-0.9569403357322089 L -0.1950903220161282,-0.9807852804032304 L -0.09801714032956065,-0.9951847266721969 L 6.123233995736766e-17,-1.0 L 0.09801714032956077,-0.9951847266721968 L 0.19509032201612833,-0.9807852804032304 L 0.29028467725446233,-0.9569403357322089 L 0.38268343236508984,-0.9238795325112867 L 0.4713967368259978,-0.8819212643483549 L 0.5555702330196023,-0.8314696123025452 L 0.6343932841636455,-0.7730104533627369 L 0.7071067811865476,-0.7071067811865476 L 0.773010453362737,-0.6343932841636455 L 0.8314696123025452,-0.5555702330196022 L 0.881921264348355,-0.47139673682599764 L 0.9238795325112867,-0.3826834323650898 L 0.9569403357322088,-0.29028467725446233 L 0.9807852804032304,-0.19509032201612825 L 0.9951847266721969,-0.0980171403295606 L 1.0,0.0 L 0.9951847266721969,0.0980171403295605 z\" /></g></svg>"
      ],
      "text/plain": [
       "<POLYGON ((1.99 -0.196, 1.962 -0.39, 1.914 -0.581, 1.848 -0.765, 1.764 -0.94...>"
      ]
     },
     "execution_count": 25,
     "metadata": {},
     "output_type": "execute_result"
    }
   ],
   "source": [
    "donut = Point(0, 0).buffer(2.0).difference(Point(0, 0).buffer(1.0))\n",
    "donut"
   ]
  },
  {
   "cell_type": "code",
   "execution_count": 26,
   "id": "0ab44424",
   "metadata": {},
   "outputs": [
    {
     "data": {
      "image/svg+xml": [
       "<svg xmlns=\"http://www.w3.org/2000/svg\" xmlns:xlink=\"http://www.w3.org/1999/xlink\" width=\"100.0\" height=\"100.0\" viewBox=\"-0.9999999999999999 -1.0 2.0 2.0\" preserveAspectRatio=\"xMinYMin meet\"><g transform=\"matrix(1,0,0,-1,0,0.0)\"><circle cx=\"7.570881491923111e-17\" cy=\"-5.8379362153627886e-18\" r=\"0.06\" stroke=\"#555555\" stroke-width=\"0.02\" fill=\"#66cc99\" opacity=\"0.6\" /></g></svg>"
      ],
      "text/plain": [
       "<POINT (0 0)>"
      ]
     },
     "execution_count": 26,
     "metadata": {},
     "output_type": "execute_result"
    }
   ],
   "source": [
    "# 几何对象的质心\n",
    "donut.centroid"
   ]
  },
  {
   "cell_type": "code",
   "execution_count": 27,
   "id": "fbfef1ec",
   "metadata": {},
   "outputs": [
    {
     "data": {
      "image/svg+xml": [
       "<svg xmlns=\"http://www.w3.org/2000/svg\" xmlns:xlink=\"http://www.w3.org/1999/xlink\" width=\"100.0\" height=\"100.0\" viewBox=\"0.4975923633360986 -0.9509914298352198 2.0 2.0\" preserveAspectRatio=\"xMinYMin meet\"><g transform=\"matrix(1,0,0,-1,0,0.09801714032956044)\"><circle cx=\"1.4975923633360986\" cy=\"0.04900857016478025\" r=\"0.06\" stroke=\"#555555\" stroke-width=\"0.02\" fill=\"#66cc99\" opacity=\"0.6\" /></g></svg>"
      ],
      "text/plain": [
       "<POINT (1.498 0.049)>"
      ]
     },
     "execution_count": 27,
     "metadata": {},
     "output_type": "execute_result"
    }
   ],
   "source": [
    "donut.representative_point() "
   ]
  },
  {
   "cell_type": "code",
   "execution_count": 28,
   "id": "4b6bbdd2",
   "metadata": {},
   "outputs": [
    {
     "data": {
      "text/plain": [
       "Text(0.8, 0.3, 'representative_point')"
      ]
     },
     "execution_count": 28,
     "metadata": {},
     "output_type": "execute_result"
    },
    {
     "data": {
      "image/png": "[encoded data removed]",
      "text/plain": [
       "<Figure size 300x300 with 1 Axes>"
      ]
     },
     "metadata": {},
     "output_type": "display_data"
    }
   ],
   "source": [
    "import geopandas as gpd\n",
    "\n",
    "f ,ax = plt.subplots(figsize=(3,3))\n",
    "\n",
    "gpd.GeoDataFrame([donut] , columns=[\"geometry\"]).plot(ax=ax,alpha=0.5)\n",
    "ax.scatter(donut.centroid.x , donut.centroid.y,color=\"black\",marker=\"+\") # centroid\n",
    "ax.scatter(donut.representative_point() .x , donut.representative_point() .y,color=\"red\",marker=\"*\") # representative_point() \n",
    "\n",
    "ax.text(-0.6, -0.4, r'centroid', fontsize=10)\n",
    "ax.text(0.8, 0.3, r'representative_point', fontsize=10)"
   ]
  },
  {
   "cell_type": "code",
   "execution_count": null,
   "id": "ae0ac1c9",
   "metadata": {},
   "outputs": [],
   "source": []
  },
  {
   "cell_type": "code",
   "execution_count": null,
   "id": "176d4375",
   "metadata": {},
   "outputs": [],
   "source": []
  },
  {
   "cell_type": "code",
   "execution_count": null,
   "id": "8a96d706",
   "metadata": {},
   "outputs": [],
   "source": []
  },
  {
   "cell_type": "code",
   "execution_count": null,
   "id": "03dafe12",
   "metadata": {},
   "outputs": [],
   "source": []
  }
 ],
 "metadata": {
  "kernelspec": {
   "display_name": "Python 3 (ipykernel)",
   "language": "python",
   "name": "python3"
  },
  "language_info": {
   "codemirror_mode": {
    "name": "ipython",
    "version": 3
   },
   "file_extension": ".py",
   "mimetype": "text/x-python",
   "name": "python",
   "nbconvert_exporter": "python",
   "pygments_lexer": "ipython3",
   "version": "3.9.16"
  }
 },
 "nbformat": 4,
 "nbformat_minor": 5
}
