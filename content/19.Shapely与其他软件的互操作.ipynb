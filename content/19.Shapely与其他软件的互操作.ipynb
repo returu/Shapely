{
 "cells": [
  {
   "cell_type": "code",
   "execution_count": 1,
   "id": "21f62175",
   "metadata": {},
   "outputs": [],
   "source": [
    "from shapely import Point , LineString , LinearRing , Polygon , MultiPoint , MultiLineString , MultiPolygon"
   ]
  },
  {
   "cell_type": "markdown",
   "id": "4c2e5422",
   "metadata": {},
   "source": [
    "# 1.WKT数据格式"
   ]
  },
  {
   "cell_type": "code",
   "execution_count": 2,
   "id": "420e7a1b",
   "metadata": {},
   "outputs": [
    {
     "data": {
      "text/plain": [
       "'POINT (0 0)'"
      ]
     },
     "execution_count": 2,
     "metadata": {},
     "output_type": "execute_result"
    }
   ],
   "source": [
    "Point(0,0).wkt"
   ]
  },
  {
   "cell_type": "code",
   "execution_count": 3,
   "id": "d57c3857",
   "metadata": {},
   "outputs": [
    {
     "data": {
      "text/plain": [
       "b'\\x01\\x01\\x00\\x00\\x00\\x00\\x00\\x00\\x00\\x00\\x00\\x00\\x00\\x00\\x00\\x00\\x00\\x00\\x00\\x00\\x00'"
      ]
     },
     "execution_count": 3,
     "metadata": {},
     "output_type": "execute_result"
    }
   ],
   "source": [
    "Point(0,0).wkb"
   ]
  },
  {
   "cell_type": "markdown",
   "id": "b099d7b1",
   "metadata": {},
   "source": [
    "## shapely.wkb.dumps(ob)"
   ]
  },
  {
   "cell_type": "markdown",
   "id": "79234d00",
   "metadata": {},
   "source": [
    "### 返回几何对象的WKB表达。"
   ]
  },
  {
   "cell_type": "markdown",
   "id": "451ab9a5",
   "metadata": {},
   "source": [
    "## shapely.wkb.loads(wkb)"
   ]
  },
  {
   "cell_type": "markdown",
   "id": "7a917e3f",
   "metadata": {},
   "source": [
    "### 从WKB表达返回一个几何对象。"
   ]
  },
  {
   "cell_type": "code",
   "execution_count": 4,
   "id": "05bc842d",
   "metadata": {},
   "outputs": [],
   "source": [
    "from shapely import wkb\n",
    "\n",
    "pt = Point(0,0)"
   ]
  },
  {
   "cell_type": "code",
   "execution_count": 5,
   "id": "5f9bde44",
   "metadata": {},
   "outputs": [
    {
     "data": {
      "text/plain": [
       "b'\\x01\\x01\\x00\\x00\\x00\\x00\\x00\\x00\\x00\\x00\\x00\\x00\\x00\\x00\\x00\\x00\\x00\\x00\\x00\\x00\\x00'"
      ]
     },
     "execution_count": 5,
     "metadata": {},
     "output_type": "execute_result"
    }
   ],
   "source": [
    "wkb.dumps(pt)"
   ]
  },
  {
   "cell_type": "code",
   "execution_count": 6,
   "id": "bf6a1a61",
   "metadata": {},
   "outputs": [
    {
     "data": {
      "text/plain": [
       "b'\\x01\\x01\\x00\\x00\\x00\\x00\\x00\\x00\\x00\\x00\\x00\\x00\\x00\\x00\\x00\\x00\\x00\\x00\\x00\\x00\\x00'"
      ]
     },
     "execution_count": 6,
     "metadata": {},
     "output_type": "execute_result"
    }
   ],
   "source": [
    "pt.wkb"
   ]
  },
  {
   "cell_type": "code",
   "execution_count": 7,
   "id": "95c17dcc",
   "metadata": {},
   "outputs": [
    {
     "data": {
      "text/plain": [
       "'POINT (0 0)'"
      ]
     },
     "execution_count": 7,
     "metadata": {},
     "output_type": "execute_result"
    }
   ],
   "source": [
    "wkb.loads(pt.wkb).wkt"
   ]
  },
  {
   "cell_type": "markdown",
   "id": "a79270cb",
   "metadata": {},
   "source": [
    "## shapely.wkt.dumps(ob)"
   ]
  },
  {
   "cell_type": "markdown",
   "id": "6d6780dc",
   "metadata": {},
   "source": [
    "### 返回几何对象的WKT表达。有几个关键字参数可以用来改变返回的WKT，更多细节请参见文档说明。"
   ]
  },
  {
   "cell_type": "markdown",
   "id": "a30b68b3",
   "metadata": {},
   "source": [
    "## shapely.wkt.loads(wkt)"
   ]
  },
  {
   "cell_type": "markdown",
   "id": "e1bc3eb9",
   "metadata": {},
   "source": [
    "### 从WKT表达返回一个几何对象。"
   ]
  },
  {
   "cell_type": "code",
   "execution_count": 8,
   "id": "7064e47c",
   "metadata": {},
   "outputs": [],
   "source": [
    "from shapely import wkt\n",
    "\n",
    "pt = Point(0, 0)"
   ]
  },
  {
   "cell_type": "code",
   "execution_count": 9,
   "id": "b0ffbd07",
   "metadata": {},
   "outputs": [
    {
     "data": {
      "text/plain": [
       "'POINT (0.0000000000000000 0.0000000000000000)'"
      ]
     },
     "execution_count": 9,
     "metadata": {},
     "output_type": "execute_result"
    }
   ],
   "source": [
    "thewkt = wkt.dumps(pt)\n",
    "thewkt"
   ]
  },
  {
   "cell_type": "code",
   "execution_count": 10,
   "id": "96cd3190",
   "metadata": {},
   "outputs": [
    {
     "data": {
      "text/plain": [
       "'POINT (0 0)'"
      ]
     },
     "execution_count": 10,
     "metadata": {},
     "output_type": "execute_result"
    }
   ],
   "source": [
    "pt.wkt"
   ]
  },
  {
   "cell_type": "code",
   "execution_count": 11,
   "id": "a16b76f9",
   "metadata": {},
   "outputs": [
    {
     "data": {
      "text/plain": [
       "'POINT (0 0)'"
      ]
     },
     "execution_count": 11,
     "metadata": {},
     "output_type": "execute_result"
    }
   ],
   "source": [
    "wkt.dumps(pt , trim=True)"
   ]
  },
  {
   "cell_type": "markdown",
   "id": "c3dcba5a",
   "metadata": {},
   "source": [
    "# 2.Numpy和Python数组"
   ]
  },
  {
   "cell_type": "code",
   "execution_count": 12,
   "id": "46a441a0",
   "metadata": {},
   "outputs": [
    {
     "data": {
      "text/plain": [
       "array([[0., 0.]])"
      ]
     },
     "execution_count": 12,
     "metadata": {},
     "output_type": "execute_result"
    }
   ],
   "source": [
    "import numpy as np\n",
    "\n",
    "np.asarray(Point(0,0).coords)"
   ]
  },
  {
   "cell_type": "code",
   "execution_count": 13,
   "id": "cb1e778f",
   "metadata": {},
   "outputs": [
    {
     "data": {
      "text/plain": [
       "array([[0., 0.],\n",
       "       [1., 1.]])"
      ]
     },
     "execution_count": 13,
     "metadata": {},
     "output_type": "execute_result"
    }
   ],
   "source": [
    "np.asarray(LineString([(0,0) , (1,1)]).coords)"
   ]
  },
  {
   "cell_type": "markdown",
   "id": "88430564",
   "metadata": {},
   "source": [
    "### 通过xy属性，同种类型的几何对象的坐标可以作为标准的Python的x、y值数组。"
   ]
  },
  {
   "cell_type": "code",
   "execution_count": 14,
   "id": "fafd5461",
   "metadata": {},
   "outputs": [
    {
     "data": {
      "text/plain": [
       "(array('d', [0.0]), array('d', [0.0]))"
      ]
     },
     "execution_count": 14,
     "metadata": {},
     "output_type": "execute_result"
    }
   ],
   "source": [
    "Point(0,0).xy"
   ]
  },
  {
   "cell_type": "code",
   "execution_count": 15,
   "id": "14d36234",
   "metadata": {},
   "outputs": [
    {
     "data": {
      "text/plain": [
       "(array('d', [0.0, 1.0]), array('d', [0.0, 1.0]))"
      ]
     },
     "execution_count": 15,
     "metadata": {},
     "output_type": "execute_result"
    }
   ],
   "source": [
    "LineString([(0,0) , (1,1)]).xy"
   ]
  },
  {
   "cell_type": "markdown",
   "id": "ed7a2526",
   "metadata": {},
   "source": [
    "# 3.Python地理接口"
   ]
  },
  {
   "cell_type": "markdown",
   "id": "7aedea6b",
   "metadata": {},
   "source": [
    "## shapely.geometry.shape(context)"
   ]
  },
  {
   "cell_type": "markdown",
   "id": "2fae24d3",
   "metadata": {},
   "source": [
    "### 返回一个新的、独立的几何对象，其坐标是从context中复制的。"
   ]
  },
  {
   "cell_type": "code",
   "execution_count": 16,
   "id": "dcc4893d",
   "metadata": {},
   "outputs": [
    {
     "data": {
      "image/svg+xml": [
       "<svg xmlns=\"http://www.w3.org/2000/svg\" xmlns:xlink=\"http://www.w3.org/1999/xlink\" width=\"100.0\" height=\"100.0\" viewBox=\"-1.0 -1.0 2.0 2.0\" preserveAspectRatio=\"xMinYMin meet\"><g transform=\"matrix(1,0,0,-1,0,0.0)\"><circle cx=\"0.0\" cy=\"0.0\" r=\"0.06\" stroke=\"#555555\" stroke-width=\"0.02\" fill=\"#66cc99\" opacity=\"0.6\" /></g></svg>"
      ],
      "text/plain": [
       "<POINT (0 0)>"
      ]
     },
     "execution_count": 16,
     "metadata": {},
     "output_type": "execute_result"
    }
   ],
   "source": [
    "from shapely.geometry import shape\n",
    "\n",
    "data = {\"type\":\"Point\" , \"coordinates\":(0,0)}\n",
    "\n",
    "geom = shape(data)\n",
    "geom"
   ]
  },
  {
   "cell_type": "code",
   "execution_count": 17,
   "id": "e0c3627e",
   "metadata": {},
   "outputs": [
    {
     "data": {
      "text/plain": [
       "'Point'"
      ]
     },
     "execution_count": 17,
     "metadata": {},
     "output_type": "execute_result"
    }
   ],
   "source": [
    "geom.geom_type"
   ]
  },
  {
   "cell_type": "code",
   "execution_count": 18,
   "id": "cf38e0eb",
   "metadata": {},
   "outputs": [
    {
     "data": {
      "text/plain": [
       "[(0.0, 0.0)]"
      ]
     },
     "execution_count": 18,
     "metadata": {},
     "output_type": "execute_result"
    }
   ],
   "source": [
    "list(geom.coords)"
   ]
  },
  {
   "cell_type": "markdown",
   "id": "043ab188",
   "metadata": {},
   "source": [
    "### 进一步说明："
   ]
  },
  {
   "cell_type": "code",
   "execution_count": 19,
   "id": "7f59f177",
   "metadata": {},
   "outputs": [],
   "source": [
    "# 首先建立一个GeoThing类，这个类接收字典参数，并通过 __geo_interface__ 属性返回。\n",
    "class GeoThing:\n",
    "    def __init__(self , d):\n",
    "        self.__geo_interface__ = d"
   ]
  },
  {
   "cell_type": "code",
   "execution_count": 20,
   "id": "470a755a",
   "metadata": {},
   "outputs": [],
   "source": [
    "# 进行实例化，生成 thing 对象\n",
    "thing = GeoThing({\"type\":\"Point\" , \"coordinates\":(0,0)})"
   ]
  },
  {
   "cell_type": "code",
   "execution_count": 21,
   "id": "a3e081de",
   "metadata": {},
   "outputs": [
    {
     "data": {
      "image/svg+xml": [
       "<svg xmlns=\"http://www.w3.org/2000/svg\" xmlns:xlink=\"http://www.w3.org/1999/xlink\" width=\"100.0\" height=\"100.0\" viewBox=\"-1.0 -1.0 2.0 2.0\" preserveAspectRatio=\"xMinYMin meet\"><g transform=\"matrix(1,0,0,-1,0,0.0)\"><circle cx=\"0.0\" cy=\"0.0\" r=\"0.06\" stroke=\"#555555\" stroke-width=\"0.02\" fill=\"#66cc99\" opacity=\"0.6\" /></g></svg>"
      ],
      "text/plain": [
       "<POINT (0 0)>"
      ]
     },
     "execution_count": 21,
     "metadata": {},
     "output_type": "execute_result"
    }
   ],
   "source": [
    "# 通过 shape()函数进行转换\n",
    "geom = shape(data)\n",
    "geom"
   ]
  },
  {
   "cell_type": "code",
   "execution_count": 22,
   "id": "f30b8c34",
   "metadata": {},
   "outputs": [
    {
     "data": {
      "text/plain": [
       "'Point'"
      ]
     },
     "execution_count": 22,
     "metadata": {},
     "output_type": "execute_result"
    }
   ],
   "source": [
    "geom.geom_type"
   ]
  },
  {
   "cell_type": "code",
   "execution_count": 23,
   "id": "c5d0bfab",
   "metadata": {},
   "outputs": [
    {
     "data": {
      "text/plain": [
       "[(0.0, 0.0)]"
      ]
     },
     "execution_count": 23,
     "metadata": {},
     "output_type": "execute_result"
    }
   ],
   "source": [
    "list(geom.coords)"
   ]
  },
  {
   "cell_type": "code",
   "execution_count": null,
   "id": "14928041",
   "metadata": {},
   "outputs": [],
   "source": []
  },
  {
   "cell_type": "markdown",
   "id": "9a78686f",
   "metadata": {},
   "source": [
    "## shapely.geometry.mapping(ob)"
   ]
  },
  {
   "cell_type": "markdown",
   "id": "68d39bb0",
   "metadata": {},
   "source": [
    "### 从一个几何体或任何实现__geo_interface__的对象中返回一个类似GeoJSON的映射。"
   ]
  },
  {
   "cell_type": "markdown",
   "id": "c57e53cb",
   "metadata": {},
   "source": [
    "### 例如，使用相同的GeoThing类："
   ]
  },
  {
   "cell_type": "code",
   "execution_count": 24,
   "id": "beb6a5a3",
   "metadata": {},
   "outputs": [],
   "source": [
    "from shapely.geometry import mapping\n",
    "\n",
    "thing = GeoThing({\"type\": \"Point\", \"coordinates\": (0.0, 0.0)})"
   ]
  },
  {
   "cell_type": "code",
   "execution_count": 25,
   "id": "9f2fa1e0",
   "metadata": {},
   "outputs": [
    {
     "data": {
      "text/plain": [
       "{'type': 'Point', 'coordinates': (0.0, 0.0)}"
      ]
     },
     "execution_count": 25,
     "metadata": {},
     "output_type": "execute_result"
    }
   ],
   "source": [
    "m = mapping(thing)\n",
    "m"
   ]
  },
  {
   "cell_type": "code",
   "execution_count": 26,
   "id": "56f4cae3",
   "metadata": {},
   "outputs": [
    {
     "data": {
      "text/plain": [
       "'Point'"
      ]
     },
     "execution_count": 26,
     "metadata": {},
     "output_type": "execute_result"
    }
   ],
   "source": [
    "m[\"type\"]"
   ]
  },
  {
   "cell_type": "code",
   "execution_count": 27,
   "id": "0517ba64",
   "metadata": {},
   "outputs": [
    {
     "data": {
      "text/plain": [
       "(0.0, 0.0)"
      ]
     },
     "execution_count": 27,
     "metadata": {},
     "output_type": "execute_result"
    }
   ],
   "source": [
    "m[\"coordinates\"]"
   ]
  },
  {
   "cell_type": "code",
   "execution_count": null,
   "id": "f5ac3ebd",
   "metadata": {},
   "outputs": [],
   "source": []
  },
  {
   "cell_type": "code",
   "execution_count": null,
   "id": "a608bd64",
   "metadata": {},
   "outputs": [],
   "source": []
  },
  {
   "cell_type": "code",
   "execution_count": null,
   "id": "24d09102",
   "metadata": {},
   "outputs": [],
   "source": []
  },
  {
   "cell_type": "code",
   "execution_count": null,
   "id": "3feda1cb",
   "metadata": {},
   "outputs": [],
   "source": []
  },
  {
   "cell_type": "code",
   "execution_count": null,
   "id": "71cdaccc",
   "metadata": {},
   "outputs": [],
   "source": []
  },
  {
   "cell_type": "code",
   "execution_count": null,
   "id": "82de3d50",
   "metadata": {},
   "outputs": [],
   "source": []
  },
  {
   "cell_type": "code",
   "execution_count": null,
   "id": "7d21b551",
   "metadata": {},
   "outputs": [],
   "source": []
  },
  {
   "cell_type": "code",
   "execution_count": null,
   "id": "e38bc024",
   "metadata": {},
   "outputs": [],
   "source": []
  },
  {
   "cell_type": "code",
   "execution_count": null,
   "id": "1145305f",
   "metadata": {},
   "outputs": [],
   "source": []
  }
 ],
 "metadata": {
  "kernelspec": {
   "display_name": "Python 3 (ipykernel)",
   "language": "python",
   "name": "python3"
  },
  "language_info": {
   "codemirror_mode": {
    "name": "ipython",
    "version": 3
   },
   "file_extension": ".py",
   "mimetype": "text/x-python",
   "name": "python",
   "nbconvert_exporter": "python",
   "pygments_lexer": "ipython3",
   "version": "3.9.16"
  }
 },
 "nbformat": 4,
 "nbformat_minor": 5
}
