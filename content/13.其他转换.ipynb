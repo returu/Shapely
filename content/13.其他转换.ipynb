{
 "cells": [
  {
   "cell_type": "code",
   "execution_count": 1,
   "id": "353fc2bc",
   "metadata": {},
   "outputs": [],
   "source": [
    "from shapely import Point , LineString , LinearRing , Polygon , MultiPoint , MultiLineString , MultiPolygon"
   ]
  },
  {
   "cell_type": "markdown",
   "id": "562eef8e",
   "metadata": {},
   "source": [
    "# shapely.ops.transform(func, geom)"
   ]
  },
  {
   "cell_type": "code",
   "execution_count": 2,
   "id": "f71189dd",
   "metadata": {},
   "outputs": [],
   "source": [
    "from shapely.ops import transform"
   ]
  },
  {
   "cell_type": "markdown",
   "id": "2cdc557a",
   "metadata": {},
   "source": [
    "### 将func应用于geom的所有坐标，并根据转换后的坐标返回一个相同类型的新几何对象。"
   ]
  },
  {
   "cell_type": "code",
   "execution_count": 3,
   "id": "93c4fc93",
   "metadata": {},
   "outputs": [],
   "source": [
    "# 定义一个简单的函数：仅对几何对象的x、y坐标值加1\n",
    "def id_func(x , y , z=None):\n",
    "    # filter(function or None, iterable)\n",
    "    # function：函数，作用是对iterable中的每个元素判断是否符合特定条件。\n",
    "    # None：不调用任何函数，只对可迭代对象中的元素本身判断真假，保留为真的元素。\n",
    "    return tuple(filter(None , [x+1 , y+1 , z]))"
   ]
  },
  {
   "cell_type": "code",
   "execution_count": 4,
   "id": "16219552",
   "metadata": {
    "scrolled": true
   },
   "outputs": [
    {
     "data": {
      "text/plain": [
       "[(2.0, 2.0)]"
      ]
     },
     "execution_count": 4,
     "metadata": {},
     "output_type": "execute_result"
    }
   ],
   "source": [
    "g1 = Point(1,1)\n",
    "g2 = transform(id_func , g1)\n",
    "list(g2.coords)"
   ]
  },
  {
   "cell_type": "code",
   "execution_count": 5,
   "id": "b0b9c33c",
   "metadata": {},
   "outputs": [
    {
     "data": {
      "text/plain": [
       "[(2.0, 2.0, 1.0)]"
      ]
     },
     "execution_count": 5,
     "metadata": {},
     "output_type": "execute_result"
    }
   ],
   "source": [
    "g1 = Point(1,1,1)\n",
    "g2 = transform(id_func , g1)\n",
    "list(g2.coords)"
   ]
  },
  {
   "cell_type": "markdown",
   "id": "e266ef92",
   "metadata": {},
   "source": [
    "### Lambda表达式"
   ]
  },
  {
   "cell_type": "code",
   "execution_count": 6,
   "id": "11054220",
   "metadata": {},
   "outputs": [
    {
     "data": {
      "text/plain": [
       "[(2.0, 2.0)]"
      ]
     },
     "execution_count": 6,
     "metadata": {},
     "output_type": "execute_result"
    }
   ],
   "source": [
    "g2 = transform(lambda x, y, z=None : (x+1.0, y+1.0), g1)\n",
    "list(g2.coords)"
   ]
  },
  {
   "cell_type": "markdown",
   "id": "d8cce2e2",
   "metadata": {},
   "source": [
    "### 如果使用pyproj>=2.1.0，投影几何图形的首选方法是："
   ]
  },
  {
   "cell_type": "code",
   "execution_count": 7,
   "id": "6c8ed020",
   "metadata": {},
   "outputs": [
    {
     "name": "stdout",
     "output_type": "stream",
     "text": [
      "POINT (720944.1103566973 4862889.031679545)\n"
     ]
    }
   ],
   "source": [
    "import pyproj\n",
    "\n",
    "wgs84_pt = Point(-72.2495, 43.886)\n",
    "\n",
    "wgs84 = pyproj.CRS('EPSG:4326')\n",
    "utm = pyproj.CRS('EPSG:32618')\n",
    "\n",
    "project = pyproj.Transformer.from_crs(wgs84, utm, always_xy=True).transform\n",
    "utm_point = transform(project, wgs84_pt)\n",
    "print(utm_point)"
   ]
  },
  {
   "cell_type": "markdown",
   "id": "817358d9",
   "metadata": {},
   "source": [
    "### 如果使用 pyproj < 2.1，那么典型的例子是："
   ]
  },
  {
   "cell_type": "code",
   "execution_count": 8,
   "id": "6d467437",
   "metadata": {
    "scrolled": true
   },
   "outputs": [
    {
     "name": "stdout",
     "output_type": "stream",
     "text": [
      "POINT (720944.1103566973 4862889.031679545)\n"
     ]
    },
    {
     "name": "stderr",
     "output_type": "stream",
     "text": [
      "D:\\Anaconda\\lib\\site-packages\\pyproj\\crs\\crs.py:141: FutureWarning: '+init=<authority>:<code>' syntax is deprecated. '<authority>:<code>' is the preferred initialization method. When making the change, be mindful of axis order changes: https://pyproj4.github.io/pyproj/stable/gotchas.html#axis-order-changes-in-proj-6\n",
      "  in_crs_string = _prepare_from_proj_string(in_crs_string)\n",
      "D:\\Anaconda\\lib\\site-packages\\pyproj\\crs\\crs.py:141: FutureWarning: '+init=<authority>:<code>' syntax is deprecated. '<authority>:<code>' is the preferred initialization method. When making the change, be mindful of axis order changes: https://pyproj4.github.io/pyproj/stable/gotchas.html#axis-order-changes-in-proj-6\n",
      "  in_crs_string = _prepare_from_proj_string(in_crs_string)\n",
      "D:\\Anaconda\\lib\\site-packages\\shapely\\ops.py:274: FutureWarning: This function is deprecated. See: https://pyproj4.github.io/pyproj/stable/gotchas.html#upgrading-to-pyproj-2-from-pyproj-1\n",
      "  return type(geom)(zip(*func(*zip(*geom.coords))))\n"
     ]
    }
   ],
   "source": [
    "from functools import partial\n",
    "import pyproj\n",
    "\n",
    "from shapely.ops import transform\n",
    "\n",
    "wgs84 = pyproj.Proj(init='epsg:4326')\n",
    "utm = pyproj.Proj(init='epsg:32618')\n",
    "\n",
    "project = partial(\n",
    "    pyproj.transform,\n",
    "    wgs84,\n",
    "    utm)\n",
    "\n",
    "utm_point = transform(project, wgs84_pt)\n",
    "print(utm_point)"
   ]
  },
  {
   "cell_type": "code",
   "execution_count": null,
   "id": "f15c8d60",
   "metadata": {},
   "outputs": [],
   "source": []
  },
  {
   "cell_type": "code",
   "execution_count": null,
   "id": "72dc015d",
   "metadata": {},
   "outputs": [],
   "source": []
  },
  {
   "cell_type": "code",
   "execution_count": null,
   "id": "1a85ccfe",
   "metadata": {},
   "outputs": [],
   "source": []
  },
  {
   "cell_type": "code",
   "execution_count": null,
   "id": "9959b0de",
   "metadata": {},
   "outputs": [],
   "source": []
  },
  {
   "cell_type": "code",
   "execution_count": null,
   "id": "18ee5c4d",
   "metadata": {},
   "outputs": [],
   "source": []
  },
  {
   "cell_type": "code",
   "execution_count": null,
   "id": "521cc70f",
   "metadata": {},
   "outputs": [],
   "source": []
  },
  {
   "cell_type": "code",
   "execution_count": null,
   "id": "002ce1d4",
   "metadata": {},
   "outputs": [],
   "source": []
  },
  {
   "cell_type": "code",
   "execution_count": null,
   "id": "69a77b2c",
   "metadata": {},
   "outputs": [],
   "source": []
  },
  {
   "cell_type": "code",
   "execution_count": null,
   "id": "6e61f42a",
   "metadata": {},
   "outputs": [],
   "source": []
  },
  {
   "cell_type": "code",
   "execution_count": null,
   "id": "c587bf14",
   "metadata": {},
   "outputs": [],
   "source": []
  },
  {
   "cell_type": "code",
   "execution_count": null,
   "id": "d93635fd",
   "metadata": {},
   "outputs": [],
   "source": []
  },
  {
   "cell_type": "code",
   "execution_count": null,
   "id": "78228b4c",
   "metadata": {},
   "outputs": [],
   "source": []
  },
  {
   "cell_type": "code",
   "execution_count": null,
   "id": "f8501ad3",
   "metadata": {},
   "outputs": [],
   "source": []
  },
  {
   "cell_type": "code",
   "execution_count": null,
   "id": "77fe330d",
   "metadata": {},
   "outputs": [],
   "source": []
  },
  {
   "cell_type": "code",
   "execution_count": null,
   "id": "5e6fd1d4",
   "metadata": {},
   "outputs": [],
   "source": []
  },
  {
   "cell_type": "code",
   "execution_count": null,
   "id": "648f739f",
   "metadata": {},
   "outputs": [],
   "source": []
  },
  {
   "cell_type": "code",
   "execution_count": null,
   "id": "4de07309",
   "metadata": {},
   "outputs": [],
   "source": []
  }
 ],
 "metadata": {
  "kernelspec": {
   "display_name": "Python 3 (ipykernel)",
   "language": "python",
   "name": "python3"
  },
  "language_info": {
   "codemirror_mode": {
    "name": "ipython",
    "version": 3
   },
   "file_extension": ".py",
   "mimetype": "text/x-python",
   "name": "python",
   "nbconvert_exporter": "python",
   "pygments_lexer": "ipython3",
   "version": "3.9.16"
  }
 },
 "nbformat": 4,
 "nbformat_minor": 5
}
