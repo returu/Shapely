{
 "cells": [
  {
   "cell_type": "code",
   "execution_count": 1,
   "id": "c41654c1",
   "metadata": {},
   "outputs": [],
   "source": [
    "from shapely import Point , LineString , LinearRing , Polygon , MultiPoint , MultiLineString , MultiPolygon\n",
    "from shapely import affinity"
   ]
  },
  {
   "cell_type": "markdown",
   "id": "fadfb2e4",
   "metadata": {},
   "source": [
    "# shapely.affinity.affine_transform(geom, matrix)"
   ]
  },
  {
   "cell_type": "markdown",
   "id": "257e53fa",
   "metadata": {},
   "source": [
    "### 返回一个使用仿射变换矩阵变换后的几何对象。"
   ]
  },
  {
   "cell_type": "code",
   "execution_count": null,
   "id": "d8a529a5",
   "metadata": {},
   "outputs": [],
   "source": []
  },
  {
   "cell_type": "markdown",
   "id": "7125cbb5",
   "metadata": {},
   "source": [
    "# shapely.affinity.rotate(geom, angle, origin=’center’, use_radians=False)"
   ]
  },
  {
   "cell_type": "markdown",
   "id": "0eb60ba1",
   "metadata": {},
   "source": [
    "### 返回一个二维平面上的旋转几何对象。"
   ]
  },
  {
   "cell_type": "code",
   "execution_count": 2,
   "id": "61dfff67",
   "metadata": {},
   "outputs": [
    {
     "data": {
      "image/svg+xml": [
       "<svg xmlns=\"http://www.w3.org/2000/svg\" xmlns:xlink=\"http://www.w3.org/1999/xlink\" width=\"100.0\" height=\"100.0\" viewBox=\"0.88 0.88 3.24 2.24\" preserveAspectRatio=\"xMinYMin meet\"><g transform=\"matrix(1,0,0,-1,0,4.0)\"><polyline fill=\"none\" stroke=\"#66cc99\" stroke-width=\"0.06480000000000001\" points=\"1.0,3.0 1.0,1.0 4.0,1.0\" opacity=\"0.8\" /></g></svg>"
      ],
      "text/plain": [
       "<LINESTRING (1 3, 1 1, 4 1)>"
      ]
     },
     "execution_count": 2,
     "metadata": {},
     "output_type": "execute_result"
    }
   ],
   "source": [
    "line = LineString([(1, 3), (1, 1), (4, 1)])\n",
    "line"
   ]
  },
  {
   "cell_type": "code",
   "execution_count": 3,
   "id": "4e8826cd",
   "metadata": {},
   "outputs": [
    {
     "data": {
      "image/svg+xml": [
       "<svg xmlns=\"http://www.w3.org/2000/svg\" xmlns:xlink=\"http://www.w3.org/1999/xlink\" width=\"100.0\" height=\"100.0\" viewBox=\"1.38 0.38 2.24 3.24\" preserveAspectRatio=\"xMinYMin meet\"><g transform=\"matrix(1,0,0,-1,0,4.0)\"><polyline fill=\"none\" stroke=\"#66cc99\" stroke-width=\"0.06480000000000001\" points=\"1.5,0.5 3.5,0.5 3.5,3.5\" opacity=\"0.8\" /></g></svg>"
      ],
      "text/plain": [
       "<LINESTRING (1.5 0.5, 3.5 0.5, 3.5 3.5)>"
      ]
     },
     "execution_count": 3,
     "metadata": {},
     "output_type": "execute_result"
    }
   ],
   "source": [
    "# 使用center作为旋转原点，逆时针旋转90°\n",
    "roated_a = affinity.rotate(line , 90)\n",
    "roated_a"
   ]
  },
  {
   "cell_type": "code",
   "execution_count": 4,
   "id": "d2e3eeb2",
   "metadata": {},
   "outputs": [
    {
     "data": {
      "image/svg+xml": [
       "<svg xmlns=\"http://www.w3.org/2000/svg\" xmlns:xlink=\"http://www.w3.org/1999/xlink\" width=\"100.0\" height=\"100.0\" viewBox=\"0.17999999999999983 0.38 2.24 3.24\" preserveAspectRatio=\"xMinYMin meet\"><g transform=\"matrix(1,0,0,-1,0,4.0)\"><polyline fill=\"none\" stroke=\"#66cc99\" stroke-width=\"0.06480000000000001\" points=\"0.2999999999999998,0.5 2.3,0.5 2.3,3.5\" opacity=\"0.8\" /></g></svg>"
      ],
      "text/plain": [
       "<LINESTRING (0.3 0.5, 2.3 0.5, 2.3 3.5)>"
      ]
     },
     "execution_count": 4,
     "metadata": {},
     "output_type": "execute_result"
    }
   ],
   "source": [
    "# 使用centroid作为旋转原点，逆时针旋转90°\n",
    "roated_b = affinity.rotate(line , 90 , origin=\"centroid\")\n",
    "roated_b"
   ]
  },
  {
   "cell_type": "code",
   "execution_count": 5,
   "id": "5039e134",
   "metadata": {},
   "outputs": [
    {
     "data": {
      "text/plain": [
       "Text(1.4, 1.6, '(1.9 , 1.4)')"
      ]
     },
     "execution_count": 5,
     "metadata": {},
     "output_type": "execute_result"
    },
    {
     "data": {
      "image/png": "[encoded data removed]",
      "text/plain": [
       "<Figure size 800x800 with 2 Axes>"
      ]
     },
     "metadata": {},
     "output_type": "display_data"
    }
   ],
   "source": [
    "import geopandas as gpd\n",
    "import matplotlib.pyplot as plt\n",
    "\n",
    "f , ax = plt.subplots(1,2 , figsize=(8,8))\n",
    "\n",
    "gpd.GeoDataFrame([line] , columns=[\"geometry\"]).plot(ax=ax[0] , edgecolor=\"gray\")\n",
    "gpd.GeoDataFrame([roated_a] , columns=[\"geometry\"]).plot(ax=ax[0])\n",
    "gpd.GeoDataFrame([line.envelope.centroid] , columns=[\"geometry\"]).plot(ax=ax[0] , facecolor=\"red\" , alpha=0.6)\n",
    "ax[0].set_xlim(0,5)\n",
    "ax[0].set_ylim(0,4)\n",
    "ax[0].set_title(\"90\\N{DEGREE SIGN}, default origin (center)\" , fontsize=10)\n",
    "ax[0].text(2.0, 2.2, r'(2.5 , 2.0)', fontsize=10)\n",
    "\n",
    "gpd.GeoDataFrame([line] , columns=[\"geometry\"]).plot(ax=ax[1] , edgecolor=\"gray\")\n",
    "gpd.GeoDataFrame([roated_b] , columns=[\"geometry\"]).plot(ax=ax[1])\n",
    "gpd.GeoDataFrame([line.centroid] , columns=[\"geometry\"]).plot(ax=ax[1] , facecolor=\"red\" , alpha=0.6)\n",
    "ax[1].set_xlim(0,5)\n",
    "ax[1].set_ylim(0,4)\n",
    "ax[1].set_title(\"90\\N{DEGREE SIGN}, origin='centroid'\" , fontsize=10)\n",
    "ax[1].text(1.4, 1.6, r'(1.9 , 1.4)', fontsize=10)"
   ]
  },
  {
   "cell_type": "code",
   "execution_count": null,
   "id": "1237dd51",
   "metadata": {},
   "outputs": [],
   "source": []
  },
  {
   "cell_type": "markdown",
   "id": "35199b27",
   "metadata": {},
   "source": [
    "# shapely.affinity.scale(geom, xfact=1.0, yfact=1.0, zfact=1.0, origin=’center’)"
   ]
  },
  {
   "cell_type": "markdown",
   "id": "5b54ab52",
   "metadata": {},
   "source": [
    "### 返回一个按比例缩放的几何对象，沿每个维度都有相应的缩放系数。"
   ]
  },
  {
   "cell_type": "code",
   "execution_count": 6,
   "id": "93101321",
   "metadata": {},
   "outputs": [
    {
     "data": {
      "image/svg+xml": [
       "<svg xmlns=\"http://www.w3.org/2000/svg\" xmlns:xlink=\"http://www.w3.org/1999/xlink\" width=\"100.0\" height=\"100.0\" viewBox=\"0.92 0.92 2.16 2.16\" preserveAspectRatio=\"xMinYMin meet\"><g transform=\"matrix(1,0,0,-1,0,4.0)\"><path fill-rule=\"evenodd\" fill=\"#66cc99\" stroke=\"#555555\" stroke-width=\"0.0432\" opacity=\"0.6\" d=\"M 1.0,1.0 L 2.0,3.0 L 3.0,1.0 L 1.0,1.0 z\" /></g></svg>"
      ],
      "text/plain": [
       "<POLYGON ((1 1, 2 3, 3 1, 1 1))>"
      ]
     },
     "execution_count": 6,
     "metadata": {},
     "output_type": "execute_result"
    }
   ],
   "source": [
    "triangle = Polygon([(1, 1), (2, 3), (3, 1)])\n",
    "triangle"
   ]
  },
  {
   "cell_type": "code",
   "execution_count": 7,
   "id": "544122a2",
   "metadata": {},
   "outputs": [
    {
     "data": {
      "image/svg+xml": [
       "<svg xmlns=\"http://www.w3.org/2000/svg\" xmlns:xlink=\"http://www.w3.org/1999/xlink\" width=\"100.0\" height=\"100.0\" viewBox=\"0.38 0.88 3.24 2.24\" preserveAspectRatio=\"xMinYMin meet\"><g transform=\"matrix(1,0,0,-1,0,4.0)\"><path fill-rule=\"evenodd\" fill=\"#66cc99\" stroke=\"#555555\" stroke-width=\"0.06480000000000001\" opacity=\"0.6\" d=\"M 0.5,3.0 L 2.0,1.0 L 3.5,3.0 L 0.5,3.0 z\" /></g></svg>"
      ],
      "text/plain": [
       "<POLYGON ((0.5 3, 2 1, 3.5 3, 0.5 3))>"
      ]
     },
     "execution_count": 7,
     "metadata": {},
     "output_type": "execute_result"
    }
   ],
   "source": [
    "# 沿x方向放大1.5倍，并在y轴上进行镜像\n",
    "triangle_a = affinity.scale(triangle, xfact=1.5, yfact=-1)\n",
    "triangle_a"
   ]
  },
  {
   "cell_type": "code",
   "execution_count": 8,
   "id": "18dabbf1",
   "metadata": {},
   "outputs": [
    {
     "data": {
      "image/svg+xml": [
       "<svg xmlns=\"http://www.w3.org/2000/svg\" xmlns:xlink=\"http://www.w3.org/1999/xlink\" width=\"100.0\" height=\"100.0\" viewBox=\"0.84 0.84 4.32 2.3200000000000003\" preserveAspectRatio=\"xMinYMin meet\"><g transform=\"matrix(1,0,0,-1,0,4.0)\"><path fill-rule=\"evenodd\" fill=\"#66cc99\" stroke=\"#555555\" stroke-width=\"0.0864\" opacity=\"0.6\" d=\"M 1.0,1.0 L 3.0,3.0 L 5.0,1.0 L 1.0,1.0 z\" /></g></svg>"
      ],
      "text/plain": [
       "<POLYGON ((1 1, 3 3, 5 1, 1 1))>"
      ]
     },
     "execution_count": 8,
     "metadata": {},
     "output_type": "execute_result"
    }
   ],
   "source": [
    "# 沿x方向放大2倍，自定义原点在（1，1）\n",
    "triangle_b = affinity.scale(triangle, xfact=2, origin=(1,1))\n",
    "triangle_b"
   ]
  },
  {
   "cell_type": "code",
   "execution_count": 9,
   "id": "01513cd3",
   "metadata": {
    "scrolled": true
   },
   "outputs": [
    {
     "data": {
      "text/plain": [
       "Text(0.6, 1.3, '(1 , 1)')"
      ]
     },
     "execution_count": 9,
     "metadata": {},
     "output_type": "execute_result"
    },
    {
     "data": {
      "image/png": "[encoded data removed]",
      "text/plain": [
       "<Figure size 800x800 with 2 Axes>"
      ]
     },
     "metadata": {},
     "output_type": "display_data"
    }
   ],
   "source": [
    "import geopandas as gpd\n",
    "import matplotlib.pyplot as plt\n",
    "\n",
    "f , ax = plt.subplots(1,2 , figsize=(8,8))\n",
    "\n",
    "gpd.GeoDataFrame([triangle] , columns=[\"geometry\"]).plot(ax=ax[0] , facecolor=\"gray\" , alpha=0.3)\n",
    "gpd.GeoDataFrame([triangle_a] , columns=[\"geometry\"]).plot(ax=ax[0] , alpha=0.3)\n",
    "gpd.GeoDataFrame([triangle.envelope.centroid] , columns=[\"geometry\"]).plot(ax=ax[0] , facecolor=\"red\" , alpha=0.6)\n",
    "ax[0].set_xlim(0,5)\n",
    "ax[0].set_ylim(0,4)\n",
    "ax[0].set_title(\"a) xfact=1.5, yfact=-1\" , fontsize=10)\n",
    "ax[0].text(1.5, 2.2, r'(2.0 , 2.0)', fontsize=10)\n",
    "\n",
    "gpd.GeoDataFrame([triangle] , columns=[\"geometry\"]).plot(ax=ax[1] , facecolor=\"gray\" , alpha=0.3)\n",
    "gpd.GeoDataFrame([triangle_b] , columns=[\"geometry\"]).plot(ax=ax[1] , alpha=0.3)\n",
    "gpd.GeoDataFrame([Point(1,1)] , columns=[\"geometry\"]).plot(ax=ax[1] , facecolor=\"red\" , alpha=0.6)\n",
    "ax[1].set_xlim(0,5)\n",
    "ax[1].set_ylim(0,4)\n",
    "ax[1].set_title(\"b) xfact=2, origin=(1, 1)\" , fontsize=10)\n",
    "ax[1].text(0.6, 1.3, r'(1 , 1)', fontsize=10)"
   ]
  },
  {
   "cell_type": "code",
   "execution_count": null,
   "id": "e72d6124",
   "metadata": {},
   "outputs": [],
   "source": []
  },
  {
   "cell_type": "markdown",
   "id": "98384bc6",
   "metadata": {},
   "source": [
    "# shapely.affinity.skew(geom, xs=0.0, ys=0.0, origin=’center’, use_radians=False)"
   ]
  },
  {
   "cell_type": "markdown",
   "id": "b7ff0998",
   "metadata": {},
   "source": [
    "### 返回一个沿x和y维度设定的角度进行扭曲操作的几何对象。"
   ]
  },
  {
   "cell_type": "code",
   "execution_count": 10,
   "id": "f6674d4c",
   "metadata": {},
   "outputs": [
    {
     "data": {
      "image/svg+xml": [
       "<svg xmlns=\"http://www.w3.org/2000/svg\" xmlns:xlink=\"http://www.w3.org/1999/xlink\" width=\"100.0\" height=\"100.0\" viewBox=\"0.89732 0.89732 2.2053599999999998 2.77236\" preserveAspectRatio=\"xMinYMin meet\"><g transform=\"matrix(1,0,0,-1,0,4.567)\"><path fill-rule=\"evenodd\" fill=\"#66cc99\" stroke=\"#555555\" stroke-width=\"0.0554472\" opacity=\"0.6\" d=\"M 2.218,2.204 L 2.273,2.18 L 2.328,2.144 L 2.435,2.042 L 2.541,1.895 L 2.647,1.702 L 3.0,1.0 L 2.626,1.0 L 2.298,1.659 L 2.235,1.777 L 2.173,1.873 L 2.112,1.948 L 2.051,2.001 L 1.986,2.038 L 1.91,2.064 L 1.823,2.08 L 1.726,2.085 L 1.347,2.085 L 1.347,1.0 L 1.0,1.0 L 1.0,3.567 L 1.784,3.567 L 1.99,3.556 L 2.168,3.521 L 2.319,3.464 L 2.441,3.383 L 2.492,3.334 L 2.536,3.279 L 2.604,3.152 L 2.644,3.002 L 2.658,2.828 L 2.651,2.712 L 2.63,2.606 L 2.594,2.51 L 2.545,2.425 L 2.482,2.352 L 2.407,2.29 L 2.319,2.241 L 2.218,2.204 z M 1.347,3.282 L 1.347,2.371 L 1.784,2.371 L 1.902,2.378 L 2.004,2.4 L 2.091,2.436 L 2.163,2.487 L 2.219,2.552 L 2.259,2.63 L 2.283,2.722 L 2.291,2.828 L 2.283,2.933 L 2.259,3.025 L 2.219,3.103 L 2.163,3.167 L 2.091,3.217 L 2.004,3.253 L 1.902,3.275 L 1.784,3.282 L 1.347,3.282 z\" /></g></svg>"
      ],
      "text/plain": [
       "<POLYGON ((2.218 2.204, 2.273 2.18, 2.328 2.144, 2.435 2.042, 2.541 1.895, 2...>"
      ]
     },
     "execution_count": 10,
     "metadata": {},
     "output_type": "execute_result"
    }
   ],
   "source": [
    "from shapely.wkt import loads as load_wkt\n",
    "\n",
    "# 读取数据，生成R形几何对象\n",
    "R = load_wkt('''\\\n",
    "POLYGON((2.218 2.204, 2.273 2.18, 2.328 2.144, 2.435 2.042, 2.541 1.895,\n",
    "  2.647 1.702, 3 1, 2.626 1, 2.298 1.659, 2.235 1.777, 2.173 1.873,\n",
    "  2.112 1.948, 2.051 2.001, 1.986 2.038, 1.91 2.064, 1.823 2.08, 1.726 2.085,\n",
    "  1.347 2.085, 1.347 1, 1 1, 1 3.567, 1.784 3.567, 1.99 3.556, 2.168 3.521,\n",
    "  2.319 3.464, 2.441 3.383, 2.492 3.334, 2.536 3.279, 2.604 3.152,\n",
    "  2.644 3.002, 2.658 2.828, 2.651 2.712, 2.63 2.606, 2.594 2.51, 2.545 2.425,\n",
    "  2.482 2.352, 2.407 2.29, 2.319 2.241, 2.218 2.204),\n",
    " (1.347 3.282, 1.347 2.371, 1.784 2.371, 1.902 2.378, 2.004 2.4, 2.091 2.436,\n",
    "  2.163 2.487, 2.219 2.552, 2.259 2.63, 2.283 2.722, 2.291 2.828, 2.283 2.933,\n",
    "  2.259 3.025, 2.219 3.103, 2.163 3.167, 2.091 3.217, 2.004 3.253, 1.902 3.275,\n",
    "  1.784 3.282, 1.347 3.282))''')\n",
    "R"
   ]
  },
  {
   "cell_type": "code",
   "execution_count": 11,
   "id": "33e17084",
   "metadata": {},
   "outputs": [
    {
     "data": {
      "image/svg+xml": [
       "<svg xmlns=\"http://www.w3.org/2000/svg\" xmlns:xlink=\"http://www.w3.org/1999/xlink\" width=\"100.0\" height=\"100.0\" viewBox=\"0.89732 0.89732 2.5926239441408674 2.77236\" preserveAspectRatio=\"xMinYMin meet\"><g transform=\"matrix(1,0,0,-1,0,4.567)\"><path fill-rule=\"evenodd\" fill=\"#66cc99\" stroke=\"#555555\" stroke-width=\"0.0554472\" opacity=\"0.6\" d=\"M 2.656220162056508,2.204 L 2.702484876434119,2.18 L 2.7443819480005356,2.144 L 2.8142569841053833,2.042 L 2.866753359668251,1.895 L 2.902507104454874,1.702 L 3.0,1.0 L 2.6260000000000003,1.0 L 2.5378563843814277,1.659 L 2.517804872024839,1.777 L 2.4907460145143947,1.873 L 2.4570437820843596,1.948 L 2.4153342045004687,2.001 L 2.363801103168318,2.038 L 2.2972643292592396,2.064 L 2.2160878530074983,2.08 L 2.12090770417883,2.085 L 1.7419077041788296,2.085 L 1.347,1.0 L 1.0,1.0 L 1.9343115913613416,3.567 L 2.718311591361342,3.567 L 2.920307918784413,3.556 L 3.085568960585096,3.521 L 3.2158226572319224,3.464 L 3.30834106825636,3.383 L 3.3415065267773167,3.334 L 3.3654881638926755,3.279 L 3.3872639441408676,3.152 L 3.372668409000937,3.002 L 3.3233375882386182,2.828 L 3.2741170410637386,2.712 L 3.2145361962315206,2.606 L 3.143595053741965,2.51 L 3.063657583829338,2.425 L 2.974087756727906,2.352 L 2.8765216022034013,2.29 L 2.7706870607243568,2.241 L 2.656220162056508,2.204 z M 2.1775800745954736,3.282 L 1.8460031911789636,2.371 L 2.283003191178963,2.371 L 2.4035509828188264,2.378 L 2.5135583279726834,2.4 L 2.6136612564062665,2.436 L 2.7042237383538428,2.487 L 2.7838818035811457,2.552 L 2.8522714818539097,2.63 L 2.9097567434064002,2.722 L 2.9563375882386183,2.828 L 2.986554462836569,2.933 L 2.9960397243890595,3.025 L 2.9844294026618234,3.103 L 2.9517234976548608,3.167 L 2.8979220093681706,3.217 L 2.824024937801754,3.253 L 2.7300322829556105,3.275 L 2.614580074595474,3.282 L 2.1775800745954736,3.282 z\" /></g></svg>"
      ],
      "text/plain": [
       "<POLYGON ((2.656 2.204, 2.702 2.18, 2.744 2.144, 2.814 2.042, 2.867 1.895, 2...>"
      ]
     },
     "execution_count": 11,
     "metadata": {},
     "output_type": "execute_result"
    }
   ],
   "source": [
    "# 沿X方向的扭曲角度为20°，原点在（1，1）\n",
    "skew_a = affinity.skew(R , xs=20 , origin=(1,1))\n",
    "skew_a"
   ]
  },
  {
   "cell_type": "code",
   "execution_count": 12,
   "id": "398a06ae",
   "metadata": {},
   "outputs": [
    {
     "data": {
      "image/svg+xml": [
       "<svg xmlns=\"http://www.w3.org/2000/svg\" xmlns:xlink=\"http://www.w3.org/1999/xlink\" width=\"100.0\" height=\"100.0\" viewBox=\"0.8709789997975553 0.2936287306079296 2.258042000404889 3.483567005466005\" preserveAspectRatio=\"xMinYMin meet\"><g transform=\"matrix(1,0,0,-1,0,4.070824466681864)\"><path fill-rule=\"evenodd\" fill=\"#66cc99\" stroke=\"#555555\" stroke-width=\"0.06967134010932009\" opacity=\"0.6\" d=\"M 2.218,2.3298623586833385 L 2.273,2.337616623488768 L 2.328,2.3333708882941973 L 2.435,2.293147367097487 L 2.541,2.2073464956315876 L 2.647,2.075545624165688 L 3.0,1.5773502691896257 L 2.626,1.3614212685127054 L 2.298,1.8310503802185085 L 2.235,1.9126773132595618 L 2.173,1.9728815965698052 L 2.112,2.012663230149238 L 2.051,2.030444863728671 L 1.986,2.029917096231345 L 1.91,2.0120384757729335 L 1.823,1.9778090023534363 L 1.726,1.9268060262420423 L 1.347,1.7079902742191742 L 1.347,0.6229902742191744 L 1.0,0.42264973081037427 L 1.0,2.989649730810375 L 1.784,3.4422923418550413 L 1.99,3.5502264973081035 L 2.168,3.6179948452238575 L 2.319,3.64817473587149 L 2.441,3.637611468712625 L 2.492,3.618056332441296 L 2.536,3.5884597442856396 L 2.604,3.5007195625905343 L 2.644,3.3738135733581194 L 2.658,3.2078964771267735 L 2.651,3.0878550252424466 L 2.63,2.969730669589464 L 2.594,2.8529460598986374 L 2.545,2.7396558967083458 L 2.482,2.6302828297493996 L 2.407,2.5249815595601777 L 2.319,2.4251747358714906 L 2.218,2.3298623586833385 z M 1.347,2.904990274219174 L 1.347,1.9939902742191746 L 1.784,2.2462923418550407 L 1.902,2.321419673619417 L 2.004,2.4023094010767583 L 2.091,2.488538874496256 L 2.163,2.581108093877909 L 2.219,2.678439708952528 L 2.259,2.7795337197201127 L 2.283,2.8853901261806643 L 2.291,2.996008928334181 L 2.283,3.0963901261806637 L 2.259,3.174533719720113 L 2.219,3.229439708952528 L 2.163,3.261108093877909 L 2.091,3.2695388744962566 L 2.004,3.255309401076759 L 1.902,3.218419673619416 L 1.784,3.157292341855041 L 1.347,2.904990274219174 z\" /></g></svg>"
      ],
      "text/plain": [
       "<POLYGON ((2.218 2.33, 2.273 2.338, 2.328 2.333, 2.435 2.293, 2.541 2.207, 2...>"
      ]
     },
     "execution_count": 12,
     "metadata": {},
     "output_type": "execute_result"
    }
   ],
   "source": [
    "# 沿Y方向的扭曲角度为30°，使用默认原点\n",
    "skew_b = affinity.skew(R , ys=30)\n",
    "skew_b"
   ]
  },
  {
   "cell_type": "code",
   "execution_count": 13,
   "id": "4aacbe3c",
   "metadata": {},
   "outputs": [
    {
     "data": {
      "text/plain": [
       "Text(1.1, 2.6, '(2.0, 2.2835)')"
      ]
     },
     "execution_count": 13,
     "metadata": {},
     "output_type": "execute_result"
    },
    {
     "data": {
      "image/png": "[encoded data removed]",
      "text/plain": [
       "<Figure size 800x800 with 2 Axes>"
      ]
     },
     "metadata": {},
     "output_type": "display_data"
    }
   ],
   "source": [
    "import geopandas as gpd\n",
    "import matplotlib.pyplot as plt\n",
    "\n",
    "f , ax = plt.subplots(1,2 , figsize=(8,8))\n",
    "\n",
    "gpd.GeoDataFrame([R] , columns=[\"geometry\"]).plot(ax=ax[0] , facecolor=\"gray\" , alpha=0.3)\n",
    "gpd.GeoDataFrame([skew_a] , columns=[\"geometry\"]).plot(ax=ax[0] , alpha=0.3)\n",
    "gpd.GeoDataFrame([Point(1,1)] , columns=[\"geometry\"]).plot(ax=ax[0] , facecolor=\"red\" , alpha=0.6)\n",
    "ax[0].set_xlim(0,5)\n",
    "ax[0].set_ylim(0,4)\n",
    "ax[0].set_title(\"a) xs=20, origin(1, 1)\" , fontsize=10)\n",
    "ax[0].text(0.6, 1.3, r'(1 , 1)', fontsize=10)\n",
    "\n",
    "gpd.GeoDataFrame([R] , columns=[\"geometry\"]).plot(ax=ax[1] , facecolor=\"gray\" , alpha=0.3)\n",
    "gpd.GeoDataFrame([skew_b] , columns=[\"geometry\"]).plot(ax=ax[1] , alpha=0.3)\n",
    "gpd.GeoDataFrame([R.centroid] , columns=[\"geometry\"]).plot(ax=ax[1] , facecolor=\"red\" , alpha=0.6)\n",
    "ax[1].set_xlim(0,5)\n",
    "ax[1].set_ylim(0,4)\n",
    "ax[1].set_title(\"b) ys=30\" , fontsize=10)\n",
    "ax[1].text(1.1, 2.6, r'(2.0, 2.2835)', fontsize=10)"
   ]
  },
  {
   "cell_type": "code",
   "execution_count": null,
   "id": "7e57b152",
   "metadata": {},
   "outputs": [],
   "source": []
  },
  {
   "cell_type": "markdown",
   "id": "c5c87832",
   "metadata": {},
   "source": [
    "# shapely.affinity.translate(geom, xoff=0.0, yoff=0.0, zoff=0.0)"
   ]
  },
  {
   "cell_type": "markdown",
   "id": "119f3d1d",
   "metadata": {},
   "source": [
    "### 返回一个沿各维度平移的几何对象。"
   ]
  },
  {
   "cell_type": "code",
   "execution_count": 14,
   "id": "0332774c",
   "metadata": {},
   "outputs": [
    {
     "data": {
      "image/svg+xml": [
       "<svg xmlns=\"http://www.w3.org/2000/svg\" xmlns:xlink=\"http://www.w3.org/1999/xlink\" width=\"100.0\" height=\"100.0\" viewBox=\"0.89732 0.89732 2.2053599999999998 2.77236\" preserveAspectRatio=\"xMinYMin meet\"><g transform=\"matrix(1,0,0,-1,0,4.567)\"><path fill-rule=\"evenodd\" fill=\"#66cc99\" stroke=\"#555555\" stroke-width=\"0.0554472\" opacity=\"0.6\" d=\"M 2.218,2.204 L 2.273,2.18 L 2.328,2.144 L 2.435,2.042 L 2.541,1.895 L 2.647,1.702 L 3.0,1.0 L 2.626,1.0 L 2.298,1.659 L 2.235,1.777 L 2.173,1.873 L 2.112,1.948 L 2.051,2.001 L 1.986,2.038 L 1.91,2.064 L 1.823,2.08 L 1.726,2.085 L 1.347,2.085 L 1.347,1.0 L 1.0,1.0 L 1.0,3.567 L 1.784,3.567 L 1.99,3.556 L 2.168,3.521 L 2.319,3.464 L 2.441,3.383 L 2.492,3.334 L 2.536,3.279 L 2.604,3.152 L 2.644,3.002 L 2.658,2.828 L 2.651,2.712 L 2.63,2.606 L 2.594,2.51 L 2.545,2.425 L 2.482,2.352 L 2.407,2.29 L 2.319,2.241 L 2.218,2.204 z M 1.347,3.282 L 1.347,2.371 L 1.784,2.371 L 1.902,2.378 L 2.004,2.4 L 2.091,2.436 L 2.163,2.487 L 2.219,2.552 L 2.259,2.63 L 2.283,2.722 L 2.291,2.828 L 2.283,2.933 L 2.259,3.025 L 2.219,3.103 L 2.163,3.167 L 2.091,3.217 L 2.004,3.253 L 1.902,3.275 L 1.784,3.282 L 1.347,3.282 z\" /></g></svg>"
      ],
      "text/plain": [
       "<POLYGON ((2.218 2.204, 2.273 2.18, 2.328 2.144, 2.435 2.042, 2.541 1.895, 2...>"
      ]
     },
     "execution_count": 14,
     "metadata": {},
     "output_type": "execute_result"
    }
   ],
   "source": [
    "R"
   ]
  },
  {
   "cell_type": "code",
   "execution_count": 15,
   "id": "9f586b2b",
   "metadata": {},
   "outputs": [
    {
     "data": {
      "image/svg+xml": [
       "<svg xmlns=\"http://www.w3.org/2000/svg\" xmlns:xlink=\"http://www.w3.org/1999/xlink\" width=\"100.0\" height=\"100.0\" viewBox=\"1.89732 0.89732 2.2053600000000007 2.77236\" preserveAspectRatio=\"xMinYMin meet\"><g transform=\"matrix(1,0,0,-1,0,4.567)\"><path fill-rule=\"evenodd\" fill=\"#66cc99\" stroke=\"#555555\" stroke-width=\"0.0554472\" opacity=\"0.6\" d=\"M 3.218,2.204 L 3.273,2.18 L 3.328,2.144 L 3.435,2.042 L 3.541,1.895 L 3.647,1.702 L 4.0,1.0 L 3.626,1.0 L 3.298,1.659 L 3.235,1.777 L 3.173,1.873 L 3.112,1.948 L 3.051,2.001 L 2.9859999999999998,2.038 L 2.91,2.064 L 2.823,2.08 L 2.726,2.085 L 2.347,2.085 L 2.347,1.0 L 2.0,1.0 L 2.0,3.567 L 2.784,3.567 L 2.99,3.556 L 3.168,3.521 L 3.319,3.464 L 3.441,3.383 L 3.492,3.334 L 3.536,3.279 L 3.604,3.152 L 3.644,3.002 L 3.658,2.828 L 3.651,2.712 L 3.63,2.606 L 3.594,2.51 L 3.545,2.425 L 3.482,2.352 L 3.407,2.29 L 3.319,2.241 L 3.218,2.204 z M 2.347,3.282 L 2.347,2.371 L 2.784,2.371 L 2.902,2.378 L 3.004,2.4 L 3.091,2.436 L 3.163,2.487 L 3.219,2.552 L 3.259,2.63 L 3.283,2.722 L 3.291,2.828 L 3.283,2.933 L 3.259,3.025 L 3.219,3.103 L 3.163,3.167 L 3.091,3.217 L 3.004,3.253 L 2.902,3.275 L 2.784,3.282 L 2.347,3.282 z\" /></g></svg>"
      ],
      "text/plain": [
       "<POLYGON ((3.218 2.204, 3.273 2.18, 3.328 2.144, 3.435 2.042, 3.541 1.895, 3...>"
      ]
     },
     "execution_count": 15,
     "metadata": {},
     "output_type": "execute_result"
    }
   ],
   "source": [
    "# 沿X方向平移1\n",
    "translate_a = affinity.translate(R , xoff = 1)\n",
    "translate_a"
   ]
  },
  {
   "cell_type": "code",
   "execution_count": 16,
   "id": "5d94472d",
   "metadata": {},
   "outputs": [
    {
     "data": {
      "image/svg+xml": [
       "<svg xmlns=\"http://www.w3.org/2000/svg\" xmlns:xlink=\"http://www.w3.org/1999/xlink\" width=\"100.0\" height=\"100.0\" viewBox=\"1.89732 1.89732 2.2053600000000007 2.772360000000001\" preserveAspectRatio=\"xMinYMin meet\"><g transform=\"matrix(1,0,0,-1,0,6.567)\"><path fill-rule=\"evenodd\" fill=\"#66cc99\" stroke=\"#555555\" stroke-width=\"0.055447200000000016\" opacity=\"0.6\" d=\"M 3.218,3.204 L 3.273,3.18 L 3.328,3.144 L 3.435,3.042 L 3.541,2.895 L 3.647,2.702 L 4.0,2.0 L 3.626,2.0 L 3.298,2.659 L 3.235,2.777 L 3.173,2.873 L 3.112,2.948 L 3.051,3.001 L 2.9859999999999998,3.038 L 2.91,3.064 L 2.823,3.08 L 2.726,3.085 L 2.347,3.085 L 2.347,2.0 L 2.0,2.0 L 2.0,4.567 L 2.784,4.567 L 2.99,4.556 L 3.168,4.521 L 3.319,4.464 L 3.441,4.383 L 3.492,4.334 L 3.536,4.279 L 3.604,4.152 L 3.644,4.002 L 3.658,3.828 L 3.651,3.712 L 3.63,3.606 L 3.594,3.51 L 3.545,3.425 L 3.482,3.352 L 3.407,3.29 L 3.319,3.241 L 3.218,3.204 z M 2.347,4.282 L 2.347,3.371 L 2.784,3.371 L 2.902,3.378 L 3.004,3.4 L 3.091,3.436 L 3.163,3.487 L 3.219,3.552 L 3.259,3.63 L 3.283,3.722 L 3.291,3.828 L 3.283,3.933 L 3.259,4.025 L 3.219,4.103 L 3.163,4.167 L 3.091,4.2170000000000005 L 3.004,4.253 L 2.902,4.275 L 2.784,4.282 L 2.347,4.282 z\" /></g></svg>"
      ],
      "text/plain": [
       "<POLYGON ((3.218 3.204, 3.273 3.18, 3.328 3.144, 3.435 3.042, 3.541 2.895, 3...>"
      ]
     },
     "execution_count": 16,
     "metadata": {},
     "output_type": "execute_result"
    }
   ],
   "source": [
    "# 沿X和Y方向各平移1\n",
    "translate_b = affinity.translate(R , xoff = 1 , yoff =1)\n",
    "translate_b"
   ]
  },
  {
   "cell_type": "code",
   "execution_count": 17,
   "id": "f065d141",
   "metadata": {},
   "outputs": [
    {
     "data": {
      "text/plain": [
       "Text(0.5, 1.0, 'b) xoff=1 , yoff=1')"
      ]
     },
     "execution_count": 17,
     "metadata": {},
     "output_type": "execute_result"
    },
    {
     "data": {
      "image/png": "[encoded data removed]",
      "text/plain": [
       "<Figure size 800x800 with 2 Axes>"
      ]
     },
     "metadata": {},
     "output_type": "display_data"
    }
   ],
   "source": [
    "import geopandas as gpd\n",
    "import matplotlib.pyplot as plt\n",
    "\n",
    "\n",
    "f , ax = plt.subplots(1,2 , figsize=(8,8))\n",
    "\n",
    "gpd.GeoDataFrame([R] , columns=[\"geometry\"]).plot(ax=ax[0] , facecolor=\"gray\" , alpha=0.3)\n",
    "gpd.GeoDataFrame([translate_a] , columns=[\"geometry\"]).plot(ax=ax[0] , alpha=0.3)\n",
    "ax[0].set_xlim(0,5)\n",
    "ax[0].set_ylim(0,5)\n",
    "ax[0].set_title(\"a) xoff=1\" , fontsize=10)\n",
    "\n",
    "gpd.GeoDataFrame([R] , columns=[\"geometry\"]).plot(ax=ax[1] , facecolor=\"gray\" , alpha=0.3)\n",
    "gpd.GeoDataFrame([translate_b] , columns=[\"geometry\"]).plot(ax=ax[1] , alpha=0.3)\n",
    "ax[1].set_xlim(0,5)\n",
    "ax[1].set_ylim(0,5)\n",
    "ax[1].set_title(\"b) xoff=1 , yoff=1\" , fontsize=10)"
   ]
  },
  {
   "cell_type": "code",
   "execution_count": null,
   "id": "91c5e705",
   "metadata": {},
   "outputs": [],
   "source": []
  },
  {
   "cell_type": "code",
   "execution_count": null,
   "id": "d0a87de9",
   "metadata": {},
   "outputs": [],
   "source": []
  },
  {
   "cell_type": "code",
   "execution_count": null,
   "id": "6da02403",
   "metadata": {},
   "outputs": [],
   "source": []
  },
  {
   "cell_type": "code",
   "execution_count": null,
   "id": "e4cf76c1",
   "metadata": {},
   "outputs": [],
   "source": []
  },
  {
   "cell_type": "code",
   "execution_count": null,
   "id": "ad31d450",
   "metadata": {},
   "outputs": [],
   "source": []
  },
  {
   "cell_type": "code",
   "execution_count": null,
   "id": "2efa587e",
   "metadata": {},
   "outputs": [],
   "source": []
  },
  {
   "cell_type": "code",
   "execution_count": null,
   "id": "47da45c9",
   "metadata": {},
   "outputs": [],
   "source": []
  },
  {
   "cell_type": "code",
   "execution_count": null,
   "id": "923ad410",
   "metadata": {},
   "outputs": [],
   "source": []
  },
  {
   "cell_type": "code",
   "execution_count": null,
   "id": "d12e973a",
   "metadata": {},
   "outputs": [],
   "source": []
  },
  {
   "cell_type": "code",
   "execution_count": null,
   "id": "2a14cbc9",
   "metadata": {},
   "outputs": [],
   "source": []
  },
  {
   "cell_type": "code",
   "execution_count": null,
   "id": "439b7a91",
   "metadata": {},
   "outputs": [],
   "source": []
  },
  {
   "cell_type": "code",
   "execution_count": null,
   "id": "8731eef7",
   "metadata": {},
   "outputs": [],
   "source": []
  },
  {
   "cell_type": "code",
   "execution_count": null,
   "id": "c7964192",
   "metadata": {},
   "outputs": [],
   "source": []
  },
  {
   "cell_type": "code",
   "execution_count": null,
   "id": "c2b3e883",
   "metadata": {},
   "outputs": [],
   "source": []
  },
  {
   "cell_type": "code",
   "execution_count": null,
   "id": "863b7d77",
   "metadata": {},
   "outputs": [],
   "source": []
  },
  {
   "cell_type": "code",
   "execution_count": null,
   "id": "72f1a2f8",
   "metadata": {},
   "outputs": [],
   "source": []
  },
  {
   "cell_type": "code",
   "execution_count": null,
   "id": "048d6ed8",
   "metadata": {},
   "outputs": [],
   "source": []
  },
  {
   "cell_type": "code",
   "execution_count": null,
   "id": "8c4c23c0",
   "metadata": {},
   "outputs": [],
   "source": []
  },
  {
   "cell_type": "code",
   "execution_count": null,
   "id": "5fcbaf6f",
   "metadata": {},
   "outputs": [],
   "source": []
  },
  {
   "cell_type": "code",
   "execution_count": null,
   "id": "85be725d",
   "metadata": {},
   "outputs": [],
   "source": []
  },
  {
   "cell_type": "code",
   "execution_count": null,
   "id": "8ba7d636",
   "metadata": {},
   "outputs": [],
   "source": []
  },
  {
   "cell_type": "code",
   "execution_count": null,
   "id": "f437369b",
   "metadata": {},
   "outputs": [],
   "source": []
  },
  {
   "cell_type": "code",
   "execution_count": null,
   "id": "15ff959f",
   "metadata": {},
   "outputs": [],
   "source": []
  }
 ],
 "metadata": {
  "kernelspec": {
   "display_name": "Python 3 (ipykernel)",
   "language": "python",
   "name": "python3"
  },
  "language_info": {
   "codemirror_mode": {
    "name": "ipython",
    "version": 3
   },
   "file_extension": ".py",
   "mimetype": "text/x-python",
   "name": "python",
   "nbconvert_exporter": "python",
   "pygments_lexer": "ipython3",
   "version": "3.9.16"
  }
 },
 "nbformat": 4,
 "nbformat_minor": 5
}
