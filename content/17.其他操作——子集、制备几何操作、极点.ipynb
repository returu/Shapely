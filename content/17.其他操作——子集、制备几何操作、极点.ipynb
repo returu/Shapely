{
 "cells": [
  {
   "cell_type": "code",
   "execution_count": 1,
   "id": "66361947",
   "metadata": {},
   "outputs": [],
   "source": [
    "from shapely import Point , LineString , LinearRing , Polygon , MultiPoint , MultiLineString , MultiPolygon"
   ]
  },
  {
   "cell_type": "markdown",
   "id": "1d36b900",
   "metadata": {},
   "source": [
    "# 1.子集"
   ]
  },
  {
   "cell_type": "markdown",
   "id": "d8554c4e",
   "metadata": {},
   "source": [
    "## shapely.ops.substring(geom, start_dist, end_dist[, normalized=False])"
   ]
  },
  {
   "cell_type": "markdown",
   "id": "16b4816e",
   "metadata": {},
   "source": [
    "### 返回start_dist和end_dist之间的LineString，如果它们在同一位置，则返回一个Point。"
   ]
  },
  {
   "cell_type": "code",
   "execution_count": 2,
   "id": "db2fbd5a",
   "metadata": {},
   "outputs": [
    {
     "data": {
      "image/svg+xml": [
       "<svg xmlns=\"http://www.w3.org/2000/svg\" xmlns:xlink=\"http://www.w3.org/1999/xlink\" width=\"100.0\" height=\"100.0\" viewBox=\"-0.2 -0.2 5.4 0.4\" preserveAspectRatio=\"xMinYMin meet\"><g transform=\"matrix(1,0,0,-1,0,0.0)\"><polyline fill=\"none\" stroke=\"#66cc99\" stroke-width=\"0.10800000000000001\" points=\"0.0,0.0 1.0,0.0 2.0,0.0 3.0,0.0 4.0,0.0 5.0,0.0\" opacity=\"0.8\" /></g></svg>"
      ],
      "text/plain": [
       "<LINESTRING (0 0, 1 0, 2 0, 3 0, 4 0, 5 0)>"
      ]
     },
     "execution_count": 2,
     "metadata": {},
     "output_type": "execute_result"
    }
   ],
   "source": [
    "from shapely.ops import substring\n",
    "\n",
    "ls = LineString((i, 0) for i in range(6))\n",
    "ls"
   ]
  },
  {
   "cell_type": "code",
   "execution_count": 3,
   "id": "99aa4de4",
   "metadata": {},
   "outputs": [
    {
     "data": {
      "image/svg+xml": [
       "<svg xmlns=\"http://www.w3.org/2000/svg\" xmlns:xlink=\"http://www.w3.org/1999/xlink\" width=\"100.0\" height=\"100.0\" viewBox=\"0.92 -0.08 2.16 0.16\" preserveAspectRatio=\"xMinYMin meet\"><g transform=\"matrix(1,0,0,-1,0,0.0)\"><polyline fill=\"none\" stroke=\"#66cc99\" stroke-width=\"0.0432\" points=\"1.0,0.0 2.0,0.0 3.0,0.0\" opacity=\"0.8\" /></g></svg>"
      ],
      "text/plain": [
       "<LINESTRING (1 0, 2 0, 3 0)>"
      ]
     },
     "execution_count": 3,
     "metadata": {},
     "output_type": "execute_result"
    }
   ],
   "source": [
    "re1 = substring(ls , start_dist=1 , end_dist=3)\n",
    "re1"
   ]
  },
  {
   "cell_type": "code",
   "execution_count": 4,
   "id": "d2d0b4b3",
   "metadata": {},
   "outputs": [
    {
     "data": {
      "image/svg+xml": [
       "<svg xmlns=\"http://www.w3.org/2000/svg\" xmlns:xlink=\"http://www.w3.org/1999/xlink\" width=\"100.0\" height=\"100.0\" viewBox=\"0.92 -0.08 2.16 0.16\" preserveAspectRatio=\"xMinYMin meet\"><g transform=\"matrix(1,0,0,-1,0,0.0)\"><polyline fill=\"none\" stroke=\"#66cc99\" stroke-width=\"0.0432\" points=\"3.0,0.0 2.0,0.0 1.0,0.0\" opacity=\"0.8\" /></g></svg>"
      ],
      "text/plain": [
       "<LINESTRING (3 0, 2 0, 1 0)>"
      ]
     },
     "execution_count": 4,
     "metadata": {},
     "output_type": "execute_result"
    }
   ],
   "source": [
    "re2 = substring(ls , start_dist=3 , end_dist=1)\n",
    "re2"
   ]
  },
  {
   "cell_type": "code",
   "execution_count": 5,
   "id": "9312d0f8",
   "metadata": {},
   "outputs": [
    {
     "data": {
      "image/svg+xml": [
       "<svg xmlns=\"http://www.w3.org/2000/svg\" xmlns:xlink=\"http://www.w3.org/1999/xlink\" width=\"100.0\" height=\"100.0\" viewBox=\"0.96 -0.04 1.08 0.08\" preserveAspectRatio=\"xMinYMin meet\"><g transform=\"matrix(1,0,0,-1,0,0.0)\"><polyline fill=\"none\" stroke=\"#66cc99\" stroke-width=\"0.0216\" points=\"1.0,0.0 2.0,0.0\" opacity=\"0.8\" /></g></svg>"
      ],
      "text/plain": [
       "<LINESTRING (1 0, 2 0)>"
      ]
     },
     "execution_count": 5,
     "metadata": {},
     "output_type": "execute_result"
    }
   ],
   "source": [
    "re3 = substring(ls , start_dist=1 , end_dist=-3)\n",
    "re3"
   ]
  },
  {
   "cell_type": "code",
   "execution_count": 6,
   "id": "146d4343",
   "metadata": {},
   "outputs": [
    {
     "data": {
      "image/svg+xml": [
       "<svg xmlns=\"http://www.w3.org/2000/svg\" xmlns:xlink=\"http://www.w3.org/1999/xlink\" width=\"100.0\" height=\"100.0\" viewBox=\"0.96 -0.04 1.08 0.08\" preserveAspectRatio=\"xMinYMin meet\"><g transform=\"matrix(1,0,0,-1,0,0.0)\"><polyline fill=\"none\" stroke=\"#66cc99\" stroke-width=\"0.0216\" points=\"1.0,0.0 2.0,0.0\" opacity=\"0.8\" /></g></svg>"
      ],
      "text/plain": [
       "<LINESTRING (1 0, 2 0)>"
      ]
     },
     "execution_count": 6,
     "metadata": {},
     "output_type": "execute_result"
    }
   ],
   "source": [
    "re4 = substring(ls , start_dist=0.2 , end_dist=-0.6 , normalized=True)\n",
    "re4"
   ]
  },
  {
   "cell_type": "code",
   "execution_count": 7,
   "id": "21d7be48",
   "metadata": {},
   "outputs": [
    {
     "data": {
      "text/plain": [
       "Text(0.5, 1.0, 'd) start_dist=0.2 , end_dist=-0.6 , normalized=True')"
      ]
     },
     "execution_count": 7,
     "metadata": {},
     "output_type": "execute_result"
    },
    {
     "data": {
      "image/png": "[encoded data removed]",
      "text/plain": [
       "<Figure size 1000x1000 with 4 Axes>"
      ]
     },
     "metadata": {},
     "output_type": "display_data"
    }
   ],
   "source": [
    "import geopandas as gpd\n",
    "import matplotlib.pyplot as plt\n",
    "\n",
    "f,ax = plt.subplots(2,2 , figsize=(10,10) , sharex=\"all\" , sharey=\"all\")\n",
    "f.subplots_adjust(hspace=0.2 , wspace=0.2)\n",
    "\n",
    "\n",
    "gpd.GeoDataFrame([ls] , columns=[\"geometry\"]).plot(ax=ax[0,0] , edgecolor=\"gray\", linewidth=5)\n",
    "gpd.GeoDataFrame([re1] , columns=[\"geometry\"]).plot(ax=ax[0,0] , edgecolor=\"red\", linewidth=2)\n",
    "ax[0][0].set_xlim(-1 , 6)\n",
    "ax[0][0].set_ylim(-1 , 1)\n",
    "ax[0][0].set_title('a) start_dist=1 , end_dist=3')\n",
    "\n",
    "gpd.GeoDataFrame([ls] , columns=[\"geometry\"]).plot(ax=ax[0,1] , edgecolor=\"gray\", linewidth=5)\n",
    "gpd.GeoDataFrame([re2] , columns=[\"geometry\"]).plot(ax=ax[0,1] , edgecolor=\"red\", linewidth=2)\n",
    "ax[0][1].set_title('b) start_dist=3 , end_dist=1')\n",
    "\n",
    "gpd.GeoDataFrame([ls] , columns=[\"geometry\"]).plot(ax=ax[1,0] , edgecolor=\"gray\", linewidth=5)\n",
    "gpd.GeoDataFrame([re3] , columns=[\"geometry\"]).plot(ax=ax[1,0] , edgecolor=\"red\", linewidth=2)\n",
    "ax[1][0].set_title('c) start_dist=1 , end_dist=-3')\n",
    "\n",
    "gpd.GeoDataFrame([ls] , columns=[\"geometry\"]).plot(ax=ax[1,1] , edgecolor=\"gray\", linewidth=5)\n",
    "gpd.GeoDataFrame([re4] , columns=[\"geometry\"]).plot(ax=ax[1,1] , edgecolor=\"red\", linewidth=2)\n",
    "ax[1][1].set_title('d) start_dist=0.2 , end_dist=-0.6 , normalized=True')"
   ]
  },
  {
   "cell_type": "code",
   "execution_count": null,
   "id": "071234cb",
   "metadata": {},
   "outputs": [],
   "source": []
  },
  {
   "cell_type": "markdown",
   "id": "f46c4d3b",
   "metadata": {},
   "source": [
    "# 2.制备几何操作"
   ]
  },
  {
   "cell_type": "markdown",
   "id": "bad397bf",
   "metadata": {},
   "source": [
    "## prepared.prep(ob)"
   ]
  },
  {
   "cell_type": "markdown",
   "id": "7340eb01",
   "metadata": {},
   "source": [
    "### 创建并返回制备几何对象。"
   ]
  },
  {
   "cell_type": "code",
   "execution_count": 8,
   "id": "3ca62777",
   "metadata": {},
   "outputs": [],
   "source": [
    "from shapely.prepared import prep"
   ]
  },
  {
   "cell_type": "code",
   "execution_count": 9,
   "id": "077635b8",
   "metadata": {},
   "outputs": [
    {
     "data": {
      "text/plain": [
       "[<POINT (1 1)>, <POINT (2 2)>, <POINT (1 0)>, <POINT (0.5 1)>, <POINT (1.5 0)>]"
      ]
     },
     "execution_count": 9,
     "metadata": {},
     "output_type": "execute_result"
    }
   ],
   "source": [
    "points = [Point(1, 1) , Point(2, 2) , Point(1, 0), Point(0.5, 1), Point(1.5, 0)] # large list of points\n",
    "points"
   ]
  },
  {
   "cell_type": "code",
   "execution_count": 10,
   "id": "4e42a899",
   "metadata": {},
   "outputs": [
    {
     "data": {
      "image/svg+xml": [
       "<svg xmlns=\"http://www.w3.org/2000/svg\" xmlns:xlink=\"http://www.w3.org/1999/xlink\" width=\"100.0\" height=\"100.0\" viewBox=\"-0.08 -0.08 2.16 2.16\" preserveAspectRatio=\"xMinYMin meet\"><g transform=\"matrix(1,0,0,-1,0,2.0)\"><path fill-rule=\"evenodd\" fill=\"#66cc99\" stroke=\"#555555\" stroke-width=\"0.0432\" opacity=\"0.6\" d=\"M 2.0,1.0 L 1.995184726672197,0.9019828596704393 L 1.9807852804032304,0.8049096779838718 L 1.9569403357322088,0.7097153227455377 L 1.9238795325112867,0.6173165676349102 L 1.881921264348355,0.5286032631740023 L 1.8314696123025453,0.4444297669803978 L 1.7730104533627369,0.3656067158363545 L 1.7071067811865475,0.2928932188134524 L 1.6343932841636455,0.22698954663726312 L 1.5555702330196022,0.16853038769745476 L 1.471396736825998,0.11807873565164506 L 1.3826834323650898,0.07612046748871326 L 1.2902846772544623,0.043059664267791065 L 1.1950903220161284,0.01921471959676957 L 1.0980171403295609,0.004815273327803182 L 1.0,0.0 L 0.9019828596704393,0.004815273327803071 L 0.8049096779838718,0.01921471959676957 L 0.7097153227455378,0.043059664267791065 L 0.6173165676349103,0.07612046748871326 L 0.5286032631740023,0.11807873565164495 L 0.44442976698039804,0.16853038769745465 L 0.3656067158363546,0.2269895466372629 L 0.29289321881345254,0.2928932188134524 L 0.226989546637263,0.3656067158363545 L 0.16853038769745465,0.4444297669803978 L 0.11807873565164506,0.5286032631740022 L 0.07612046748871326,0.6173165676349102 L 0.043059664267791176,0.7097153227455376 L 0.01921471959676957,0.8049096779838714 L 0.004815273327803182,0.9019828596704391 L 0.0,0.9999999999999999 L 0.004815273327803071,1.0980171403295607 L 0.01921471959676957,1.1950903220161284 L 0.043059664267791065,1.290284677254462 L 0.07612046748871315,1.3826834323650896 L 0.11807873565164495,1.4713967368259977 L 0.16853038769745454,1.555570233019602 L 0.2269895466372629,1.6343932841636453 L 0.2928932188134523,1.7071067811865475 L 0.36560671583635407,1.7730104533627367 L 0.4444297669803978,1.8314696123025453 L 0.5286032631740021,1.881921264348355 L 0.6173165676349097,1.9238795325112865 L 0.7097153227455375,1.9569403357322088 L 0.8049096779838714,1.9807852804032304 L 0.9019828596704396,1.995184726672197 L 0.9999999999999998,2.0 L 1.09801714032956,1.995184726672197 L 1.1950903220161284,1.9807852804032304 L 1.290284677254462,1.956940335732209 L 1.38268343236509,1.9238795325112865 L 1.4713967368259975,1.881921264348355 L 1.5555702330196017,1.8314696123025453 L 1.6343932841636457,1.7730104533627369 L 1.7071067811865475,1.7071067811865477 L 1.7730104533627364,1.634393284163646 L 1.8314696123025453,1.5555702330196022 L 1.881921264348355,1.471396736825998 L 1.9238795325112865,1.3826834323650905 L 1.9569403357322088,1.2902846772544625 L 1.9807852804032304,1.1950903220161286 L 1.995184726672197,1.0980171403295604 L 2.0,1.0 z\" /></g></svg>"
      ],
      "text/plain": [
       "<POLYGON ((2 1, 1.995 0.902, 1.981 0.805, 1.957 0.71, 1.924 0.617, 1.882 0.5...>"
      ]
     },
     "execution_count": 10,
     "metadata": {},
     "output_type": "execute_result"
    }
   ],
   "source": [
    "polygon = Point(1, 1).buffer(1.0)\n",
    "polygon"
   ]
  },
  {
   "cell_type": "code",
   "execution_count": 11,
   "id": "9ea58ac4",
   "metadata": {},
   "outputs": [
    {
     "data": {
      "text/plain": [
       "<AxesSubplot:>"
      ]
     },
     "execution_count": 11,
     "metadata": {},
     "output_type": "execute_result"
    },
    {
     "data": {
      "image/png": "[encoded data removed]",
      "text/plain": [
       "<Figure size 500x500 with 1 Axes>"
      ]
     },
     "metadata": {},
     "output_type": "display_data"
    }
   ],
   "source": [
    "import geopandas as gpd\n",
    "import matplotlib.pyplot as plt\n",
    "\n",
    "f,ax = plt.subplots(figsize=(5,5))\n",
    "\n",
    "for i in range(len(points)):\n",
    "    gpd.GeoDataFrame([points[i]] , columns=[\"geometry\"]).plot(ax=ax , facecolor=\"red\")\n",
    "gpd.GeoDataFrame([polygon] , columns=[\"geometry\"]).plot(ax=ax , facecolor=\"k\", alpha=0.3)"
   ]
  },
  {
   "cell_type": "code",
   "execution_count": 12,
   "id": "876bcf94",
   "metadata": {},
   "outputs": [
    {
     "data": {
      "text/plain": [
       "<shapely.prepared.PreparedGeometry at 0x13d4f4b0fa0>"
      ]
     },
     "execution_count": 12,
     "metadata": {},
     "output_type": "execute_result"
    }
   ],
   "source": [
    "# prepared.prep(ob)函数创建并返回制备几何对象\n",
    "prepared_polygon = prep(polygon)\n",
    "prepared_polygon"
   ]
  },
  {
   "cell_type": "code",
   "execution_count": 13,
   "id": "7da6f45c",
   "metadata": {},
   "outputs": [
    {
     "data": {
      "text/plain": [
       "<filter at 0x13d4f4faa60>"
      ]
     },
     "execution_count": 13,
     "metadata": {},
     "output_type": "execute_result"
    }
   ],
   "source": [
    "# 使用contains函数检测点是否在多边形内部\n",
    "# 再使用filter函数过滤序列，返回符合条件的元素组成的新列表\n",
    "hits = filter(prepared_polygon.contains, points)\n",
    "hits"
   ]
  },
  {
   "cell_type": "code",
   "execution_count": 14,
   "id": "17093740",
   "metadata": {},
   "outputs": [
    {
     "name": "stdout",
     "output_type": "stream",
     "text": [
      "POINT (1 1)\n",
      "POINT (0.5 1)\n"
     ]
    }
   ],
   "source": [
    "for x in hits:\n",
    "    print(x.wkt)"
   ]
  },
  {
   "cell_type": "code",
   "execution_count": null,
   "id": "76efddfd",
   "metadata": {},
   "outputs": [],
   "source": []
  },
  {
   "cell_type": "markdown",
   "id": "67f5e64e",
   "metadata": {},
   "source": [
    "# 3.极点"
   ]
  },
  {
   "cell_type": "markdown",
   "id": "8ca141c6",
   "metadata": {},
   "source": [
    "## shapely.ops.polylabel(polygon, tolerance)"
   ]
  },
  {
   "cell_type": "markdown",
   "id": "2a3f34b4",
   "metadata": {},
   "source": [
    "### 找到给定多边形的极点（即离多边形轮廓最远的内部点，但不要与中心点混淆）大致位置。基于Vladimir Agafonkin的polylabel。"
   ]
  },
  {
   "cell_type": "code",
   "execution_count": 15,
   "id": "18f84b54",
   "metadata": {},
   "outputs": [],
   "source": [
    "from shapely.ops import polylabel\n",
    "\n",
    "polygon = LineString([(0, 0), (50, 200), (100, 100), (20, 50),(-100, -20), (-150, -200)]).buffer(100)"
   ]
  },
  {
   "cell_type": "code",
   "execution_count": 16,
   "id": "802ac871",
   "metadata": {},
   "outputs": [
    {
     "data": {
      "image/svg+xml": [
       "<svg xmlns=\"http://www.w3.org/2000/svg\" xmlns:xlink=\"http://www.w3.org/1999/xlink\" width=\"300\" height=\"300\" viewBox=\"-273.9684095193681 -323.9684095193681 497.9245690652997 647.8974827553399\" preserveAspectRatio=\"xMinYMin meet\"><g transform=\"matrix(1,0,0,-1,0,-0.03933628339632378)\"><path fill-rule=\"evenodd\" fill=\"#66cc99\" stroke=\"#555555\" stroke-width=\"4.319316551702266\" opacity=\"0.6\" d=\"M -75.57274028771249,110.01960141091608 L -47.01425001453319,224.2535625036333 L -44.1986052400443,233.56520178444188 L -40.491516848197264,242.55919851821028 L -35.928066677809895,251.1504384831045 L -30.55144070299677,259.2576189250935 L -24.41252034494194,266.8040179623472 L -17.56940095820731,273.7182206387879 L -10.08684204835646,279.93479475582495 L -2.0356544237308896,285.394910086574 L 6.507969918963688,290.0468951126591 L 15.463178833668529,293.8467260149487 L 24.74522516506452,296.758443290685 L 34.266268748883206,298.7544920543751 L 43.93620768274765,299.8159828020204 L 53.66353100085455,299.9328701709592 L 63.35618468325525,299.10404800363494 L 72.92244280430124,297.33735981566144 L 82.27177557618649,294.64952456911897 L 91.31570607290118,291.06597845352366 L 99.96864752703418,286.6206341717666 L 108.14871327570975,281.35556000900795 L 115.77849169077643,275.32058172164136 L 122.78577875973706,268.5728110138312 L 129.10426138467787,261.17610506386103 L 134.67414493283297,253.2004622150372 L 139.4427190999916,244.72135954999578 L 189.4427190999916,144.72135954999578 L 193.40316487178438,135.7190256296874 L 196.46014848027284,126.37119176608674 L 198.5841005952538,116.76827688896145 L 199.75447683394128,107.00316725394137 L 199.959956480919,97.1703179802708 L 199.19855199019082,87.36483941339068 L 197.47762821014587,77.68157714970485 L 194.8138311454814,68.21419462218802 L 191.23292694514913,59.05426712072333 L 186.76955267374814,50.29039601045239 L 181.46688127708177,42.00735171605054 L 175.37620398257152,34.28525376159649 L 168.5564341738489,27.198795797275977 L 161.07353753840513,20.816523109015876 L 152.999894000318,15.200169599491204 L 98.33653286253585,-18.96443111162263 L 97.01425001453319,-24.253562503633297 L 94.16983504461098,-33.64583432864693 L 90.41851308474092,-42.714078376391726 L 85.79641141607772,-51.37096249948145 L 80.34804340438838,-59.53311617147653 L 74.12587981200642,-67.12193339062857 L 67.18984347570706,-74.06432969864768 L 59.60673221703203,-80.29344602398776 L 51.44957554275265,-85.74929257125441 L 42.79693133079764,-90.37932655572838 L 33.732129274944626,-94.13895821910513 L 24.342468374316315,-96.99198025324264 L 14.718376196296514,-98.91091649633165 L 4.952538009623515,-99.87728654335396 L -4.860995825414805,-99.88178372248515 L -14.62771561336376,-98.92436472343178 L -17.953756809330994,-98.26435835897965 L -53.64820903700594,-226.76438637860946 L -56.73553786162286,-236.0796355585698 L -60.72105444017343,-245.0474181249661 L -65.56637606930124,-253.58136942939527 L -71.22483965299556,-261.5993028556634 L -77.64195109371455,-269.0240013218272 L -84.75591010033419,-275.78396092290455 L -92.4982053587351,-281.81407955256725 L -100.79427433320981,-287.0562838720134 L -109.5642213444415,-291.4600885879665 L -118.72358700857133,-294.9830826536473 L -128.18416162723508,-297.5913377103388 L -137.85483469517897,-299.2597348360279 L -147.64247234423095,-299.9722064543555 L -157.4528142733637,-299.72189107416057 L -167.19138152692125,-298.5111993693906 L -176.76438637860946,-296.3517909629941 L -186.0796355585698,-293.26446213837716 L -195.04741812496607,-289.2789455598266 L -203.58136942939524,-284.4336239306988 L -211.59930285566338,-278.77516034700443 L -219.0240013218272,-272.3580489062855 L -225.78396092290453,-265.2440898996658 L -231.81407955256725,-257.5017946412649 L -237.0562838720134,-249.20572566679022 L -241.4600885879665,-240.43577865555847 L -244.98308265364727,-231.27641299142869 L -247.5913377103388,-221.81583837276494 L -249.25973483602792,-212.145165304821 L -249.97220645435553,-202.35752765576908 L -249.72189107416057,-192.54718572663634 L -248.51119936939062,-182.80861847307875 L -246.35179096299407,-173.23561362139054 L -196.35179096299407,6.7643863786094585 L -193.32576660256726,15.920764023655508 L -189.43184924301974,24.74309266215056 L -184.7062507874361,33.14932810051302 L -179.19291744665992,41.0612956486063 L -172.94312105678188,48.40541711367358 L -166.01498227118805,55.11339504865113 L -158.47293006129595,61.12284789161923 L -150.3871025524086,66.37789008984335 L -75.57274028771249,110.01960141091608 z\" /></g></svg>"
      ],
      "text/plain": [
       "<POLYGON ((-75.573 110.02, -47.014 224.254, -44.199 233.565, -40.492 242.559...>"
      ]
     },
     "execution_count": 16,
     "metadata": {},
     "output_type": "execute_result"
    }
   ],
   "source": [
    "polygon"
   ]
  },
  {
   "cell_type": "code",
   "execution_count": 17,
   "id": "cf5ae7e5",
   "metadata": {},
   "outputs": [
    {
     "data": {
      "image/svg+xml": [
       "<svg xmlns=\"http://www.w3.org/2000/svg\" xmlns:xlink=\"http://www.w3.org/1999/xlink\" width=\"100.0\" height=\"100.0\" viewBox=\"58.35615556364569 120.83919629746435 2.0 2.0\" preserveAspectRatio=\"xMinYMin meet\"><g transform=\"matrix(1,0,0,-1,0,243.6783925949287)\"><circle cx=\"59.35615556364569\" cy=\"121.83919629746435\" r=\"0.06\" stroke=\"#555555\" stroke-width=\"0.02\" fill=\"#66cc99\" opacity=\"0.6\" /></g></svg>"
      ],
      "text/plain": [
       "<POINT (59.356 121.839)>"
      ]
     },
     "execution_count": 17,
     "metadata": {},
     "output_type": "execute_result"
    }
   ],
   "source": [
    "label = polylabel(polygon , tolerance=10)\n",
    "label"
   ]
  },
  {
   "cell_type": "code",
   "execution_count": 18,
   "id": "59294b55",
   "metadata": {},
   "outputs": [
    {
     "data": {
      "text/plain": [
       "<matplotlib.legend.Legend at 0x13d4f4fa7c0>"
      ]
     },
     "execution_count": 18,
     "metadata": {},
     "output_type": "execute_result"
    },
    {
     "data": {
      "image/png": "[encoded data removed]",
      "text/plain": [
       "<Figure size 500x500 with 1 Axes>"
      ]
     },
     "metadata": {},
     "output_type": "display_data"
    }
   ],
   "source": [
    "import geopandas as gpd\n",
    "import matplotlib.pyplot as plt\n",
    "\n",
    "f,ax = plt.subplots(figsize=(5,5))\n",
    "\n",
    "gpd.GeoDataFrame([polygon] , columns=[\"geometry\"]).plot(ax=ax , facecolor=\"k\", alpha=0.3)\n",
    "\n",
    "gpd.GeoDataFrame([label] , columns=[\"geometry\"]).plot(ax=ax , facecolor=\"red\",label=\"polylabel\")\n",
    "gpd.GeoDataFrame([polygon.centroid] , columns=[\"geometry\"]).plot(ax=ax , facecolor=\"blue\",label=\"centroid\")\n",
    "\n",
    "plt.legend()"
   ]
  },
  {
   "cell_type": "code",
   "execution_count": null,
   "id": "62ad15c2",
   "metadata": {},
   "outputs": [],
   "source": []
  },
  {
   "cell_type": "code",
   "execution_count": null,
   "id": "e7034fd7",
   "metadata": {},
   "outputs": [],
   "source": []
  },
  {
   "cell_type": "code",
   "execution_count": null,
   "id": "7750de82",
   "metadata": {},
   "outputs": [],
   "source": []
  },
  {
   "cell_type": "code",
   "execution_count": null,
   "id": "19749271",
   "metadata": {},
   "outputs": [],
   "source": []
  },
  {
   "cell_type": "code",
   "execution_count": null,
   "id": "b77c8af0",
   "metadata": {},
   "outputs": [],
   "source": []
  },
  {
   "cell_type": "code",
   "execution_count": null,
   "id": "d090d016",
   "metadata": {},
   "outputs": [],
   "source": []
  }
 ],
 "metadata": {
  "kernelspec": {
   "display_name": "Python 3 (ipykernel)",
   "language": "python",
   "name": "python3"
  },
  "language_info": {
   "codemirror_mode": {
    "name": "ipython",
    "version": 3
   },
   "file_extension": ".py",
   "mimetype": "text/x-python",
   "name": "python",
   "nbconvert_exporter": "python",
   "pygments_lexer": "ipython3",
   "version": "3.9.16"
  }
 },
 "nbformat": 4,
 "nbformat_minor": 5
}
