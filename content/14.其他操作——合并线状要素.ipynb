{
 "cells": [
  {
   "cell_type": "code",
   "execution_count": 1,
   "id": "66361947",
   "metadata": {},
   "outputs": [],
   "source": [
    "from shapely import Point , LineString , LinearRing , Polygon , MultiPoint , MultiLineString , MultiPolygon"
   ]
  },
  {
   "cell_type": "markdown",
   "id": "9dc50efd",
   "metadata": {},
   "source": [
    "# shapely.ops.polygonize(lines)"
   ]
  },
  {
   "cell_type": "markdown",
   "id": "e705249f",
   "metadata": {},
   "source": [
    "### 返回一个由输入线构建的多边形的迭代器。"
   ]
  },
  {
   "cell_type": "code",
   "execution_count": 2,
   "id": "c5c60a97",
   "metadata": {},
   "outputs": [
    {
     "data": {
      "image/svg+xml": [
       "<svg xmlns=\"http://www.w3.org/2000/svg\" xmlns:xlink=\"http://www.w3.org/1999/xlink\" width=\"100.0\" height=\"100.0\" viewBox=\"-0.04 -0.04 1.08 1.08\" preserveAspectRatio=\"xMinYMin meet\"><g transform=\"matrix(1,0,0,-1,0,1.0)\"><g><polyline fill=\"none\" stroke=\"#66cc99\" stroke-width=\"0.0216\" points=\"0.0,0.0 1.0,1.0\" opacity=\"0.8\" /><polyline fill=\"none\" stroke=\"#66cc99\" stroke-width=\"0.0216\" points=\"0.0,0.0 0.0,1.0\" opacity=\"0.8\" /><polyline fill=\"none\" stroke=\"#66cc99\" stroke-width=\"0.0216\" points=\"0.0,1.0 1.0,1.0\" opacity=\"0.8\" /><polyline fill=\"none\" stroke=\"#66cc99\" stroke-width=\"0.0216\" points=\"1.0,1.0 1.0,0.0\" opacity=\"0.8\" /><polyline fill=\"none\" stroke=\"#66cc99\" stroke-width=\"0.0216\" points=\"1.0,0.0 0.0,0.0\" opacity=\"0.8\" /></g></g></svg>"
      ],
      "text/plain": [
       "<MULTILINESTRING ((0 0, 1 1), (0 0, 0 1), (0 1, 1 1), (1 1, 1 0), (1 0, 0 0))>"
      ]
     },
     "execution_count": 2,
     "metadata": {},
     "output_type": "execute_result"
    }
   ],
   "source": [
    "from shapely.ops import polygonize\n",
    "\n",
    "coords = [((0, 0), (1, 1)),((0, 0), (0, 1)),((0, 1), (1, 1)),((1, 1), (1, 0)),((1, 0), (0, 0))]\n",
    "lines = MultiLineString(coords)\n",
    "lines"
   ]
  },
  {
   "cell_type": "code",
   "execution_count": 3,
   "id": "472c8a84",
   "metadata": {},
   "outputs": [
    {
     "data": {
      "text/plain": [
       "[<POLYGON ((0 0, 1 1, 1 0, 0 0))>, <POLYGON ((1 1, 0 0, 0 1, 1 1))>]"
      ]
     },
     "execution_count": 3,
     "metadata": {},
     "output_type": "execute_result"
    }
   ],
   "source": [
    "# 将相邻接的线合并成复合多边形\n",
    "list(polygonize(lines))"
   ]
  },
  {
   "cell_type": "code",
   "execution_count": 4,
   "id": "15f21a5a",
   "metadata": {},
   "outputs": [
    {
     "data": {
      "text/plain": [
       "[<POLYGON ((0 0, 1 1, 1 0, 0 0))>, <POLYGON ((1 1, 0 0, 0 1, 1 1))>]"
      ]
     },
     "execution_count": 4,
     "metadata": {},
     "output_type": "execute_result"
    }
   ],
   "source": [
    "list(polygonize(coords))"
   ]
  },
  {
   "cell_type": "code",
   "execution_count": 5,
   "id": "143a080e",
   "metadata": {},
   "outputs": [
    {
     "data": {
      "text/plain": [
       "<AxesSubplot:>"
      ]
     },
     "execution_count": 5,
     "metadata": {},
     "output_type": "execute_result"
    },
    {
     "data": {
      "image/png": "[encoded data removed]",
      "text/plain": [
       "<Figure size 500x500 with 1 Axes>"
      ]
     },
     "metadata": {},
     "output_type": "display_data"
    }
   ],
   "source": [
    "import geopandas as gpd\n",
    "import matplotlib.pyplot as plt\n",
    "\n",
    "f,ax = plt.subplots(figsize=(5,5))\n",
    "\n",
    "gpd.GeoDataFrame([lines] , columns=[\"geometry\"]).plot(ax=ax , edgecolor=\"k\")\n",
    "gpd.GeoDataFrame([polygonize(lines)[0]] , columns=[\"geometry\"]).plot(ax=ax , facecolor=\"red\" , alpha=0.3)\n",
    "gpd.GeoDataFrame([polygonize(lines)[1]] , columns=[\"geometry\"]).plot(ax=ax , facecolor=\"green\" , alpha=0.3)"
   ]
  },
  {
   "cell_type": "code",
   "execution_count": null,
   "id": "8cd64337",
   "metadata": {},
   "outputs": [],
   "source": []
  },
  {
   "cell_type": "markdown",
   "id": "3b369a8a",
   "metadata": {},
   "source": [
    "# shapely.ops.polygonize_full(lines)"
   ]
  },
  {
   "cell_type": "markdown",
   "id": "0b0d4673",
   "metadata": {},
   "source": [
    "### 从线的源头创建多边形，返回多边形和剩余的几何对象"
   ]
  },
  {
   "cell_type": "markdown",
   "id": "84dd185d",
   "metadata": {},
   "source": [
    "### 示例1："
   ]
  },
  {
   "cell_type": "code",
   "execution_count": 6,
   "id": "a2d277e9",
   "metadata": {},
   "outputs": [
    {
     "data": {
      "image/svg+xml": [
       "<svg xmlns=\"http://www.w3.org/2000/svg\" xmlns:xlink=\"http://www.w3.org/1999/xlink\" width=\"100.0\" height=\"100.0\" viewBox=\"-0.04 -0.04 1.08 1.08\" preserveAspectRatio=\"xMinYMin meet\"><g transform=\"matrix(1,0,0,-1,0,1.0)\"><g><polyline fill=\"none\" stroke=\"#66cc99\" stroke-width=\"0.0216\" points=\"0.0,0.0 1.0,1.0\" opacity=\"0.8\" /><polyline fill=\"none\" stroke=\"#66cc99\" stroke-width=\"0.0216\" points=\"0.0,0.0 0.0,1.0\" opacity=\"0.8\" /><polyline fill=\"none\" stroke=\"#66cc99\" stroke-width=\"0.0216\" points=\"0.0,1.0 1.0,1.0\" opacity=\"0.8\" /><polyline fill=\"none\" stroke=\"#66cc99\" stroke-width=\"0.0216\" points=\"1.0,1.0 1.0,0.0\" opacity=\"0.8\" /><polyline fill=\"none\" stroke=\"#66cc99\" stroke-width=\"0.0216\" points=\"1.0,0.0 0.0,0.0\" opacity=\"0.8\" /></g></g></svg>"
      ],
      "text/plain": [
       "<MULTILINESTRING ((0 0, 1 1), (0 0, 0 1), (0 1, 1 1), (1 1, 1 0), (1 0, 0 0))>"
      ]
     },
     "execution_count": 6,
     "metadata": {},
     "output_type": "execute_result"
    }
   ],
   "source": [
    "from shapely.ops import polygonize_full\n",
    "\n",
    "coords = [((0, 0), (1, 1)),((0, 0), (0, 1)),((0, 1), (1, 1)),((1, 1), (1, 0)),((1, 0), (0, 0))]\n",
    "lines = MultiLineString(coords)\n",
    "lines"
   ]
  },
  {
   "cell_type": "code",
   "execution_count": 7,
   "id": "878bb509",
   "metadata": {},
   "outputs": [],
   "source": [
    "result, cuts, dangles, invalids = polygonize_full(lines)"
   ]
  },
  {
   "cell_type": "code",
   "execution_count": 8,
   "id": "be39f924",
   "metadata": {},
   "outputs": [
    {
     "data": {
      "text/plain": [
       "2"
      ]
     },
     "execution_count": 8,
     "metadata": {},
     "output_type": "execute_result"
    }
   ],
   "source": [
    "len(result.geoms)"
   ]
  },
  {
   "cell_type": "code",
   "execution_count": 9,
   "id": "4e2443ca",
   "metadata": {},
   "outputs": [
    {
     "data": {
      "text/plain": [
       "[<POLYGON ((0 0, 1 1, 1 0, 0 0))>, <POLYGON ((1 1, 0 0, 0 1, 1 1))>]"
      ]
     },
     "execution_count": 9,
     "metadata": {},
     "output_type": "execute_result"
    }
   ],
   "source": [
    "list(result.geoms)"
   ]
  },
  {
   "cell_type": "code",
   "execution_count": 10,
   "id": "63b27ebf",
   "metadata": {},
   "outputs": [
    {
     "data": {
      "text/plain": [
       "[]"
      ]
     },
     "execution_count": 10,
     "metadata": {},
     "output_type": "execute_result"
    }
   ],
   "source": [
    "list(cuts.geoms)"
   ]
  },
  {
   "cell_type": "code",
   "execution_count": 11,
   "id": "6ce346e1",
   "metadata": {},
   "outputs": [
    {
     "data": {
      "text/plain": [
       "[]"
      ]
     },
     "execution_count": 11,
     "metadata": {},
     "output_type": "execute_result"
    }
   ],
   "source": [
    "list(dangles.geoms)"
   ]
  },
  {
   "cell_type": "code",
   "execution_count": 12,
   "id": "161692c1",
   "metadata": {},
   "outputs": [
    {
     "data": {
      "text/plain": [
       "[]"
      ]
     },
     "execution_count": 12,
     "metadata": {},
     "output_type": "execute_result"
    }
   ],
   "source": [
    "list(invalids.geoms)"
   ]
  },
  {
   "cell_type": "markdown",
   "id": "4b26da63",
   "metadata": {},
   "source": [
    "### 示例2："
   ]
  },
  {
   "cell_type": "code",
   "execution_count": 13,
   "id": "9e6b7bba",
   "metadata": {},
   "outputs": [
    {
     "data": {
      "image/svg+xml": [
       "<svg xmlns=\"http://www.w3.org/2000/svg\" xmlns:xlink=\"http://www.w3.org/1999/xlink\" width=\"100.0\" height=\"100.0\" viewBox=\"-0.24 -0.24 6.48 6.48\" preserveAspectRatio=\"xMinYMin meet\"><g transform=\"matrix(1,0,0,-1,0,6.0)\"><g><polyline fill=\"none\" stroke=\"#66cc99\" stroke-width=\"0.12960000000000002\" points=\"0.0,0.0 1.0,1.0\" opacity=\"0.8\" /><polyline fill=\"none\" stroke=\"#66cc99\" stroke-width=\"0.12960000000000002\" points=\"0.0,0.0 0.0,1.0\" opacity=\"0.8\" /><polyline fill=\"none\" stroke=\"#66cc99\" stroke-width=\"0.12960000000000002\" points=\"0.0,1.0 1.0,1.0\" opacity=\"0.8\" /><polyline fill=\"none\" stroke=\"#66cc99\" stroke-width=\"0.12960000000000002\" points=\"1.0,1.0 1.0,0.0\" opacity=\"0.8\" /><polyline fill=\"none\" stroke=\"#66cc99\" stroke-width=\"0.12960000000000002\" points=\"1.0,0.0 0.0,0.0\" opacity=\"0.8\" /><polyline fill=\"none\" stroke=\"#66cc99\" stroke-width=\"0.12960000000000002\" points=\"3.0,3.0 4.0,4.0\" opacity=\"0.8\" /><polyline fill=\"none\" stroke=\"#66cc99\" stroke-width=\"0.12960000000000002\" points=\"1.0,1.0 6.0,6.0\" opacity=\"0.8\" /></g></g></svg>"
      ],
      "text/plain": [
       "<MULTILINESTRING ((0 0, 1 1), (0 0, 0 1), (0 1, 1 1), (1 1, 1 0), (1 0, 0 0)...>"
      ]
     },
     "execution_count": 13,
     "metadata": {},
     "output_type": "execute_result"
    }
   ],
   "source": [
    "coords2= [((0, 0), (1, 1)),\n",
    "        ((0, 0), (0, 1)),\n",
    "        ((0, 1), (1, 1)),\n",
    "        ((1, 1), (1, 0)),\n",
    "        ((1, 0), (0, 0)),\n",
    "        ((3, 3), (4, 4)),\n",
    "        ((1, 1), (6, 6)),]\n",
    "\n",
    "lines2 = MultiLineString(coords2)\n",
    "lines2"
   ]
  },
  {
   "cell_type": "code",
   "execution_count": 14,
   "id": "63b22544",
   "metadata": {},
   "outputs": [],
   "source": [
    "result, cuts, dangles, invalids = polygonize_full(lines2)"
   ]
  },
  {
   "cell_type": "code",
   "execution_count": 15,
   "id": "52ac297a",
   "metadata": {},
   "outputs": [
    {
     "data": {
      "text/plain": [
       "[<POLYGON ((0 0, 1 1, 1 0, 0 0))>, <POLYGON ((1 1, 0 0, 0 1, 1 1))>]"
      ]
     },
     "execution_count": 15,
     "metadata": {},
     "output_type": "execute_result"
    }
   ],
   "source": [
    "list(result.geoms)"
   ]
  },
  {
   "cell_type": "code",
   "execution_count": 16,
   "id": "caddf4b9",
   "metadata": {},
   "outputs": [
    {
     "data": {
      "text/plain": [
       "[]"
      ]
     },
     "execution_count": 16,
     "metadata": {},
     "output_type": "execute_result"
    }
   ],
   "source": [
    "list(cuts.geoms)"
   ]
  },
  {
   "cell_type": "code",
   "execution_count": 17,
   "id": "6efedb57",
   "metadata": {},
   "outputs": [
    {
     "data": {
      "text/plain": [
       "[<LINESTRING (1 1, 6 6)>, <LINESTRING (3 3, 4 4)>]"
      ]
     },
     "execution_count": 17,
     "metadata": {},
     "output_type": "execute_result"
    }
   ],
   "source": [
    "list(dangles.geoms)"
   ]
  },
  {
   "cell_type": "code",
   "execution_count": 18,
   "id": "47993e16",
   "metadata": {},
   "outputs": [
    {
     "data": {
      "text/plain": [
       "[]"
      ]
     },
     "execution_count": 18,
     "metadata": {},
     "output_type": "execute_result"
    }
   ],
   "source": [
    "list(invalids.geoms)"
   ]
  },
  {
   "cell_type": "code",
   "execution_count": 19,
   "id": "5d10c953",
   "metadata": {},
   "outputs": [
    {
     "data": {
      "text/plain": [
       "<AxesSubplot:>"
      ]
     },
     "execution_count": 19,
     "metadata": {},
     "output_type": "execute_result"
    },
    {
     "data": {
      "image/png": "[encoded data removed]",
      "text/plain": [
       "<Figure size 500x500 with 1 Axes>"
      ]
     },
     "metadata": {},
     "output_type": "display_data"
    }
   ],
   "source": [
    "import geopandas as gpd\n",
    "import matplotlib.pyplot as plt\n",
    "\n",
    "f,ax = plt.subplots(figsize=(5,5))\n",
    "\n",
    "gpd.GeoDataFrame([lines2] , columns=[\"geometry\"]).plot(ax=ax , edgecolor=\"k\")\n",
    "gpd.GeoDataFrame([result.geoms[0]] , columns=[\"geometry\"]).plot(ax=ax , facecolor=\"red\" , alpha=0.3)\n",
    "gpd.GeoDataFrame([result.geoms[1]] , columns=[\"geometry\"]).plot(ax=ax ,  alpha=0.3)\n",
    "gpd.GeoDataFrame([dangles.geoms[0]] , columns=[\"geometry\"]).plot(ax=ax , edgecolor=\"green\" , linewidth = 5)\n",
    "gpd.GeoDataFrame([dangles.geoms[1]] , columns=[\"geometry\"]).plot(ax=ax , edgecolor=\"yellow\" , linewidth = 3)"
   ]
  },
  {
   "cell_type": "code",
   "execution_count": null,
   "id": "49d41cda",
   "metadata": {},
   "outputs": [],
   "source": []
  },
  {
   "cell_type": "markdown",
   "id": "7261f214",
   "metadata": {},
   "source": [
    "# shapely.ops.linemerge(lines)"
   ]
  },
  {
   "cell_type": "markdown",
   "id": "eed73b02",
   "metadata": {},
   "source": [
    "### 返回一个LineString或MultiLineString，代表所有相邻的线要素的合并。"
   ]
  },
  {
   "cell_type": "code",
   "execution_count": 20,
   "id": "e4db7286",
   "metadata": {},
   "outputs": [
    {
     "data": {
      "image/svg+xml": [
       "<svg xmlns=\"http://www.w3.org/2000/svg\" xmlns:xlink=\"http://www.w3.org/1999/xlink\" width=\"100.0\" height=\"100.0\" viewBox=\"-0.04 -0.04 1.08 1.08\" preserveAspectRatio=\"xMinYMin meet\"><g transform=\"matrix(1,0,0,-1,0,1.0)\"><g><polyline fill=\"none\" stroke=\"#66cc99\" stroke-width=\"0.0216\" points=\"0.0,0.0 1.0,1.0\" opacity=\"0.8\" /><polyline fill=\"none\" stroke=\"#66cc99\" stroke-width=\"0.0216\" points=\"0.0,0.0 0.0,1.0\" opacity=\"0.8\" /><polyline fill=\"none\" stroke=\"#66cc99\" stroke-width=\"0.0216\" points=\"0.0,1.0 1.0,1.0\" opacity=\"0.8\" /><polyline fill=\"none\" stroke=\"#66cc99\" stroke-width=\"0.0216\" points=\"1.0,1.0 1.0,0.0\" opacity=\"0.8\" /><polyline fill=\"none\" stroke=\"#66cc99\" stroke-width=\"0.0216\" points=\"1.0,0.0 0.0,0.0\" opacity=\"0.8\" /></g></g></svg>"
      ],
      "text/plain": [
       "<MULTILINESTRING ((0 0, 1 1), (0 0, 0 1), (0 1, 1 1), (1 1, 1 0), (1 0, 0 0))>"
      ]
     },
     "execution_count": 20,
     "metadata": {},
     "output_type": "execute_result"
    }
   ],
   "source": [
    "from shapely.ops import linemerge\n",
    "\n",
    "lines"
   ]
  },
  {
   "cell_type": "code",
   "execution_count": 21,
   "id": "686d211c",
   "metadata": {},
   "outputs": [
    {
     "data": {
      "text/plain": [
       "5"
      ]
     },
     "execution_count": 21,
     "metadata": {},
     "output_type": "execute_result"
    }
   ],
   "source": [
    "len(lines.geoms)"
   ]
  },
  {
   "cell_type": "code",
   "execution_count": 22,
   "id": "2e38db2f",
   "metadata": {},
   "outputs": [
    {
     "data": {
      "image/svg+xml": [
       "<svg xmlns=\"http://www.w3.org/2000/svg\" xmlns:xlink=\"http://www.w3.org/1999/xlink\" width=\"100.0\" height=\"100.0\" viewBox=\"-0.04 -0.04 1.08 1.08\" preserveAspectRatio=\"xMinYMin meet\"><g transform=\"matrix(1,0,0,-1,0,1.0)\"><g><polyline fill=\"none\" stroke=\"#66cc99\" stroke-width=\"0.0216\" points=\"1.0,1.0 1.0,0.0 0.0,0.0\" opacity=\"0.8\" /><polyline fill=\"none\" stroke=\"#66cc99\" stroke-width=\"0.0216\" points=\"0.0,0.0 1.0,1.0\" opacity=\"0.8\" /><polyline fill=\"none\" stroke=\"#66cc99\" stroke-width=\"0.0216\" points=\"0.0,0.0 0.0,1.0 1.0,1.0\" opacity=\"0.8\" /></g></g></svg>"
      ],
      "text/plain": [
       "<MULTILINESTRING ((1 1, 1 0, 0 0), (0 0, 1 1), (0 0, 0 1, 1 1))>"
      ]
     },
     "execution_count": 22,
     "metadata": {},
     "output_type": "execute_result"
    }
   ],
   "source": [
    "linemerge(lines)"
   ]
  },
  {
   "cell_type": "code",
   "execution_count": 23,
   "id": "10b670fb",
   "metadata": {},
   "outputs": [
    {
     "data": {
      "text/plain": [
       "3"
      ]
     },
     "execution_count": 23,
     "metadata": {},
     "output_type": "execute_result"
    }
   ],
   "source": [
    "len(linemerge(lines).geoms)"
   ]
  },
  {
   "cell_type": "code",
   "execution_count": 24,
   "id": "85a1bf1d",
   "metadata": {},
   "outputs": [
    {
     "data": {
      "text/plain": [
       "[<LINESTRING (1 1, 1 0, 0 0)>,\n",
       " <LINESTRING (0 0, 1 1)>,\n",
       " <LINESTRING (0 0, 0 1, 1 1)>]"
      ]
     },
     "execution_count": 24,
     "metadata": {},
     "output_type": "execute_result"
    }
   ],
   "source": [
    "list(linemerge(lines).geoms)"
   ]
  },
  {
   "cell_type": "code",
   "execution_count": 25,
   "id": "7b7655a6",
   "metadata": {
    "scrolled": false
   },
   "outputs": [
    {
     "data": {
      "text/plain": [
       "<AxesSubplot:>"
      ]
     },
     "execution_count": 25,
     "metadata": {},
     "output_type": "execute_result"
    },
    {
     "data": {
      "image/png": "[encoded data removed]",
      "text/plain": [
       "<Figure size 500x500 with 1 Axes>"
      ]
     },
     "metadata": {},
     "output_type": "display_data"
    }
   ],
   "source": [
    "import geopandas as gpd\n",
    "import matplotlib.pyplot as plt\n",
    "\n",
    "f,ax = plt.subplots(figsize=(5,5))\n",
    "\n",
    "gpd.GeoDataFrame([lines] , columns=[\"geometry\"]).plot(ax=ax , edgecolor=\"k\" ,alpha=0.3 ,  linewidth = 10)\n",
    "\n",
    "gpd.GeoDataFrame([linemerge(lines).geoms[0]] , columns=[\"geometry\"]).plot(ax=ax , edgecolor=\"red\" , linewidth = 3)\n",
    "gpd.GeoDataFrame([linemerge(lines).geoms[1]] , columns=[\"geometry\"]).plot(ax=ax , edgecolor=\"blue\" , linewidth = 3)\n",
    "gpd.GeoDataFrame([linemerge(lines).geoms[2]] , columns=[\"geometry\"]).plot(ax=ax , edgecolor=\"green\" , linewidth = 3)"
   ]
  },
  {
   "cell_type": "code",
   "execution_count": null,
   "id": "c7108a55",
   "metadata": {},
   "outputs": [],
   "source": []
  },
  {
   "cell_type": "code",
   "execution_count": null,
   "id": "c461edfb",
   "metadata": {},
   "outputs": [],
   "source": []
  },
  {
   "cell_type": "code",
   "execution_count": null,
   "id": "f9fddbb5",
   "metadata": {},
   "outputs": [],
   "source": []
  },
  {
   "cell_type": "code",
   "execution_count": null,
   "id": "672a738a",
   "metadata": {},
   "outputs": [],
   "source": []
  },
  {
   "cell_type": "code",
   "execution_count": null,
   "id": "391f3100",
   "metadata": {},
   "outputs": [],
   "source": []
  },
  {
   "cell_type": "code",
   "execution_count": null,
   "id": "d86568a2",
   "metadata": {},
   "outputs": [],
   "source": []
  },
  {
   "cell_type": "code",
   "execution_count": null,
   "id": "7750de82",
   "metadata": {},
   "outputs": [],
   "source": []
  },
  {
   "cell_type": "code",
   "execution_count": null,
   "id": "19749271",
   "metadata": {},
   "outputs": [],
   "source": []
  },
  {
   "cell_type": "code",
   "execution_count": null,
   "id": "b77c8af0",
   "metadata": {},
   "outputs": [],
   "source": []
  },
  {
   "cell_type": "code",
   "execution_count": null,
   "id": "d090d016",
   "metadata": {},
   "outputs": [],
   "source": []
  }
 ],
 "metadata": {
  "kernelspec": {
   "display_name": "Python 3 (ipykernel)",
   "language": "python",
   "name": "python3"
  },
  "language_info": {
   "codemirror_mode": {
    "name": "ipython",
    "version": 3
   },
   "file_extension": ".py",
   "mimetype": "text/x-python",
   "name": "python",
   "nbconvert_exporter": "python",
   "pygments_lexer": "ipython3",
   "version": "3.9.16"
  }
 },
 "nbformat": 4,
 "nbformat_minor": 5
}
