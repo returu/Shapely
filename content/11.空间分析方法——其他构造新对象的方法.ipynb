{
 "cells": [
  {
   "cell_type": "code",
   "execution_count": 1,
   "id": "5713cdb4",
   "metadata": {},
   "outputs": [],
   "source": [
    "from shapely import Point , LineString , LinearRing , Polygon , MultiPoint , MultiLineString , MultiPolygon"
   ]
  },
  {
   "cell_type": "markdown",
   "id": "a7ed5090",
   "metadata": {},
   "source": [
    "# object.convex_hull"
   ]
  },
  {
   "cell_type": "markdown",
   "id": "d2558ab3",
   "metadata": {},
   "source": [
    "### 返回包含对象中所有点的最小凸包，除非对象中点的数量少于3。对于两个点，凸面体退化为LineString；对于1个点，为Point。"
   ]
  },
  {
   "cell_type": "code",
   "execution_count": 2,
   "id": "dff71984",
   "metadata": {},
   "outputs": [
    {
     "data": {
      "image/svg+xml": [
       "<svg xmlns=\"http://www.w3.org/2000/svg\" xmlns:xlink=\"http://www.w3.org/1999/xlink\" width=\"100.0\" height=\"100.0\" viewBox=\"-1.0 -1.0 2.0 2.0\" preserveAspectRatio=\"xMinYMin meet\"><g transform=\"matrix(1,0,0,-1,0,0.0)\"><circle cx=\"0.0\" cy=\"0.0\" r=\"0.06\" stroke=\"#555555\" stroke-width=\"0.02\" fill=\"#66cc99\" opacity=\"0.6\" /></g></svg>"
      ],
      "text/plain": [
       "<POINT (0 0)>"
      ]
     },
     "execution_count": 2,
     "metadata": {},
     "output_type": "execute_result"
    }
   ],
   "source": [
    "# 单点\n",
    "Point(0,0).convex_hull"
   ]
  },
  {
   "cell_type": "code",
   "execution_count": 3,
   "id": "3ca1387d",
   "metadata": {},
   "outputs": [
    {
     "data": {
      "image/svg+xml": [
       "<svg xmlns=\"http://www.w3.org/2000/svg\" xmlns:xlink=\"http://www.w3.org/1999/xlink\" width=\"100.0\" height=\"100.0\" viewBox=\"-0.08 -0.08 2.16 2.16\" preserveAspectRatio=\"xMinYMin meet\"><g transform=\"matrix(1,0,0,-1,0,2.0)\"><g><circle cx=\"0.0\" cy=\"0.0\" r=\"0.0648\" stroke=\"#555555\" stroke-width=\"0.0216\" fill=\"#66cc99\" opacity=\"0.6\" /><circle cx=\"2.0\" cy=\"2.0\" r=\"0.0648\" stroke=\"#555555\" stroke-width=\"0.0216\" fill=\"#66cc99\" opacity=\"0.6\" /></g></g></svg>"
      ],
      "text/plain": [
       "<MULTIPOINT (0 0, 2 2)>"
      ]
     },
     "execution_count": 3,
     "metadata": {},
     "output_type": "execute_result"
    }
   ],
   "source": [
    "# 两个点\n",
    "points1 = MultiPoint([(0,0) , (2,2)])\n",
    "points1"
   ]
  },
  {
   "cell_type": "code",
   "execution_count": 4,
   "id": "8382715d",
   "metadata": {},
   "outputs": [
    {
     "data": {
      "image/svg+xml": [
       "<svg xmlns=\"http://www.w3.org/2000/svg\" xmlns:xlink=\"http://www.w3.org/1999/xlink\" width=\"100.0\" height=\"100.0\" viewBox=\"-0.08 -0.08 2.16 2.16\" preserveAspectRatio=\"xMinYMin meet\"><g transform=\"matrix(1,0,0,-1,0,2.0)\"><polyline fill=\"none\" stroke=\"#66cc99\" stroke-width=\"0.0432\" points=\"0.0,0.0 2.0,2.0\" opacity=\"0.8\" /></g></svg>"
      ],
      "text/plain": [
       "<LINESTRING (0 0, 2 2)>"
      ]
     },
     "execution_count": 4,
     "metadata": {},
     "output_type": "execute_result"
    }
   ],
   "source": [
    "res1 = points1.convex_hull\n",
    "res1"
   ]
  },
  {
   "cell_type": "code",
   "execution_count": 5,
   "id": "e76f4770",
   "metadata": {},
   "outputs": [
    {
     "data": {
      "image/svg+xml": [
       "<svg xmlns=\"http://www.w3.org/2000/svg\" xmlns:xlink=\"http://www.w3.org/1999/xlink\" width=\"100.0\" height=\"100.0\" viewBox=\"-0.12 -0.12 3.24 2.24\" preserveAspectRatio=\"xMinYMin meet\"><g transform=\"matrix(1,0,0,-1,0,2.0)\"><g><circle cx=\"0.0\" cy=\"0.0\" r=\"0.09720000000000001\" stroke=\"#555555\" stroke-width=\"0.032400000000000005\" fill=\"#66cc99\" opacity=\"0.6\" /><circle cx=\"0.0\" cy=\"2.0\" r=\"0.09720000000000001\" stroke=\"#555555\" stroke-width=\"0.032400000000000005\" fill=\"#66cc99\" opacity=\"0.6\" /><circle cx=\"2.0\" cy=\"2.0\" r=\"0.09720000000000001\" stroke=\"#555555\" stroke-width=\"0.032400000000000005\" fill=\"#66cc99\" opacity=\"0.6\" /><circle cx=\"3.0\" cy=\"1.0\" r=\"0.09720000000000001\" stroke=\"#555555\" stroke-width=\"0.032400000000000005\" fill=\"#66cc99\" opacity=\"0.6\" /><circle cx=\"1.0\" cy=\"0.0\" r=\"0.09720000000000001\" stroke=\"#555555\" stroke-width=\"0.032400000000000005\" fill=\"#66cc99\" opacity=\"0.6\" /><circle cx=\"1.0\" cy=\"1.0\" r=\"0.09720000000000001\" stroke=\"#555555\" stroke-width=\"0.032400000000000005\" fill=\"#66cc99\" opacity=\"0.6\" /></g></g></svg>"
      ],
      "text/plain": [
       "<MULTIPOINT (0 0, 0 2, 2 2, 3 1, 1 0, 1 1)>"
      ]
     },
     "execution_count": 5,
     "metadata": {},
     "output_type": "execute_result"
    }
   ],
   "source": [
    "# 多点\n",
    "points2 = MultiPoint([(0,0) , (0,2) , (2,2) , (3,1) , (1,0) , (1,1)])\n",
    "points2"
   ]
  },
  {
   "cell_type": "code",
   "execution_count": 6,
   "id": "b6d0baf0",
   "metadata": {},
   "outputs": [
    {
     "data": {
      "image/svg+xml": [
       "<svg xmlns=\"http://www.w3.org/2000/svg\" xmlns:xlink=\"http://www.w3.org/1999/xlink\" width=\"100.0\" height=\"100.0\" viewBox=\"-0.12 -0.12 3.24 2.24\" preserveAspectRatio=\"xMinYMin meet\"><g transform=\"matrix(1,0,0,-1,0,2.0)\"><path fill-rule=\"evenodd\" fill=\"#66cc99\" stroke=\"#555555\" stroke-width=\"0.06480000000000001\" opacity=\"0.6\" d=\"M 0.0,0.0 L 0.0,2.0 L 2.0,2.0 L 3.0,1.0 L 1.0,0.0 L 0.0,0.0 z\" /></g></svg>"
      ],
      "text/plain": [
       "<POLYGON ((0 0, 0 2, 2 2, 3 1, 1 0, 0 0))>"
      ]
     },
     "execution_count": 6,
     "metadata": {},
     "output_type": "execute_result"
    }
   ],
   "source": [
    "res2 = points2.convex_hull\n",
    "res2"
   ]
  },
  {
   "cell_type": "code",
   "execution_count": 7,
   "id": "4b7740b7",
   "metadata": {},
   "outputs": [
    {
     "data": {
      "text/plain": [
       "Text(0.5, 1.0, 'b) N > 2')"
      ]
     },
     "execution_count": 7,
     "metadata": {},
     "output_type": "execute_result"
    },
    {
     "data": {
      "image/png": "[encoded data removed]",
      "text/plain": [
       "<Figure size 500x500 with 2 Axes>"
      ]
     },
     "metadata": {},
     "output_type": "display_data"
    }
   ],
   "source": [
    "import geopandas as gpd\n",
    "import matplotlib.pyplot as plt\n",
    "\n",
    "f , ax = plt.subplots(nrows=1,ncols=2,figsize=(5,5))\n",
    "\n",
    "gpd.GeoDataFrame([points1] , columns=[\"geometry\"]).plot(ax=ax[0] , facecolor=\"k\",markersize=20)\n",
    "gpd.GeoDataFrame([res1] , columns=[\"geometry\"]).plot(ax=ax[0] , alpha=0.3)\n",
    "ax[0].set_xlim(-1,4)\n",
    "ax[0].set_ylim(-1,3)\n",
    "ax[0].set_title('a) N = 2')\n",
    "\n",
    "gpd.GeoDataFrame([points2] , columns=[\"geometry\"]).plot(ax=ax[1] , facecolor=\"k\",markersize=20)\n",
    "gpd.GeoDataFrame([res2] , columns=[\"geometry\"]).plot(ax=ax[1] , alpha=0.3)\n",
    "ax[1].set_xlim(-1,4)\n",
    "ax[1].set_ylim(-1,3)\n",
    "ax[1].set_title('b) N > 2')"
   ]
  },
  {
   "cell_type": "markdown",
   "id": "b1100f35",
   "metadata": {},
   "source": [
    "# object.envelope"
   ]
  },
  {
   "cell_type": "markdown",
   "id": "a671f34e",
   "metadata": {},
   "source": [
    "### 返回包含该对象的点或最小的外包矩形（边与坐标轴平行）。"
   ]
  },
  {
   "cell_type": "code",
   "execution_count": 8,
   "id": "01d379ef",
   "metadata": {},
   "outputs": [
    {
     "data": {
      "image/svg+xml": [
       "<svg xmlns=\"http://www.w3.org/2000/svg\" xmlns:xlink=\"http://www.w3.org/1999/xlink\" width=\"100.0\" height=\"100.0\" viewBox=\"-1.0 -1.0 2.0 2.0\" preserveAspectRatio=\"xMinYMin meet\"><g transform=\"matrix(1,0,0,-1,0,0.0)\"><circle cx=\"0.0\" cy=\"0.0\" r=\"0.06\" stroke=\"#555555\" stroke-width=\"0.02\" fill=\"#66cc99\" opacity=\"0.6\" /></g></svg>"
      ],
      "text/plain": [
       "<POINT (0 0)>"
      ]
     },
     "execution_count": 8,
     "metadata": {},
     "output_type": "execute_result"
    }
   ],
   "source": [
    "# 单点\n",
    "Point(0,0).envelope"
   ]
  },
  {
   "cell_type": "code",
   "execution_count": 9,
   "id": "327ff735",
   "metadata": {},
   "outputs": [
    {
     "data": {
      "image/svg+xml": [
       "<svg xmlns=\"http://www.w3.org/2000/svg\" xmlns:xlink=\"http://www.w3.org/1999/xlink\" width=\"100.0\" height=\"100.0\" viewBox=\"-0.08 -0.08 2.16 2.16\" preserveAspectRatio=\"xMinYMin meet\"><g transform=\"matrix(1,0,0,-1,0,2.0)\"><path fill-rule=\"evenodd\" fill=\"#66cc99\" stroke=\"#555555\" stroke-width=\"0.0432\" opacity=\"0.6\" d=\"M 0.0,0.0 L 2.0,0.0 L 2.0,2.0 L 0.0,2.0 L 0.0,0.0 z\" /></g></svg>"
      ],
      "text/plain": [
       "<POLYGON ((0 0, 2 0, 2 2, 0 2, 0 0))>"
      ]
     },
     "execution_count": 9,
     "metadata": {},
     "output_type": "execute_result"
    }
   ],
   "source": [
    "# 两个点\n",
    "points1 = MultiPoint([(0, 0), (2, 2)])\n",
    "res1 = points1.envelope\n",
    "res1"
   ]
  },
  {
   "cell_type": "code",
   "execution_count": 10,
   "id": "65de2d77",
   "metadata": {},
   "outputs": [
    {
     "data": {
      "image/svg+xml": [
       "<svg xmlns=\"http://www.w3.org/2000/svg\" xmlns:xlink=\"http://www.w3.org/1999/xlink\" width=\"100.0\" height=\"100.0\" viewBox=\"-0.12 -0.12 3.24 2.24\" preserveAspectRatio=\"xMinYMin meet\"><g transform=\"matrix(1,0,0,-1,0,2.0)\"><path fill-rule=\"evenodd\" fill=\"#66cc99\" stroke=\"#555555\" stroke-width=\"0.06480000000000001\" opacity=\"0.6\" d=\"M 0.0,0.0 L 3.0,0.0 L 3.0,2.0 L 0.0,2.0 L 0.0,0.0 z\" /></g></svg>"
      ],
      "text/plain": [
       "<POLYGON ((0 0, 3 0, 3 2, 0 2, 0 0))>"
      ]
     },
     "execution_count": 10,
     "metadata": {},
     "output_type": "execute_result"
    }
   ],
   "source": [
    "# 多点\n",
    "points2 = MultiPoint([(0,0) , (0,2) , (2,2) , (3,1) , (1,0) , (1,1)])\n",
    "res2 = points2.envelope\n",
    "res2"
   ]
  },
  {
   "cell_type": "code",
   "execution_count": 11,
   "id": "ade72a4d",
   "metadata": {},
   "outputs": [
    {
     "data": {
      "text/plain": [
       "Text(0.5, 1.0, 'b) N > 2')"
      ]
     },
     "execution_count": 11,
     "metadata": {},
     "output_type": "execute_result"
    },
    {
     "data": {
      "image/png": "[encoded data removed]",
      "text/plain": [
       "<Figure size 500x500 with 2 Axes>"
      ]
     },
     "metadata": {},
     "output_type": "display_data"
    }
   ],
   "source": [
    "import geopandas as gpd\n",
    "import matplotlib.pyplot as plt\n",
    "\n",
    "f , ax = plt.subplots(nrows=1,ncols=2,figsize=(5,5))\n",
    "\n",
    "gpd.GeoDataFrame([points1] , columns=[\"geometry\"]).plot(ax=ax[0] , facecolor=\"gray\",markersize=20)\n",
    "gpd.GeoDataFrame([res1] , columns=[\"geometry\"]).plot(ax=ax[0] ,  alpha=0.3)\n",
    "ax[0].set_xlim(-1,4)\n",
    "ax[0].set_ylim(-1,3)\n",
    "ax[0].set_title('a) N = 2')\n",
    "\n",
    "\n",
    "gpd.GeoDataFrame([points2] , columns=[\"geometry\"]).plot(ax=ax[1] , facecolor=\"gray\",markersize=20)\n",
    "gpd.GeoDataFrame([res2] , columns=[\"geometry\"]).plot(ax=ax[1] , alpha=0.3)\n",
    "ax[1].set_xlim(-1,4)\n",
    "ax[1].set_ylim(-1,3)\n",
    "ax[1].set_title('b) N > 2')"
   ]
  },
  {
   "cell_type": "markdown",
   "id": "4760ecf2",
   "metadata": {},
   "source": [
    "# object.minimum_rotated_rectangle"
   ]
  },
  {
   "cell_type": "markdown",
   "id": "ee7f787e",
   "metadata": {},
   "source": [
    "### 返回包含该对象的最小外接矩形。与envelope不同的是，这个矩形不需与坐标轴平行。如果对象的凸包是一个退化物（线或点），则返回该退化物（线或点）。"
   ]
  },
  {
   "cell_type": "code",
   "execution_count": 12,
   "id": "d2fe6e25",
   "metadata": {},
   "outputs": [
    {
     "data": {
      "image/svg+xml": [
       "<svg xmlns=\"http://www.w3.org/2000/svg\" xmlns:xlink=\"http://www.w3.org/1999/xlink\" width=\"100.0\" height=\"100.0\" viewBox=\"-1.0 -1.0 2.0 2.0\" preserveAspectRatio=\"xMinYMin meet\"><g transform=\"matrix(1,0,0,-1,0,0.0)\"><circle cx=\"0.0\" cy=\"0.0\" r=\"0.06\" stroke=\"#555555\" stroke-width=\"0.02\" fill=\"#66cc99\" opacity=\"0.6\" /></g></svg>"
      ],
      "text/plain": [
       "<POINT (0 0)>"
      ]
     },
     "execution_count": 12,
     "metadata": {},
     "output_type": "execute_result"
    }
   ],
   "source": [
    "# 单点\n",
    "Point(0,0).minimum_rotated_rectangle"
   ]
  },
  {
   "cell_type": "code",
   "execution_count": 13,
   "id": "4d4d381e",
   "metadata": {},
   "outputs": [
    {
     "data": {
      "image/svg+xml": [
       "<svg xmlns=\"http://www.w3.org/2000/svg\" xmlns:xlink=\"http://www.w3.org/1999/xlink\" width=\"100.0\" height=\"100.0\" viewBox=\"-0.08 -0.08 2.16 2.16\" preserveAspectRatio=\"xMinYMin meet\"><g transform=\"matrix(1,0,0,-1,0,2.0)\"><polyline fill=\"none\" stroke=\"#66cc99\" stroke-width=\"0.0432\" points=\"0.0,0.0 2.0,2.0\" opacity=\"0.8\" /></g></svg>"
      ],
      "text/plain": [
       "<LINESTRING (0 0, 2 2)>"
      ]
     },
     "execution_count": 13,
     "metadata": {},
     "output_type": "execute_result"
    }
   ],
   "source": [
    "# 两个点\n",
    "points1 = MultiPoint([(0, 0), (2, 2)])\n",
    "res1 = points1.minimum_rotated_rectangle\n",
    "res1"
   ]
  },
  {
   "cell_type": "code",
   "execution_count": 14,
   "id": "ec35c902",
   "metadata": {},
   "outputs": [
    {
     "data": {
      "image/svg+xml": [
       "<svg xmlns=\"http://www.w3.org/2000/svg\" xmlns:xlink=\"http://www.w3.org/1999/xlink\" width=\"100.0\" height=\"100.0\" viewBox=\"-0.536 -0.136 3.672 2.4719999999999995\" preserveAspectRatio=\"xMinYMin meet\"><g transform=\"matrix(1,0,0,-1,0,2.1999999999999993)\"><path fill-rule=\"evenodd\" fill=\"#66cc99\" stroke=\"#555555\" stroke-width=\"0.07344\" opacity=\"0.6\" d=\"M 3.0,1.0 L 2.5999999999999996,2.1999999999999993 L -0.39999999999999997,1.2 L 0.0,0.0 L 3.0,1.0 z\" /></g></svg>"
      ],
      "text/plain": [
       "<POLYGON ((3 1, 2.6 2.2, -0.4 1.2, 0 0, 3 1))>"
      ]
     },
     "execution_count": 14,
     "metadata": {},
     "output_type": "execute_result"
    }
   ],
   "source": [
    "# 多点\n",
    "points2 = MultiPoint([(0,0),(2,2),(3,1)])\n",
    "res2 = points2.minimum_rotated_rectangle\n",
    "res2"
   ]
  },
  {
   "cell_type": "code",
   "execution_count": 15,
   "id": "b68d7cad",
   "metadata": {},
   "outputs": [
    {
     "data": {
      "text/plain": [
       "Text(0.5, 1.0, 'b) N > 2')"
      ]
     },
     "execution_count": 15,
     "metadata": {},
     "output_type": "execute_result"
    },
    {
     "data": {
      "image/png": "[encoded data removed]",
      "text/plain": [
       "<Figure size 800x800 with 2 Axes>"
      ]
     },
     "metadata": {},
     "output_type": "display_data"
    }
   ],
   "source": [
    "import geopandas as gpd\n",
    "import matplotlib.pyplot as plt\n",
    "\n",
    "f , ax = plt.subplots(nrows=1,ncols=2,figsize=(8,8))\n",
    "\n",
    "gpd.GeoDataFrame([points1] , columns=[\"geometry\"]).plot(ax=ax[0] , facecolor=\"gray\",markersize=20)\n",
    "gpd.GeoDataFrame([res1] , columns=[\"geometry\"]).plot(ax=ax[0] ,  alpha=0.3)\n",
    "ax[0].set_xlim(-1,4)\n",
    "ax[0].set_ylim(-1,3)\n",
    "ax[0].set_title('a) N = 2')\n",
    "\n",
    "\n",
    "gpd.GeoDataFrame([points2] , columns=[\"geometry\"]).plot(ax=ax[1] , facecolor=\"gray\",markersize=20)\n",
    "gpd.GeoDataFrame([res2] , columns=[\"geometry\"]).plot(ax=ax[1] , alpha=0.3)\n",
    "ax[1].set_xlim(-1,4)\n",
    "ax[1].set_ylim(-1,3)\n",
    "ax[1].set_title('b) N > 2')"
   ]
  },
  {
   "cell_type": "code",
   "execution_count": null,
   "id": "0f5310e8",
   "metadata": {},
   "outputs": [],
   "source": []
  },
  {
   "cell_type": "markdown",
   "id": "6704a6ce",
   "metadata": {},
   "source": [
    "# object.offset_curve(distance, quad_segs=16, join_style=1, mitre_limit=5.0)"
   ]
  },
  {
   "cell_type": "markdown",
   "id": "69cb29e7",
   "metadata": {},
   "source": [
    "### 返回一个在其右边或左边与该对象有一定距离的LineString或MultiLineString几何对象。"
   ]
  },
  {
   "cell_type": "code",
   "execution_count": 16,
   "id": "3353af26",
   "metadata": {},
   "outputs": [
    {
     "data": {
      "image/svg+xml": [
       "<svg xmlns=\"http://www.w3.org/2000/svg\" xmlns:xlink=\"http://www.w3.org/1999/xlink\" width=\"100.0\" height=\"100.0\" viewBox=\"-0.12 -0.12 3.24 2.24\" preserveAspectRatio=\"xMinYMin meet\"><g transform=\"matrix(1,0,0,-1,0,2.0)\"><polyline fill=\"none\" stroke=\"#66cc99\" stroke-width=\"0.06480000000000001\" points=\"0.0,0.0 1.0,1.0 0.0,2.0 2.0,2.0 3.0,1.0 1.0,0.0\" opacity=\"0.8\" /></g></svg>"
      ],
      "text/plain": [
       "<LINESTRING (0 0, 1 1, 0 2, 2 2, 3 1, 1 0)>"
      ]
     },
     "execution_count": 16,
     "metadata": {},
     "output_type": "execute_result"
    }
   ],
   "source": [
    "line = LineString([(0,0) , (1,1) , (0,2) , (2,2) , (3,1) , (1,0)])\n",
    "line"
   ]
  },
  {
   "cell_type": "code",
   "execution_count": 17,
   "id": "25010e74",
   "metadata": {},
   "outputs": [
    {
     "data": {
      "image/svg+xml": [
       "<svg xmlns=\"http://www.w3.org/2000/svg\" xmlns:xlink=\"http://www.w3.org/1999/xlink\" width=\"100.0\" height=\"100.0\" viewBox=\"-0.6599986858544988 -0.6072122813544568 4.319964518071469 3.2672109672089555\" preserveAspectRatio=\"xMinYMin meet\"><g transform=\"matrix(1,0,0,-1,0,2.052786404500042)\"><polyline fill=\"none\" stroke=\"#66cc99\" stroke-width=\"0.08639929036142938\" points=\"-0.35355339059327373,0.35355339059327373 0.29289321881345254,1.0 -0.35355339059327373,1.6464466094067263 -0.38650522668136855,1.6828033579181774 -0.41573480615127273,1.722214883490199 -0.4409606321741775,1.7643016315870013 -0.4619397662556434,1.8086582838174552 -0.47847016786610447,1.854857661372769 -0.4903926402016152,1.9024548389919358 -0.49759236333609846,1.9509914298352198 -0.5,2.0 -0.4975923633360984,2.0490085701647804 -0.4903926402016152,2.0975451610080644 -0.4784701678661044,2.145142338627231 -0.46193976625564337,2.191341716182545 -0.44096063217417747,2.235698368412999 -0.4157348061512727,2.277785116509801 -0.3865052266813685,2.317196642081823 -0.35355339059327373,2.353553390593274 -0.3171966420818227,2.3865052266813684 -0.277785116509801,2.4157348061512725 -0.23569836841299885,2.4409606321741775 -0.19134171618254486,2.4619397662556435 -0.14514233862723108,2.4784701678661043 -0.09754516100806421,2.490392640201615 -0.04900857016478032,2.4975923633360986 0.0,2.5 2.0,2.5 2.0490085701647804,2.4975923633360986 2.097545161008064,2.490392640201615 2.145142338627231,2.4784701678661043 2.191341716182545,2.4619397662556435 2.235698368412999,2.4409606321741775 2.277785116509801,2.4157348061512725 2.317196642081823,2.3865052266813684 2.353553390593274,2.353553390593274 3.353553390593274,1.3535533905932737 3.3869593598581984,1.3166424700164734 3.416529207756272,1.2765925145153654 3.441969793619239,1.2338005592982344 3.4630289122153934,1.1886908223858001 3.4794977939859795,1.1417104991261375 3.491213174682082,1.093325328923881 3.49805891388465,1.0440149781329329 3.4999671463624717,0.9942682848843708 3.496918954854096,0.9445784129899474 3.488944557604095,0.8954379629629573 3.476123008794514,0.8473340886233631 3.4585814148412894,0.8007436676987123 3.436493674324875,0.75612857429709 3.4100787540467756,0.7139311001184431 3.3795985183023,0.6745695697960951 3.3453551328890367,0.6384341938357614 3.3076880695864137,0.6058832002639494 3.266970740802428,0.5772392833346471 3.223606797749979,0.5527864045000421 1.223606797749979,-0.4472135954999579\" opacity=\"0.8\" /></g></svg>"
      ],
      "text/plain": [
       "<LINESTRING (-0.354 0.354, 0.293 1, -0.354 1.646, -0.387 1.683, -0.416 1.722...>"
      ]
     },
     "execution_count": 17,
     "metadata": {},
     "output_type": "execute_result"
    }
   ],
   "source": [
    "line.parallel_offset(distance=0.5 , side=\"left\" , join_style=\"round\")"
   ]
  },
  {
   "cell_type": "code",
   "execution_count": 18,
   "id": "b6998b1a",
   "metadata": {},
   "outputs": [
    {
     "data": {
      "image/svg+xml": [
       "<svg xmlns=\"http://www.w3.org/2000/svg\" xmlns:xlink=\"http://www.w3.org/1999/xlink\" width=\"100.0\" height=\"100.0\" viewBox=\"-0.6599986858544988 -0.6072122813544568 4.319964518071469 3.2672109672089555\" preserveAspectRatio=\"xMinYMin meet\"><g transform=\"matrix(1,0,0,-1,0,2.052786404500042)\"><polyline fill=\"none\" stroke=\"#66cc99\" stroke-width=\"0.08639929036142938\" points=\"-0.35355339059327373,0.35355339059327373 0.29289321881345254,1.0 -0.35355339059327373,1.6464466094067263 -0.38650522668136855,1.6828033579181774 -0.41573480615127273,1.722214883490199 -0.4409606321741775,1.7643016315870013 -0.4619397662556434,1.8086582838174552 -0.47847016786610447,1.854857661372769 -0.4903926402016152,1.9024548389919358 -0.49759236333609846,1.9509914298352198 -0.5,2.0 -0.4975923633360984,2.0490085701647804 -0.4903926402016152,2.0975451610080644 -0.4784701678661044,2.145142338627231 -0.46193976625564337,2.191341716182545 -0.44096063217417747,2.235698368412999 -0.4157348061512727,2.277785116509801 -0.3865052266813685,2.317196642081823 -0.35355339059327373,2.353553390593274 -0.3171966420818227,2.3865052266813684 -0.277785116509801,2.4157348061512725 -0.23569836841299885,2.4409606321741775 -0.19134171618254486,2.4619397662556435 -0.14514233862723108,2.4784701678661043 -0.09754516100806421,2.490392640201615 -0.04900857016478032,2.4975923633360986 0.0,2.5 2.0,2.5 2.0490085701647804,2.4975923633360986 2.097545161008064,2.490392640201615 2.145142338627231,2.4784701678661043 2.191341716182545,2.4619397662556435 2.235698368412999,2.4409606321741775 2.277785116509801,2.4157348061512725 2.317196642081823,2.3865052266813684 2.353553390593274,2.353553390593274 3.353553390593274,1.3535533905932737 3.3869593598581984,1.3166424700164734 3.416529207756272,1.2765925145153654 3.441969793619239,1.2338005592982344 3.4630289122153934,1.1886908223858001 3.4794977939859795,1.1417104991261375 3.491213174682082,1.093325328923881 3.49805891388465,1.0440149781329329 3.4999671463624717,0.9942682848843708 3.496918954854096,0.9445784129899474 3.488944557604095,0.8954379629629573 3.476123008794514,0.8473340886233631 3.4585814148412894,0.8007436676987123 3.436493674324875,0.75612857429709 3.4100787540467756,0.7139311001184431 3.3795985183023,0.6745695697960951 3.3453551328890367,0.6384341938357614 3.3076880695864137,0.6058832002639494 3.266970740802428,0.5772392833346471 3.223606797749979,0.5527864045000421 1.223606797749979,-0.4472135954999579\" opacity=\"0.8\" /></g></svg>"
      ],
      "text/plain": [
       "<LINESTRING (-0.354 0.354, 0.293 1, -0.354 1.646, -0.387 1.683, -0.416 1.722...>"
      ]
     },
     "execution_count": 18,
     "metadata": {},
     "output_type": "execute_result"
    }
   ],
   "source": [
    "line.offset_curve(distance=0.5 , join_style=\"round\")"
   ]
  },
  {
   "cell_type": "code",
   "execution_count": 19,
   "id": "0686e6ac",
   "metadata": {},
   "outputs": [
    {
     "data": {
      "image/png": "[encoded data removed]",
      "text/plain": [
       "<Figure size 600x600 with 4 Axes>"
      ]
     },
     "metadata": {},
     "output_type": "display_data"
    }
   ],
   "source": [
    "import geopandas as gpd\n",
    "import matplotlib.pyplot as plt\n",
    "\n",
    "f , ax = plt.subplots(nrows=2,ncols=2,figsize=(6,6) , sharex=\"all\" , sharey=\"all\")\n",
    "\n",
    "gpd.GeoDataFrame([line] , columns=[\"geometry\"]).plot(ax=ax[0,0] , edgecolor=\"k\", alpha=0.6)\n",
    "gpd.GeoDataFrame([line.offset_curve(distance=0.5 , join_style=\"round\")] , columns=[\"geometry\"]).plot(ax=ax[0,0] , edgecolor=\"blue\")\n",
    "ax[0][0].set_xlim(-2,4)\n",
    "ax[0][0].set_ylim(-1,3)\n",
    "ax[0][0].set_title(\"a) left(distance=0.5), round\") \n",
    "\n",
    "gpd.GeoDataFrame([line] , columns=[\"geometry\"]).plot(ax=ax[0,1] , edgecolor=\"k\", alpha=0.6)\n",
    "gpd.GeoDataFrame([line.offset_curve(distance=0.5 , join_style=\"mitre\")] , columns=[\"geometry\"]).plot(ax=ax[0,1] , edgecolor=\"blue\")\n",
    "ax[0][1].set_title(\"b) left(distance=0.5), mitred\") \n",
    "\n",
    "gpd.GeoDataFrame([line] , columns=[\"geometry\"]).plot(ax=ax[1,0] , edgecolor=\"k\", alpha=0.6)\n",
    "gpd.GeoDataFrame([line.offset_curve(distance=0.5 , join_style=\"bevel\")] , columns=[\"geometry\"]).plot(ax=ax[1,0] , edgecolor=\"blue\")\n",
    "ax[1][0].set_title(\"c) left(distance=0.5), beveled\") \n",
    "\n",
    "gpd.GeoDataFrame([line] , columns=[\"geometry\"]).plot(ax=ax[1,1] , edgecolor=\"k\", alpha=0.6)\n",
    "gpd.GeoDataFrame([line.offset_curve(distance=-0.5 , join_style=\"round\")] , columns=[\"geometry\"]).plot(ax=ax[1,1] , edgecolor=\"blue\")\n",
    "ax[1][1].set_title(\"d) right(distance=-0.5), round\") \n",
    "\n",
    "plt.tight_layout()"
   ]
  },
  {
   "cell_type": "markdown",
   "id": "0d3ea85c",
   "metadata": {},
   "source": [
    "### mitre_limit参数的效果如下所示。"
   ]
  },
  {
   "cell_type": "code",
   "execution_count": 20,
   "id": "e3013b54",
   "metadata": {},
   "outputs": [
    {
     "data": {
      "image/png": "[encoded data removed]",
      "text/plain": [
       "<Figure size 600x600 with 4 Axes>"
      ]
     },
     "metadata": {},
     "output_type": "display_data"
    }
   ],
   "source": [
    "import geopandas as gpd\n",
    "import matplotlib.pyplot as plt\n",
    "\n",
    "f , ax = plt.subplots(nrows=2,ncols=2,figsize=(6,6) , sharex=\"all\" , sharey=\"all\")\n",
    "\n",
    "gpd.GeoDataFrame([line] , columns=[\"geometry\"]).plot(ax=ax[0,0] , edgecolor=\"k\", alpha=0.6)\n",
    "gpd.GeoDataFrame([line.offset_curve(distance=0.5 , join_style=2 , mitre_limit=0.1)] , columns=[\"geometry\"]).plot(ax=ax[0,0] , edgecolor=\"blue\")\n",
    "ax[0][0].set_xlim(-2,4)\n",
    "ax[0][0].set_ylim(-1,3)\n",
    "ax[0][0].set_title(\"a) left(distance=0.5), limit=0.1\") \n",
    "\n",
    "gpd.GeoDataFrame([line] , columns=[\"geometry\"]).plot(ax=ax[0,1] , edgecolor=\"k\", alpha=0.6)\n",
    "gpd.GeoDataFrame([line.offset_curve(distance=0.5 , join_style=2, mitre_limit=10.0)] , columns=[\"geometry\"]).plot(ax=ax[0,1] , edgecolor=\"blue\")\n",
    "ax[0][1].set_title(\"b) left(distance=0.5), limit=10.0\") \n",
    "\n",
    "gpd.GeoDataFrame([line] , columns=[\"geometry\"]).plot(ax=ax[1,0] , edgecolor=\"k\", alpha=0.6)\n",
    "gpd.GeoDataFrame([line.offset_curve(distance=-0.5 , join_style=2, mitre_limit=0.1)] , columns=[\"geometry\"]).plot(ax=ax[1,0] , edgecolor=\"blue\")\n",
    "ax[1][0].set_title(\"c) right(distance=-0.5), limit=0.1\") \n",
    "\n",
    "gpd.GeoDataFrame([line] , columns=[\"geometry\"]).plot(ax=ax[1,1] , edgecolor=\"k\", alpha=0.6)\n",
    "gpd.GeoDataFrame([line.offset_curve(distance=-0.5 , join_style=2, mitre_limit=10.0)] , columns=[\"geometry\"]).plot(ax=ax[1,1] , edgecolor=\"blue\")\n",
    "ax[1][1].set_title(\"d) right(distance=-0.5), limit=10.0\") \n",
    "\n",
    "plt.tight_layout()"
   ]
  },
  {
   "cell_type": "markdown",
   "id": "16a9a843",
   "metadata": {},
   "source": [
    "# object.simplify(tolerance, preserve_topology=True)"
   ]
  },
  {
   "cell_type": "markdown",
   "id": "d194cc20",
   "metadata": {},
   "source": [
    "### 返回几何对象的简化表示。"
   ]
  },
  {
   "cell_type": "code",
   "execution_count": 21,
   "id": "b6e3ce3d",
   "metadata": {},
   "outputs": [
    {
     "data": {
      "image/svg+xml": [
       "<svg xmlns=\"http://www.w3.org/2000/svg\" xmlns:xlink=\"http://www.w3.org/1999/xlink\" width=\"100.0\" height=\"100.0\" viewBox=\"-1.0 -1.0 2.0 2.0\" preserveAspectRatio=\"xMinYMin meet\"><g transform=\"matrix(1,0,0,-1,0,0.0)\"><circle cx=\"0.0\" cy=\"0.0\" r=\"0.06\" stroke=\"#555555\" stroke-width=\"0.02\" fill=\"#66cc99\" opacity=\"0.6\" /></g></svg>"
      ],
      "text/plain": [
       "<POINT (0 0)>"
      ]
     },
     "execution_count": 21,
     "metadata": {},
     "output_type": "execute_result"
    }
   ],
   "source": [
    "p = Point(0.0, 0.0)\n",
    "p"
   ]
  },
  {
   "cell_type": "code",
   "execution_count": 22,
   "id": "9c03198c",
   "metadata": {},
   "outputs": [
    {
     "data": {
      "image/svg+xml": [
       "<svg xmlns=\"http://www.w3.org/2000/svg\" xmlns:xlink=\"http://www.w3.org/1999/xlink\" width=\"100.0\" height=\"100.0\" viewBox=\"-1.08 -1.08 2.16 2.16\" preserveAspectRatio=\"xMinYMin meet\"><g transform=\"matrix(1,0,0,-1,0,0.0)\"><path fill-rule=\"evenodd\" fill=\"#66cc99\" stroke=\"#555555\" stroke-width=\"0.0432\" opacity=\"0.6\" d=\"M 1.0,0.0 L 0.9951847266721969,-0.0980171403295606 L 0.9807852804032304,-0.19509032201612825 L 0.9569403357322088,-0.29028467725446233 L 0.9238795325112867,-0.3826834323650898 L 0.881921264348355,-0.47139673682599764 L 0.8314696123025452,-0.5555702330196022 L 0.773010453362737,-0.6343932841636455 L 0.7071067811865476,-0.7071067811865476 L 0.6343932841636455,-0.7730104533627369 L 0.5555702330196023,-0.8314696123025452 L 0.4713967368259978,-0.8819212643483549 L 0.38268343236508984,-0.9238795325112867 L 0.29028467725446233,-0.9569403357322089 L 0.19509032201612833,-0.9807852804032304 L 0.09801714032956077,-0.9951847266721968 L 6.123233995736766e-17,-1.0 L -0.09801714032956065,-0.9951847266721969 L -0.1950903220161282,-0.9807852804032304 L -0.29028467725446216,-0.9569403357322089 L -0.3826834323650897,-0.9238795325112867 L -0.4713967368259977,-0.881921264348355 L -0.555570233019602,-0.8314696123025453 L -0.6343932841636454,-0.7730104533627371 L -0.7071067811865475,-0.7071067811865476 L -0.773010453362737,-0.6343932841636455 L -0.8314696123025453,-0.5555702330196022 L -0.8819212643483549,-0.4713967368259978 L -0.9238795325112867,-0.3826834323650899 L -0.9569403357322088,-0.2902846772544624 L -0.9807852804032304,-0.1950903220161286 L -0.9951847266721968,-0.09801714032956083 L -1.0,-1.2246467991473532e-16 L -0.9951847266721969,0.09801714032956059 L -0.9807852804032304,0.19509032201612836 L -0.9569403357322089,0.2902846772544621 L -0.9238795325112868,0.38268343236508967 L -0.881921264348355,0.47139673682599764 L -0.8314696123025455,0.555570233019602 L -0.7730104533627371,0.6343932841636453 L -0.7071067811865477,0.7071067811865475 L -0.6343932841636459,0.7730104533627367 L -0.5555702330196022,0.8314696123025452 L -0.47139673682599786,0.8819212643483549 L -0.38268343236509034,0.9238795325112865 L -0.29028467725446244,0.9569403357322088 L -0.19509032201612866,0.9807852804032303 L -0.09801714032956045,0.9951847266721969 L -1.8369701987210297e-16,1.0 L 0.09801714032956009,0.9951847266721969 L 0.1950903220161283,0.9807852804032304 L 0.29028467725446205,0.9569403357322089 L 0.38268343236509,0.9238795325112866 L 0.4713967368259976,0.881921264348355 L 0.5555702330196018,0.8314696123025455 L 0.6343932841636456,0.7730104533627369 L 0.7071067811865474,0.7071067811865477 L 0.7730104533627365,0.6343932841636459 L 0.8314696123025452,0.5555702330196022 L 0.8819212643483548,0.4713967368259979 L 0.9238795325112865,0.3826834323650904 L 0.9569403357322088,0.2902846772544625 L 0.9807852804032303,0.19509032201612872 L 0.9951847266721969,0.0980171403295605 L 1.0,0.0 z\" /></g></svg>"
      ],
      "text/plain": [
       "<POLYGON ((1 0, 0.995 -0.098, 0.981 -0.195, 0.957 -0.29, 0.924 -0.383, 0.882...>"
      ]
     },
     "execution_count": 22,
     "metadata": {},
     "output_type": "execute_result"
    }
   ],
   "source": [
    "x = p.buffer(1.0)\n",
    "x"
   ]
  },
  {
   "cell_type": "code",
   "execution_count": 23,
   "id": "86a368c1",
   "metadata": {},
   "outputs": [
    {
     "data": {
      "text/plain": [
       "3.1365484905459398"
      ]
     },
     "execution_count": 23,
     "metadata": {},
     "output_type": "execute_result"
    }
   ],
   "source": [
    "x.area"
   ]
  },
  {
   "cell_type": "code",
   "execution_count": 24,
   "id": "246471a6",
   "metadata": {},
   "outputs": [
    {
     "data": {
      "text/plain": [
       "65"
      ]
     },
     "execution_count": 24,
     "metadata": {},
     "output_type": "execute_result"
    }
   ],
   "source": [
    "len(x.exterior.coords)"
   ]
  },
  {
   "cell_type": "code",
   "execution_count": 25,
   "id": "4b59e5a7",
   "metadata": {},
   "outputs": [
    {
     "data": {
      "image/svg+xml": [
       "<svg xmlns=\"http://www.w3.org/2000/svg\" xmlns:xlink=\"http://www.w3.org/1999/xlink\" width=\"100.0\" height=\"100.0\" viewBox=\"-1.08 -1.08 2.16 2.16\" preserveAspectRatio=\"xMinYMin meet\"><g transform=\"matrix(1,0,0,-1,0,0.0)\"><path fill-rule=\"evenodd\" fill=\"#66cc99\" stroke=\"#555555\" stroke-width=\"0.0432\" opacity=\"0.6\" d=\"M 1.0,0.0 L 0.9238795325112867,-0.3826834323650898 L 0.7071067811865476,-0.7071067811865476 L 0.38268343236508984,-0.9238795325112867 L 6.123233995736766e-17,-1.0 L -0.3826834323650897,-0.9238795325112867 L -0.7071067811865475,-0.7071067811865476 L -0.9238795325112867,-0.3826834323650899 L -1.0,-1.2246467991473532e-16 L -0.9238795325112868,0.38268343236508967 L -0.7071067811865477,0.7071067811865475 L -0.38268343236509034,0.9238795325112865 L -1.8369701987210297e-16,1.0 L 0.38268343236509,0.9238795325112866 L 0.7071067811865474,0.7071067811865477 L 0.9238795325112865,0.3826834323650904 L 1.0,0.0 z\" /></g></svg>"
      ],
      "text/plain": [
       "<POLYGON ((1 0, 0.924 -0.383, 0.707 -0.707, 0.383 -0.924, 0 -1, -0.383 -0.92...>"
      ]
     },
     "execution_count": 25,
     "metadata": {},
     "output_type": "execute_result"
    }
   ],
   "source": [
    "# 简化操作\n",
    "s = x.simplify(0.05, preserve_topology=False)\n",
    "s"
   ]
  },
  {
   "cell_type": "code",
   "execution_count": 26,
   "id": "039de0a9",
   "metadata": {},
   "outputs": [
    {
     "data": {
      "text/plain": [
       "3.061467458920719"
      ]
     },
     "execution_count": 26,
     "metadata": {},
     "output_type": "execute_result"
    }
   ],
   "source": [
    "s.area"
   ]
  },
  {
   "cell_type": "code",
   "execution_count": 27,
   "id": "7713dc9f",
   "metadata": {},
   "outputs": [
    {
     "data": {
      "text/plain": [
       "17"
      ]
     },
     "execution_count": 27,
     "metadata": {},
     "output_type": "execute_result"
    }
   ],
   "source": [
    "len(s.exterior.coords)"
   ]
  },
  {
   "cell_type": "code",
   "execution_count": 28,
   "id": "6d235f22",
   "metadata": {},
   "outputs": [
    {
     "data": {
      "text/plain": [
       "Text(0.5, 1.0, 'b) tolerance = 0.5')"
      ]
     },
     "execution_count": 28,
     "metadata": {},
     "output_type": "execute_result"
    },
    {
     "data": {
      "image/png": "[encoded data removed]",
      "text/plain": [
       "<Figure size 800x800 with 2 Axes>"
      ]
     },
     "metadata": {},
     "output_type": "display_data"
    }
   ],
   "source": [
    "import geopandas as gpd\n",
    "import matplotlib.pyplot as plt\n",
    "\n",
    "f , ax = plt.subplots(nrows=1,ncols=2,figsize=(8,8))\n",
    "\n",
    "gpd.GeoDataFrame([x] , columns=[\"geometry\"]).plot(ax=ax[0] , facecolor=\"k\" , alpha=0.3)\n",
    "gpd.GeoDataFrame([x.simplify(tolerance=0.2)] , columns=[\"geometry\"]).plot(ax=ax[0] , edgecolor=\"k\" , alpha=0.3)\n",
    "ax[0].set_title('a) tolerance = 0.2')\n",
    "\n",
    "gpd.GeoDataFrame([x] , columns=[\"geometry\"]).plot(ax=ax[1] , facecolor=\"k\" , alpha=0.3)\n",
    "gpd.GeoDataFrame([x.simplify(tolerance=0.5)] , columns=[\"geometry\"]).plot(ax=ax[1] , edgecolor=\"k\" , alpha=0.3)\n",
    "ax[0].set_title('b) tolerance = 0.5')"
   ]
  },
  {
   "cell_type": "markdown",
   "id": "d03face6",
   "metadata": {},
   "source": [
    "### "
   ]
  },
  {
   "cell_type": "code",
   "execution_count": null,
   "id": "277ff250",
   "metadata": {},
   "outputs": [],
   "source": []
  },
  {
   "cell_type": "code",
   "execution_count": null,
   "id": "31df057c",
   "metadata": {},
   "outputs": [],
   "source": []
  },
  {
   "cell_type": "code",
   "execution_count": null,
   "id": "6b6939db",
   "metadata": {},
   "outputs": [],
   "source": []
  },
  {
   "cell_type": "code",
   "execution_count": null,
   "id": "ac750eb7",
   "metadata": {},
   "outputs": [],
   "source": []
  },
  {
   "cell_type": "code",
   "execution_count": null,
   "id": "6c0680ac",
   "metadata": {},
   "outputs": [],
   "source": []
  },
  {
   "cell_type": "code",
   "execution_count": null,
   "id": "26d02afe",
   "metadata": {},
   "outputs": [],
   "source": []
  },
  {
   "cell_type": "code",
   "execution_count": null,
   "id": "383649db",
   "metadata": {},
   "outputs": [],
   "source": []
  },
  {
   "cell_type": "code",
   "execution_count": null,
   "id": "a66df580",
   "metadata": {},
   "outputs": [],
   "source": []
  },
  {
   "cell_type": "code",
   "execution_count": null,
   "id": "8c00fcb9",
   "metadata": {},
   "outputs": [],
   "source": []
  },
  {
   "cell_type": "code",
   "execution_count": null,
   "id": "2439974a",
   "metadata": {},
   "outputs": [],
   "source": []
  },
  {
   "cell_type": "code",
   "execution_count": null,
   "id": "a3d4b224",
   "metadata": {},
   "outputs": [],
   "source": []
  },
  {
   "cell_type": "code",
   "execution_count": null,
   "id": "55e888fa",
   "metadata": {},
   "outputs": [],
   "source": []
  }
 ],
 "metadata": {
  "kernelspec": {
   "display_name": "Python 3 (ipykernel)",
   "language": "python",
   "name": "python3"
  },
  "language_info": {
   "codemirror_mode": {
    "name": "ipython",
    "version": 3
   },
   "file_extension": ".py",
   "mimetype": "text/x-python",
   "name": "python",
   "nbconvert_exporter": "python",
   "pygments_lexer": "ipython3",
   "version": "3.9.16"
  }
 },
 "nbformat": 4,
 "nbformat_minor": 5
}
