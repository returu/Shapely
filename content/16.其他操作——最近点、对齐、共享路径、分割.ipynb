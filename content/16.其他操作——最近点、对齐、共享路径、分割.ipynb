{
 "cells": [
  {
   "cell_type": "code",
   "execution_count": 1,
   "id": "66361947",
   "metadata": {},
   "outputs": [],
   "source": [
    "from shapely import Point , LineString , LinearRing , Polygon , MultiPoint , MultiLineString , MultiPolygon"
   ]
  },
  {
   "cell_type": "markdown",
   "id": "b758525f",
   "metadata": {},
   "source": [
    "# 1.最近的点"
   ]
  },
  {
   "cell_type": "markdown",
   "id": "3b62a530",
   "metadata": {},
   "source": [
    "## shapely.ops.nearest_points(geom1, geom2)"
   ]
  },
  {
   "cell_type": "markdown",
   "id": "c500183f",
   "metadata": {},
   "source": [
    "### 返回输入几何对象中最近的一组点组成的元组。这些点的返回顺序与输入几何对象的顺序相同。"
   ]
  },
  {
   "cell_type": "code",
   "execution_count": 2,
   "id": "64579584",
   "metadata": {},
   "outputs": [
    {
     "data": {
      "image/svg+xml": [
       "<svg xmlns=\"http://www.w3.org/2000/svg\" xmlns:xlink=\"http://www.w3.org/1999/xlink\" width=\"100.0\" height=\"100.0\" viewBox=\"-0.04 -0.04 1.08 1.08\" preserveAspectRatio=\"xMinYMin meet\"><g transform=\"matrix(1,0,0,-1,0,1.0)\"><path fill-rule=\"evenodd\" fill=\"#66cc99\" stroke=\"#555555\" stroke-width=\"0.0216\" opacity=\"0.6\" d=\"M 0.0,0.0 L 1.0,0.0 L 0.5,1.0 L 0.0,0.0 z\" /></g></svg>"
      ],
      "text/plain": [
       "<POLYGON ((0 0, 1 0, 0.5 1, 0 0))>"
      ]
     },
     "execution_count": 2,
     "metadata": {},
     "output_type": "execute_result"
    }
   ],
   "source": [
    "from shapely.ops import nearest_points\n",
    "\n",
    "triangle = Polygon([(0, 0), (1, 0), (0.5, 1), (0, 0)])\n",
    "triangle"
   ]
  },
  {
   "cell_type": "code",
   "execution_count": 3,
   "id": "e99219cb",
   "metadata": {},
   "outputs": [
    {
     "data": {
      "image/svg+xml": [
       "<svg xmlns=\"http://www.w3.org/2000/svg\" xmlns:xlink=\"http://www.w3.org/1999/xlink\" width=\"100.0\" height=\"100.0\" viewBox=\"-0.04 1.96 1.08 1.08\" preserveAspectRatio=\"xMinYMin meet\"><g transform=\"matrix(1,0,0,-1,0,5.0)\"><path fill-rule=\"evenodd\" fill=\"#66cc99\" stroke=\"#555555\" stroke-width=\"0.0216\" opacity=\"0.6\" d=\"M 0.0,2.0 L 1.0,2.0 L 1.0,3.0 L 0.0,3.0 L 0.0,2.0 z\" /></g></svg>"
      ],
      "text/plain": [
       "<POLYGON ((0 2, 1 2, 1 3, 0 3, 0 2))>"
      ]
     },
     "execution_count": 3,
     "metadata": {},
     "output_type": "execute_result"
    }
   ],
   "source": [
    "square = Polygon([(0, 2), (1, 2), (1, 3), (0, 3), (0, 2)])\n",
    "square"
   ]
  },
  {
   "cell_type": "code",
   "execution_count": 4,
   "id": "38dab2bc",
   "metadata": {},
   "outputs": [
    {
     "data": {
      "text/plain": [
       "<AxesSubplot:>"
      ]
     },
     "execution_count": 4,
     "metadata": {},
     "output_type": "execute_result"
    },
    {
     "data": {
      "image/png": "[encoded data removed]",
      "text/plain": [
       "<Figure size 500x500 with 1 Axes>"
      ]
     },
     "metadata": {},
     "output_type": "display_data"
    }
   ],
   "source": [
    "import geopandas as gpd\n",
    "import matplotlib.pyplot as plt\n",
    "\n",
    "f,ax = plt.subplots(figsize=(5,5))\n",
    "\n",
    "gpd.GeoDataFrame([triangle] , columns=[\"geometry\"]).plot(ax=ax , facecolor=\"red\" ,alpha=0.3)\n",
    "gpd.GeoDataFrame([square] , columns=[\"geometry\"]).plot(ax=ax , facecolor=\"k\" ,alpha=0.3)"
   ]
  },
  {
   "cell_type": "code",
   "execution_count": 5,
   "id": "c92c3156",
   "metadata": {},
   "outputs": [
    {
     "data": {
      "text/plain": [
       "(<POINT (0.5 1)>, <POINT (0.5 2)>)"
      ]
     },
     "execution_count": 5,
     "metadata": {},
     "output_type": "execute_result"
    }
   ],
   "source": [
    "result = nearest_points(triangle , square)\n",
    "result"
   ]
  },
  {
   "cell_type": "code",
   "execution_count": 6,
   "id": "224b8e18",
   "metadata": {
    "scrolled": false
   },
   "outputs": [
    {
     "data": {
      "text/plain": [
       "<AxesSubplot:>"
      ]
     },
     "execution_count": 6,
     "metadata": {},
     "output_type": "execute_result"
    },
    {
     "data": {
      "image/png": "[encoded data removed]",
      "text/plain": [
       "<Figure size 500x500 with 1 Axes>"
      ]
     },
     "metadata": {},
     "output_type": "display_data"
    }
   ],
   "source": [
    "import geopandas as gpd\n",
    "import matplotlib.pyplot as plt\n",
    "\n",
    "f,ax = plt.subplots(figsize=(5,5))\n",
    "\n",
    "gpd.GeoDataFrame([triangle] , columns=[\"geometry\"]).plot(ax=ax , facecolor=\"blue\" ,alpha=0.3)\n",
    "gpd.GeoDataFrame([square] , columns=[\"geometry\"]).plot(ax=ax , facecolor=\"green\" ,alpha=0.3)\n",
    "gpd.GeoDataFrame([result[0]] , columns=[\"geometry\"]).plot(ax=ax , facecolor=\"red\" , marker=\"o\" , markersize=50)\n",
    "gpd.GeoDataFrame([result[1]] , columns=[\"geometry\"]).plot(ax=ax , facecolor=\"red\" , marker=\"*\" , markersize=80)"
   ]
  },
  {
   "cell_type": "code",
   "execution_count": null,
   "id": "694e42c9",
   "metadata": {},
   "outputs": [],
   "source": []
  },
  {
   "cell_type": "markdown",
   "id": "28ff84d9",
   "metadata": {},
   "source": [
    "# 2.对齐"
   ]
  },
  {
   "cell_type": "markdown",
   "id": "3ba905bf",
   "metadata": {},
   "source": [
    "## shapely.ops.snap(geom1, geom2, tolerance)"
   ]
  },
  {
   "cell_type": "markdown",
   "id": "13899623",
   "metadata": {},
   "source": [
    "### 将geom1中的顶点与geom2中的顶点对齐，被捕捉的几何体对象副本会被返回，输入的几何对象不会被修改。"
   ]
  },
  {
   "cell_type": "markdown",
   "id": "917b7089",
   "metadata": {},
   "source": [
    "### tolerance参数指定了执行对齐操作的顶点之间的最小距离。"
   ]
  },
  {
   "cell_type": "code",
   "execution_count": 7,
   "id": "8712f488",
   "metadata": {},
   "outputs": [
    {
     "data": {
      "image/svg+xml": [
       "<svg xmlns=\"http://www.w3.org/2000/svg\" xmlns:xlink=\"http://www.w3.org/1999/xlink\" width=\"100.0\" height=\"100.0\" viewBox=\"0.96 0.96 1.08 1.08\" preserveAspectRatio=\"xMinYMin meet\"><g transform=\"matrix(1,0,0,-1,0,3.0)\"><path fill-rule=\"evenodd\" fill=\"#66cc99\" stroke=\"#555555\" stroke-width=\"0.0216\" opacity=\"0.6\" d=\"M 1.0,1.0 L 2.0,1.0 L 2.0,2.0 L 1.0,2.0 L 1.0,1.0 z\" /></g></svg>"
      ],
      "text/plain": [
       "<POLYGON ((1 1, 2 1, 2 2, 1 2, 1 1))>"
      ]
     },
     "execution_count": 7,
     "metadata": {},
     "output_type": "execute_result"
    }
   ],
   "source": [
    "from shapely.ops import snap\n",
    "\n",
    "square = Polygon([(1,1), (2, 1), (2, 2), (1, 2), (1, 1)])\n",
    "square"
   ]
  },
  {
   "cell_type": "code",
   "execution_count": 8,
   "id": "fecd302f",
   "metadata": {},
   "outputs": [
    {
     "data": {
      "image/svg+xml": [
       "<svg xmlns=\"http://www.w3.org/2000/svg\" xmlns:xlink=\"http://www.w3.org/1999/xlink\" width=\"100.0\" height=\"100.0\" viewBox=\"-0.10400000000000001 -0.10400000000000001 2.8080000000000003 1.1580000000000001\" preserveAspectRatio=\"xMinYMin meet\"><g transform=\"matrix(1,0,0,-1,0,0.9500000000000001)\"><polyline fill=\"none\" stroke=\"#66cc99\" stroke-width=\"0.05616000000000001\" points=\"0.0,0.0 0.8,0.8 1.8,0.95 2.6,0.5\" opacity=\"0.8\" /></g></svg>"
      ],
      "text/plain": [
       "<LINESTRING (0 0, 0.8 0.8, 1.8 0.95, 2.6 0.5)>"
      ]
     },
     "execution_count": 8,
     "metadata": {},
     "output_type": "execute_result"
    }
   ],
   "source": [
    "line = LineString([(0,0), (0.8, 0.8), (1.8, 0.95), (2.6, 0.5)])\n",
    "line"
   ]
  },
  {
   "cell_type": "code",
   "execution_count": 9,
   "id": "61b177c9",
   "metadata": {},
   "outputs": [
    {
     "data": {
      "text/plain": [
       "<AxesSubplot:>"
      ]
     },
     "execution_count": 9,
     "metadata": {},
     "output_type": "execute_result"
    },
    {
     "data": {
      "image/png": "[encoded data removed]",
      "text/plain": [
       "<Figure size 500x500 with 1 Axes>"
      ]
     },
     "metadata": {},
     "output_type": "display_data"
    }
   ],
   "source": [
    "import geopandas as gpd\n",
    "import matplotlib.pyplot as plt\n",
    "\n",
    "f,ax = plt.subplots(figsize=(5,5))\n",
    "\n",
    "gpd.GeoDataFrame([square] , columns=[\"geometry\"]).plot(ax=ax , facecolor=\"red\" ,alpha=0.3)\n",
    "gpd.GeoDataFrame([line] , columns=[\"geometry\"]).plot(ax=ax , edgecolor=\"k\" ,alpha=0.5)"
   ]
  },
  {
   "cell_type": "code",
   "execution_count": 10,
   "id": "751a4ed3",
   "metadata": {},
   "outputs": [
    {
     "data": {
      "image/svg+xml": [
       "<svg xmlns=\"http://www.w3.org/2000/svg\" xmlns:xlink=\"http://www.w3.org/1999/xlink\" width=\"100.0\" height=\"100.0\" viewBox=\"-0.10400000000000001 -0.10400000000000001 2.8080000000000003 1.2080000000000002\" preserveAspectRatio=\"xMinYMin meet\"><g transform=\"matrix(1,0,0,-1,0,1.0)\"><polyline fill=\"none\" stroke=\"#66cc99\" stroke-width=\"0.05616000000000001\" points=\"0.0,0.0 1.0,1.0 2.0,1.0 2.6,0.5\" opacity=\"0.8\" /></g></svg>"
      ],
      "text/plain": [
       "<LINESTRING (0 0, 1 1, 2 1, 2.6 0.5)>"
      ]
     },
     "execution_count": 10,
     "metadata": {},
     "output_type": "execute_result"
    }
   ],
   "source": [
    "result1 = snap(line , square , 0.5)\n",
    "result1"
   ]
  },
  {
   "cell_type": "code",
   "execution_count": 11,
   "id": "d84fe632",
   "metadata": {},
   "outputs": [
    {
     "data": {
      "image/svg+xml": [
       "<svg xmlns=\"http://www.w3.org/2000/svg\" xmlns:xlink=\"http://www.w3.org/1999/xlink\" width=\"100.0\" height=\"100.0\" viewBox=\"-0.10400000000000001 -0.10400000000000001 2.8080000000000003 1.2080000000000002\" preserveAspectRatio=\"xMinYMin meet\"><g transform=\"matrix(1,0,0,-1,0,1.0)\"><polyline fill=\"none\" stroke=\"#66cc99\" stroke-width=\"0.05616000000000001\" points=\"0.0,0.0 0.8,0.8 1.0,1.0 1.8,0.95 2.0,1.0 2.6,0.5\" opacity=\"0.8\" /></g></svg>"
      ],
      "text/plain": [
       "<LINESTRING (0 0, 0.8 0.8, 1 1, 1.8 0.95, 2 1, 2.6 0.5)>"
      ]
     },
     "execution_count": 11,
     "metadata": {},
     "output_type": "execute_result"
    }
   ],
   "source": [
    "result2 = snap(line , square , 0.2)\n",
    "result2"
   ]
  },
  {
   "cell_type": "code",
   "execution_count": 12,
   "id": "b6b17495",
   "metadata": {
    "scrolled": false
   },
   "outputs": [
    {
     "data": {
      "text/plain": [
       "Text(0.5, 1.0, 'tolerance = 0.2')"
      ]
     },
     "execution_count": 12,
     "metadata": {},
     "output_type": "execute_result"
    },
    {
     "data": {
      "image/png": "[encoded data removed]",
      "text/plain": [
       "<Figure size 1000x1000 with 2 Axes>"
      ]
     },
     "metadata": {},
     "output_type": "display_data"
    }
   ],
   "source": [
    "import geopandas as gpd\n",
    "import matplotlib.pyplot as plt\n",
    "\n",
    "f,ax = plt.subplots(1,2,figsize=(10,10))\n",
    "\n",
    "gpd.GeoDataFrame([square] , columns=[\"geometry\"]).plot(ax=ax[0] , facecolor=\"green\" ,alpha=0.3)\n",
    "gpd.GeoDataFrame([line] , columns=[\"geometry\"]).plot(ax=ax[0] , edgecolor=\"k\" ,alpha=0.5 , linewidth=4)\n",
    "gpd.GeoDataFrame([result1] , columns=[\"geometry\"]).plot(ax=ax[0] , edgecolor=\"red\")\n",
    "ax[0].set_title(\"tolerance = 0.5\" , fontsize=12)\n",
    "\n",
    "gpd.GeoDataFrame([square] , columns=[\"geometry\"]).plot(ax=ax[1] , facecolor=\"green\" ,alpha=0.3)\n",
    "gpd.GeoDataFrame([line] , columns=[\"geometry\"]).plot(ax=ax[1] , edgecolor=\"k\" ,alpha=0.5 , linewidth=4)\n",
    "gpd.GeoDataFrame([result2] , columns=[\"geometry\"]).plot(ax=ax[1] , edgecolor=\"red\")\n",
    "ax[1].set_title(\"tolerance = 0.2\" , fontsize=12)"
   ]
  },
  {
   "cell_type": "code",
   "execution_count": null,
   "id": "56f06b44",
   "metadata": {},
   "outputs": [],
   "source": []
  },
  {
   "cell_type": "markdown",
   "id": "76228311",
   "metadata": {},
   "source": [
    "# 3.共享路径"
   ]
  },
  {
   "cell_type": "markdown",
   "id": "7229e55f",
   "metadata": {},
   "source": [
    "## shapely.ops.shared_paths(geom1, geom2)"
   ]
  },
  {
   "cell_type": "markdown",
   "id": "e63c882b",
   "metadata": {},
   "source": [
    "### 查找geom1和geom2之间的共享路径，其中两个几何对象都是LineString类型。"
   ]
  },
  {
   "cell_type": "code",
   "execution_count": 13,
   "id": "574b4bd7",
   "metadata": {},
   "outputs": [
    {
     "data": {
      "image/svg+xml": [
       "<svg xmlns=\"http://www.w3.org/2000/svg\" xmlns:xlink=\"http://www.w3.org/1999/xlink\" width=\"100.0\" height=\"100.0\" viewBox=\"-0.8 -0.8 21.6 6.6\" preserveAspectRatio=\"xMinYMin meet\"><g transform=\"matrix(1,0,0,-1,0,5.0)\"><polyline fill=\"none\" stroke=\"#66cc99\" stroke-width=\"0.43200000000000005\" points=\"0.0,0.0 10.0,0.0 10.0,5.0 20.0,5.0\" opacity=\"0.8\" /></g></svg>"
      ],
      "text/plain": [
       "<LINESTRING (0 0, 10 0, 10 5, 20 5)>"
      ]
     },
     "execution_count": 13,
     "metadata": {},
     "output_type": "execute_result"
    }
   ],
   "source": [
    "from shapely.ops import shared_paths\n",
    "\n",
    "g1 = LineString([(0, 0), (10, 0), (10, 5), (20, 5)])\n",
    "g1"
   ]
  },
  {
   "cell_type": "code",
   "execution_count": 14,
   "id": "34fd0370",
   "metadata": {},
   "outputs": [
    {
     "data": {
      "image/svg+xml": [
       "<svg xmlns=\"http://www.w3.org/2000/svg\" xmlns:xlink=\"http://www.w3.org/1999/xlink\" width=\"100.0\" height=\"100.0\" viewBox=\"-1.2 -1.2 32.4 7.4\" preserveAspectRatio=\"xMinYMin meet\"><g transform=\"matrix(1,0,0,-1,0,5.0)\"><polyline fill=\"none\" stroke=\"#66cc99\" stroke-width=\"0.648\" points=\"5.0,0.0 30.0,0.0 30.0,5.0 0.0,5.0\" opacity=\"0.8\" /></g></svg>"
      ],
      "text/plain": [
       "<LINESTRING (5 0, 30 0, 30 5, 0 5)>"
      ]
     },
     "execution_count": 14,
     "metadata": {},
     "output_type": "execute_result"
    }
   ],
   "source": [
    "g2 = LineString([(5, 0), (30, 0), (30, 5), (0, 5)])\n",
    "g2"
   ]
  },
  {
   "cell_type": "code",
   "execution_count": 15,
   "id": "244f2e9e",
   "metadata": {},
   "outputs": [
    {
     "data": {
      "text/plain": [
       "<AxesSubplot:>"
      ]
     },
     "execution_count": 15,
     "metadata": {},
     "output_type": "execute_result"
    },
    {
     "data": {
      "image/png": "[encoded data removed]",
      "text/plain": [
       "<Figure size 1000x1000 with 1 Axes>"
      ]
     },
     "metadata": {},
     "output_type": "display_data"
    }
   ],
   "source": [
    "import geopandas as gpd\n",
    "import matplotlib.pyplot as plt\n",
    "\n",
    "f,ax = plt.subplots(figsize=(10,10))\n",
    "\n",
    "gpd.GeoDataFrame([g1] , columns=[\"geometry\"]).plot(ax=ax , edgecolor=\"red\", linewidth=4)\n",
    "gpd.GeoDataFrame([g2] , columns=[\"geometry\"]).plot(ax=ax , edgecolor=\"blue\", linewidth=2)"
   ]
  },
  {
   "cell_type": "code",
   "execution_count": 16,
   "id": "ebe735b6",
   "metadata": {},
   "outputs": [
    {
     "data": {
      "image/svg+xml": [
       "<svg xmlns=\"http://www.w3.org/2000/svg\" xmlns:xlink=\"http://www.w3.org/1999/xlink\" width=\"100.0\" height=\"100.0\" viewBox=\"4.4 -0.6 16.200000000000003 6.199999999999999\" preserveAspectRatio=\"xMinYMin meet\"><g transform=\"matrix(1,0,0,-1,0,5.0)\"><g><g><polyline fill=\"none\" stroke=\"#66cc99\" stroke-width=\"0.32400000000000007\" points=\"5.0,0.0 10.0,0.0\" opacity=\"0.8\" /></g><g><polyline fill=\"none\" stroke=\"#66cc99\" stroke-width=\"0.32400000000000007\" points=\"10.0,5.0 20.0,5.0\" opacity=\"0.8\" /></g></g></g></svg>"
      ],
      "text/plain": [
       "<GEOMETRYCOLLECTION (MULTILINESTRING ((5 0, 10 0)), MULTILINESTRING ((10 5, ...>"
      ]
     },
     "execution_count": 16,
     "metadata": {},
     "output_type": "execute_result"
    }
   ],
   "source": [
    "shared_paths(g1 , g2)"
   ]
  },
  {
   "cell_type": "code",
   "execution_count": 17,
   "id": "6134f4d8",
   "metadata": {},
   "outputs": [],
   "source": [
    "forward , backward = shared_paths(g1 , g2).geoms"
   ]
  },
  {
   "cell_type": "code",
   "execution_count": 18,
   "id": "83f35528",
   "metadata": {},
   "outputs": [
    {
     "data": {
      "image/svg+xml": [
       "<svg xmlns=\"http://www.w3.org/2000/svg\" xmlns:xlink=\"http://www.w3.org/1999/xlink\" width=\"100.0\" height=\"100.0\" viewBox=\"4.8 -0.2 5.3999999999999995 0.4\" preserveAspectRatio=\"xMinYMin meet\"><g transform=\"matrix(1,0,0,-1,0,0.0)\"><g><polyline fill=\"none\" stroke=\"#66cc99\" stroke-width=\"0.10799999999999998\" points=\"5.0,0.0 10.0,0.0\" opacity=\"0.8\" /></g></g></svg>"
      ],
      "text/plain": [
       "<MULTILINESTRING ((5 0, 10 0))>"
      ]
     },
     "execution_count": 18,
     "metadata": {},
     "output_type": "execute_result"
    }
   ],
   "source": [
    "forward"
   ]
  },
  {
   "cell_type": "code",
   "execution_count": 19,
   "id": "77bd93bc",
   "metadata": {},
   "outputs": [
    {
     "data": {
      "image/svg+xml": [
       "<svg xmlns=\"http://www.w3.org/2000/svg\" xmlns:xlink=\"http://www.w3.org/1999/xlink\" width=\"100.0\" height=\"100.0\" viewBox=\"9.6 4.6 10.799999999999999 0.8000000000000007\" preserveAspectRatio=\"xMinYMin meet\"><g transform=\"matrix(1,0,0,-1,0,10.0)\"><g><polyline fill=\"none\" stroke=\"#66cc99\" stroke-width=\"0.21599999999999997\" points=\"10.0,5.0 20.0,5.0\" opacity=\"0.8\" /></g></g></svg>"
      ],
      "text/plain": [
       "<MULTILINESTRING ((10 5, 20 5))>"
      ]
     },
     "execution_count": 19,
     "metadata": {},
     "output_type": "execute_result"
    }
   ],
   "source": [
    "backward"
   ]
  },
  {
   "cell_type": "code",
   "execution_count": 20,
   "id": "f8c415d0",
   "metadata": {},
   "outputs": [
    {
     "data": {
      "text/plain": [
       "<AxesSubplot:>"
      ]
     },
     "execution_count": 20,
     "metadata": {},
     "output_type": "execute_result"
    },
    {
     "data": {
      "image/png": "[encoded data removed]",
      "text/plain": [
       "<Figure size 1000x1000 with 1 Axes>"
      ]
     },
     "metadata": {},
     "output_type": "display_data"
    }
   ],
   "source": [
    "import geopandas as gpd\n",
    "import matplotlib.pyplot as plt\n",
    "\n",
    "f,ax = plt.subplots(figsize=(10,10))\n",
    "\n",
    "gpd.GeoDataFrame([g1] , columns=[\"geometry\"]).plot(ax=ax , edgecolor=\"gray\", linewidth=5)\n",
    "gpd.GeoDataFrame([g2] , columns=[\"geometry\"]).plot(ax=ax , edgecolor=\"gray\", linewidth=5)\n",
    "\n",
    "gpd.GeoDataFrame([forward] , columns=[\"geometry\"]).plot(ax=ax , edgecolor=\"red\", linewidth=2)\n",
    "gpd.GeoDataFrame([backward] , columns=[\"geometry\"]).plot(ax=ax , edgecolor=\"yellow\", linewidth=2)"
   ]
  },
  {
   "cell_type": "code",
   "execution_count": null,
   "id": "d720efdb",
   "metadata": {},
   "outputs": [],
   "source": []
  },
  {
   "cell_type": "markdown",
   "id": "0bf9b152",
   "metadata": {},
   "source": [
    "# 4.分割"
   ]
  },
  {
   "cell_type": "markdown",
   "id": "16b1e7f6",
   "metadata": {},
   "source": [
    "## shapely.ops.split(geom, splitter)"
   ]
  },
  {
   "cell_type": "markdown",
   "id": "3be9f694",
   "metadata": {},
   "source": [
    "### 将一个几何对象与另一个几何对象分割，并返回一个几何集合。这个函数在理论上与分割后的几何对象部分的联合操作相反。如果分割器没有分割几何对象，则返回一个与输入几何对象相同的单一几何集合。"
   ]
  },
  {
   "cell_type": "code",
   "execution_count": 21,
   "id": "c48794cb",
   "metadata": {},
   "outputs": [],
   "source": [
    "from shapely.ops import split\n",
    "\n",
    "point = Point((1, 1))\n",
    "line = LineString([(0,0), (2,2)])"
   ]
  },
  {
   "cell_type": "code",
   "execution_count": 22,
   "id": "d0e0c54e",
   "metadata": {},
   "outputs": [
    {
     "data": {
      "text/plain": [
       "<AxesSubplot:>"
      ]
     },
     "execution_count": 22,
     "metadata": {},
     "output_type": "execute_result"
    },
    {
     "data": {
      "image/png": "[encoded data removed]",
      "text/plain": [
       "<Figure size 500x500 with 1 Axes>"
      ]
     },
     "metadata": {},
     "output_type": "display_data"
    }
   ],
   "source": [
    "import geopandas as gpd\n",
    "import matplotlib.pyplot as plt\n",
    "\n",
    "f,ax = plt.subplots(figsize=(5,5))\n",
    "\n",
    "gpd.GeoDataFrame([point] , columns=[\"geometry\"]).plot(ax=ax , facecolor=\"red\")\n",
    "gpd.GeoDataFrame([line] , columns=[\"geometry\"]).plot(ax=ax , edgecolor=\"k\", linewidth=2)"
   ]
  },
  {
   "cell_type": "code",
   "execution_count": 23,
   "id": "29da14a6",
   "metadata": {},
   "outputs": [
    {
     "data": {
      "image/svg+xml": [
       "<svg xmlns=\"http://www.w3.org/2000/svg\" xmlns:xlink=\"http://www.w3.org/1999/xlink\" width=\"100.0\" height=\"100.0\" viewBox=\"-0.08 -0.08 2.16 2.16\" preserveAspectRatio=\"xMinYMin meet\"><g transform=\"matrix(1,0,0,-1,0,2.0)\"><g><polyline fill=\"none\" stroke=\"#66cc99\" stroke-width=\"0.0432\" points=\"0.0,0.0 1.0,1.0\" opacity=\"0.8\" /><polyline fill=\"none\" stroke=\"#66cc99\" stroke-width=\"0.0432\" points=\"1.0,1.0 2.0,2.0\" opacity=\"0.8\" /></g></g></svg>"
      ],
      "text/plain": [
       "<GEOMETRYCOLLECTION (LINESTRING (0 0, 1 1), LINESTRING (1 1, 2 2))>"
      ]
     },
     "execution_count": 23,
     "metadata": {},
     "output_type": "execute_result"
    }
   ],
   "source": [
    "result = split(line , point)\n",
    "result"
   ]
  },
  {
   "cell_type": "code",
   "execution_count": 24,
   "id": "e90cf8ab",
   "metadata": {},
   "outputs": [
    {
     "data": {
      "text/plain": [
       "[<LINESTRING (0 0, 1 1)>, <LINESTRING (1 1, 2 2)>]"
      ]
     },
     "execution_count": 24,
     "metadata": {},
     "output_type": "execute_result"
    }
   ],
   "source": [
    "list(result.geoms)"
   ]
  },
  {
   "cell_type": "code",
   "execution_count": 25,
   "id": "b7f49027",
   "metadata": {},
   "outputs": [
    {
     "data": {
      "text/plain": [
       "<AxesSubplot:>"
      ]
     },
     "execution_count": 25,
     "metadata": {},
     "output_type": "execute_result"
    },
    {
     "data": {
      "image/png": "[encoded data removed]",
      "text/plain": [
       "<Figure size 500x500 with 1 Axes>"
      ]
     },
     "metadata": {},
     "output_type": "display_data"
    }
   ],
   "source": [
    "import geopandas as gpd\n",
    "import matplotlib.pyplot as plt\n",
    "\n",
    "f,ax = plt.subplots(figsize=(5,5))\n",
    "\n",
    "gpd.GeoDataFrame([point] , columns=[\"geometry\"]).plot(ax=ax , facecolor=\"gray\", linewidth=5)\n",
    "gpd.GeoDataFrame([line] , columns=[\"geometry\"]).plot(ax=ax , edgecolor=\"gray\", linewidth=5)\n",
    "\n",
    "gpd.GeoDataFrame([result.geoms[0]] , columns=[\"geometry\"]).plot(ax=ax , edgecolor=\"red\", linewidth=2)\n",
    "gpd.GeoDataFrame([result.geoms[1]] , columns=[\"geometry\"]).plot(ax=ax , edgecolor=\"yellow\", linewidth=2)"
   ]
  },
  {
   "cell_type": "code",
   "execution_count": null,
   "id": "2ea6e739",
   "metadata": {},
   "outputs": [],
   "source": []
  },
  {
   "cell_type": "code",
   "execution_count": null,
   "id": "dfeb9b75",
   "metadata": {},
   "outputs": [],
   "source": []
  },
  {
   "cell_type": "code",
   "execution_count": null,
   "id": "e401e499",
   "metadata": {},
   "outputs": [],
   "source": []
  },
  {
   "cell_type": "code",
   "execution_count": null,
   "id": "c1f8debe",
   "metadata": {},
   "outputs": [],
   "source": []
  },
  {
   "cell_type": "code",
   "execution_count": null,
   "id": "372b8154",
   "metadata": {},
   "outputs": [],
   "source": []
  },
  {
   "cell_type": "code",
   "execution_count": null,
   "id": "8bbda28c",
   "metadata": {},
   "outputs": [],
   "source": []
  },
  {
   "cell_type": "code",
   "execution_count": null,
   "id": "4150b76f",
   "metadata": {},
   "outputs": [],
   "source": []
  },
  {
   "cell_type": "code",
   "execution_count": null,
   "id": "d4a0e788",
   "metadata": {},
   "outputs": [],
   "source": []
  },
  {
   "cell_type": "code",
   "execution_count": null,
   "id": "61f9910f",
   "metadata": {},
   "outputs": [],
   "source": []
  },
  {
   "cell_type": "code",
   "execution_count": null,
   "id": "2b912dcc",
   "metadata": {},
   "outputs": [],
   "source": []
  },
  {
   "cell_type": "code",
   "execution_count": null,
   "id": "f6fa51e0",
   "metadata": {},
   "outputs": [],
   "source": []
  }
 ],
 "metadata": {
  "kernelspec": {
   "display_name": "Python 3 (ipykernel)",
   "language": "python",
   "name": "python3"
  },
  "language_info": {
   "codemirror_mode": {
    "name": "ipython",
    "version": 3
   },
   "file_extension": ".py",
   "mimetype": "text/x-python",
   "name": "python",
   "nbconvert_exporter": "python",
   "pygments_lexer": "ipython3",
   "version": "3.9.16"
  }
 },
 "nbformat": 4,
 "nbformat_minor": 5
}
